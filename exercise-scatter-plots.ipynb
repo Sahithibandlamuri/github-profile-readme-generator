{
 "cells": [
  {
   "cell_type": "markdown",
   "id": "9c71fc8e",
   "metadata": {
    "papermill": {
     "duration": 0.012033,
     "end_time": "2023-12-18T10:07:01.686370",
     "exception": false,
     "start_time": "2023-12-18T10:07:01.674337",
     "status": "completed"
    },
    "tags": []
   },
   "source": [
    "**This notebook is an exercise in the [Data Visualization](https://www.kaggle.com/learn/data-visualization) course.  You can reference the tutorial at [this link](https://www.kaggle.com/alexisbcook/scatter-plots).**\n",
    "\n",
    "---\n"
   ]
  },
  {
   "cell_type": "markdown",
   "id": "c5b7db1e",
   "metadata": {
    "papermill": {
     "duration": 0.011924,
     "end_time": "2023-12-18T10:07:01.710027",
     "exception": false,
     "start_time": "2023-12-18T10:07:01.698103",
     "status": "completed"
    },
    "tags": []
   },
   "source": [
    "In this exercise, you will use your new knowledge to propose a solution to a real-world scenario.  To succeed, you will need to import data into Python, answer questions using the data, and generate **scatter plots** to understand patterns in the data.\n",
    "\n",
    "## Scenario\n",
    "\n",
    "You work for a major candy producer, and your goal is to write a report that your company can use to guide the design of its next product.  Soon after starting your research, you stumble across this [very interesting dataset](https://fivethirtyeight.com/features/the-ultimate-halloween-candy-power-ranking/) containing results from a fun survey to crowdsource favorite candies.\n",
    "\n",
    "## Setup\n",
    "\n",
    "Run the next cell to import and configure the Python libraries that you need to complete the exercise."
   ]
  },
  {
   "cell_type": "code",
   "execution_count": 1,
   "id": "68d291e8",
   "metadata": {
    "execution": {
     "iopub.execute_input": "2023-12-18T10:07:01.736323Z",
     "iopub.status.busy": "2023-12-18T10:07:01.735943Z",
     "iopub.status.idle": "2023-12-18T10:07:03.552978Z",
     "shell.execute_reply": "2023-12-18T10:07:03.551914Z"
    },
    "papermill": {
     "duration": 1.833615,
     "end_time": "2023-12-18T10:07:03.555549",
     "exception": false,
     "start_time": "2023-12-18T10:07:01.721934",
     "status": "completed"
    },
    "tags": []
   },
   "outputs": [
    {
     "name": "stdout",
     "output_type": "stream",
     "text": [
      "Setup Complete\n"
     ]
    }
   ],
   "source": [
    "import pandas as pd\n",
    "pd.plotting.register_matplotlib_converters()\n",
    "import matplotlib.pyplot as plt\n",
    "%matplotlib inline\n",
    "import seaborn as sns\n",
    "print(\"Setup Complete\")"
   ]
  },
  {
   "cell_type": "markdown",
   "id": "b6387d5a",
   "metadata": {
    "papermill": {
     "duration": 0.012112,
     "end_time": "2023-12-18T10:07:03.579858",
     "exception": false,
     "start_time": "2023-12-18T10:07:03.567746",
     "status": "completed"
    },
    "tags": []
   },
   "source": [
    "The questions below will give you feedback on your work. Run the following cell to set up our feedback system."
   ]
  },
  {
   "cell_type": "code",
   "execution_count": 2,
   "id": "1285ea63",
   "metadata": {
    "execution": {
     "iopub.execute_input": "2023-12-18T10:07:03.606353Z",
     "iopub.status.busy": "2023-12-18T10:07:03.605517Z",
     "iopub.status.idle": "2023-12-18T10:07:03.678713Z",
     "shell.execute_reply": "2023-12-18T10:07:03.677461Z"
    },
    "papermill": {
     "duration": 0.089231,
     "end_time": "2023-12-18T10:07:03.681175",
     "exception": false,
     "start_time": "2023-12-18T10:07:03.591944",
     "status": "completed"
    },
    "tags": []
   },
   "outputs": [
    {
     "name": "stdout",
     "output_type": "stream",
     "text": [
      "Setup Complete\n"
     ]
    }
   ],
   "source": [
    "# Set up code checking\n",
    "import os\n",
    "if not os.path.exists(\"../input/candy.csv\"):\n",
    "    os.symlink(\"../input/data-for-datavis/candy.csv\", \"../input/candy.csv\") \n",
    "from learntools.core import binder\n",
    "binder.bind(globals())\n",
    "from learntools.data_viz_to_coder.ex4 import *\n",
    "print(\"Setup Complete\")"
   ]
  },
  {
   "cell_type": "markdown",
   "id": "28801958",
   "metadata": {
    "papermill": {
     "duration": 0.011609,
     "end_time": "2023-12-18T10:07:03.704844",
     "exception": false,
     "start_time": "2023-12-18T10:07:03.693235",
     "status": "completed"
    },
    "tags": []
   },
   "source": [
    "## Step 1: Load the Data\n",
    "\n",
    "Read the candy data file into `candy_data`.  Use the `\"id\"` column to label the rows."
   ]
  },
  {
   "cell_type": "code",
   "execution_count": 3,
   "id": "5654024d",
   "metadata": {
    "execution": {
     "iopub.execute_input": "2023-12-18T10:07:03.730977Z",
     "iopub.status.busy": "2023-12-18T10:07:03.730561Z",
     "iopub.status.idle": "2023-12-18T10:07:03.749596Z",
     "shell.execute_reply": "2023-12-18T10:07:03.748559Z"
    },
    "papermill": {
     "duration": 0.034529,
     "end_time": "2023-12-18T10:07:03.751920",
     "exception": false,
     "start_time": "2023-12-18T10:07:03.717391",
     "status": "completed"
    },
    "tags": []
   },
   "outputs": [
    {
     "data": {
      "application/javascript": [
       "parent.postMessage({\"jupyterEvent\": \"custom.exercise_interaction\", \"data\": {\"outcomeType\": 1, \"valueTowardsCompletion\": 0.3333333333333333, \"interactionType\": 1, \"questionType\": 1, \"questionId\": \"1_LoadData\", \"learnToolsVersion\": \"0.3.4\", \"failureMessage\": \"\", \"exceptionClass\": \"\", \"trace\": \"\"}}, \"*\")"
      ],
      "text/plain": [
       "<IPython.core.display.Javascript object>"
      ]
     },
     "metadata": {},
     "output_type": "display_data"
    },
    {
     "data": {
      "text/markdown": [
       "<span style=\"color:#33cc33\">Correct</span>"
      ],
      "text/plain": [
       "Correct"
      ]
     },
     "metadata": {},
     "output_type": "display_data"
    }
   ],
   "source": [
    "# Path of the file to read\n",
    "candy_filepath = \"../input/candy.csv\"\n",
    "\n",
    "# Fill in the line below to read the file into a variable candy_data\n",
    "candy_data = pd.read_csv(candy_filepath, index_col=\"id\")\n",
    "\n",
    "# Run the line below with no changes to check that you've loaded the data correctly\n",
    "step_1.check()"
   ]
  },
  {
   "cell_type": "code",
   "execution_count": 4,
   "id": "fa5c09a7",
   "metadata": {
    "execution": {
     "iopub.execute_input": "2023-12-18T10:07:03.778739Z",
     "iopub.status.busy": "2023-12-18T10:07:03.778353Z",
     "iopub.status.idle": "2023-12-18T10:07:03.781905Z",
     "shell.execute_reply": "2023-12-18T10:07:03.781185Z"
    },
    "papermill": {
     "duration": 0.01964,
     "end_time": "2023-12-18T10:07:03.784051",
     "exception": false,
     "start_time": "2023-12-18T10:07:03.764411",
     "status": "completed"
    },
    "tags": []
   },
   "outputs": [],
   "source": [
    "# Lines below will give you a hint or solution code\n",
    "#step_1.hint()\n",
    "#step_1.solution()"
   ]
  },
  {
   "cell_type": "markdown",
   "id": "397909dc",
   "metadata": {
    "papermill": {
     "duration": 0.011942,
     "end_time": "2023-12-18T10:07:03.808178",
     "exception": false,
     "start_time": "2023-12-18T10:07:03.796236",
     "status": "completed"
    },
    "tags": []
   },
   "source": [
    "## Step 2: Review the data\n",
    "\n",
    "Use a Python command to print the first five rows of the data."
   ]
  },
  {
   "cell_type": "code",
   "execution_count": 5,
   "id": "360404e4",
   "metadata": {
    "execution": {
     "iopub.execute_input": "2023-12-18T10:07:03.834707Z",
     "iopub.status.busy": "2023-12-18T10:07:03.834028Z",
     "iopub.status.idle": "2023-12-18T10:07:03.856666Z",
     "shell.execute_reply": "2023-12-18T10:07:03.855583Z"
    },
    "papermill": {
     "duration": 0.038665,
     "end_time": "2023-12-18T10:07:03.859089",
     "exception": false,
     "start_time": "2023-12-18T10:07:03.820424",
     "status": "completed"
    },
    "tags": []
   },
   "outputs": [
    {
     "data": {
      "text/html": [
       "<div>\n",
       "<style scoped>\n",
       "    .dataframe tbody tr th:only-of-type {\n",
       "        vertical-align: middle;\n",
       "    }\n",
       "\n",
       "    .dataframe tbody tr th {\n",
       "        vertical-align: top;\n",
       "    }\n",
       "\n",
       "    .dataframe thead th {\n",
       "        text-align: right;\n",
       "    }\n",
       "</style>\n",
       "<table border=\"1\" class=\"dataframe\">\n",
       "  <thead>\n",
       "    <tr style=\"text-align: right;\">\n",
       "      <th></th>\n",
       "      <th>competitorname</th>\n",
       "      <th>chocolate</th>\n",
       "      <th>fruity</th>\n",
       "      <th>caramel</th>\n",
       "      <th>peanutyalmondy</th>\n",
       "      <th>nougat</th>\n",
       "      <th>crispedricewafer</th>\n",
       "      <th>hard</th>\n",
       "      <th>bar</th>\n",
       "      <th>pluribus</th>\n",
       "      <th>sugarpercent</th>\n",
       "      <th>pricepercent</th>\n",
       "      <th>winpercent</th>\n",
       "    </tr>\n",
       "    <tr>\n",
       "      <th>id</th>\n",
       "      <th></th>\n",
       "      <th></th>\n",
       "      <th></th>\n",
       "      <th></th>\n",
       "      <th></th>\n",
       "      <th></th>\n",
       "      <th></th>\n",
       "      <th></th>\n",
       "      <th></th>\n",
       "      <th></th>\n",
       "      <th></th>\n",
       "      <th></th>\n",
       "      <th></th>\n",
       "    </tr>\n",
       "  </thead>\n",
       "  <tbody>\n",
       "    <tr>\n",
       "      <th>0</th>\n",
       "      <td>100 Grand</td>\n",
       "      <td>Yes</td>\n",
       "      <td>No</td>\n",
       "      <td>Yes</td>\n",
       "      <td>No</td>\n",
       "      <td>No</td>\n",
       "      <td>Yes</td>\n",
       "      <td>No</td>\n",
       "      <td>Yes</td>\n",
       "      <td>No</td>\n",
       "      <td>0.732</td>\n",
       "      <td>0.860</td>\n",
       "      <td>66.971725</td>\n",
       "    </tr>\n",
       "    <tr>\n",
       "      <th>1</th>\n",
       "      <td>3 Musketeers</td>\n",
       "      <td>Yes</td>\n",
       "      <td>No</td>\n",
       "      <td>No</td>\n",
       "      <td>No</td>\n",
       "      <td>Yes</td>\n",
       "      <td>No</td>\n",
       "      <td>No</td>\n",
       "      <td>Yes</td>\n",
       "      <td>No</td>\n",
       "      <td>0.604</td>\n",
       "      <td>0.511</td>\n",
       "      <td>67.602936</td>\n",
       "    </tr>\n",
       "    <tr>\n",
       "      <th>2</th>\n",
       "      <td>Air Heads</td>\n",
       "      <td>No</td>\n",
       "      <td>Yes</td>\n",
       "      <td>No</td>\n",
       "      <td>No</td>\n",
       "      <td>No</td>\n",
       "      <td>No</td>\n",
       "      <td>No</td>\n",
       "      <td>No</td>\n",
       "      <td>No</td>\n",
       "      <td>0.906</td>\n",
       "      <td>0.511</td>\n",
       "      <td>52.341465</td>\n",
       "    </tr>\n",
       "    <tr>\n",
       "      <th>3</th>\n",
       "      <td>Almond Joy</td>\n",
       "      <td>Yes</td>\n",
       "      <td>No</td>\n",
       "      <td>No</td>\n",
       "      <td>Yes</td>\n",
       "      <td>No</td>\n",
       "      <td>No</td>\n",
       "      <td>No</td>\n",
       "      <td>Yes</td>\n",
       "      <td>No</td>\n",
       "      <td>0.465</td>\n",
       "      <td>0.767</td>\n",
       "      <td>50.347546</td>\n",
       "    </tr>\n",
       "    <tr>\n",
       "      <th>4</th>\n",
       "      <td>Baby Ruth</td>\n",
       "      <td>Yes</td>\n",
       "      <td>No</td>\n",
       "      <td>Yes</td>\n",
       "      <td>Yes</td>\n",
       "      <td>Yes</td>\n",
       "      <td>No</td>\n",
       "      <td>No</td>\n",
       "      <td>Yes</td>\n",
       "      <td>No</td>\n",
       "      <td>0.604</td>\n",
       "      <td>0.767</td>\n",
       "      <td>56.914547</td>\n",
       "    </tr>\n",
       "  </tbody>\n",
       "</table>\n",
       "</div>"
      ],
      "text/plain": [
       "   competitorname chocolate fruity caramel peanutyalmondy nougat  \\\n",
       "id                                                                 \n",
       "0       100 Grand       Yes     No     Yes             No     No   \n",
       "1    3 Musketeers       Yes     No      No             No    Yes   \n",
       "2       Air Heads        No    Yes      No             No     No   \n",
       "3      Almond Joy       Yes     No      No            Yes     No   \n",
       "4       Baby Ruth       Yes     No     Yes            Yes    Yes   \n",
       "\n",
       "   crispedricewafer hard  bar pluribus  sugarpercent  pricepercent  winpercent  \n",
       "id                                                                              \n",
       "0               Yes   No  Yes       No         0.732         0.860   66.971725  \n",
       "1                No   No  Yes       No         0.604         0.511   67.602936  \n",
       "2                No   No   No       No         0.906         0.511   52.341465  \n",
       "3                No   No  Yes       No         0.465         0.767   50.347546  \n",
       "4                No   No  Yes       No         0.604         0.767   56.914547  "
      ]
     },
     "execution_count": 5,
     "metadata": {},
     "output_type": "execute_result"
    }
   ],
   "source": [
    "# Print the first five rows of the data\n",
    "____ # Your code here\n",
    "candy_data.head()"
   ]
  },
  {
   "cell_type": "markdown",
   "id": "ca2aecbf",
   "metadata": {
    "papermill": {
     "duration": 0.012588,
     "end_time": "2023-12-18T10:07:03.884883",
     "exception": false,
     "start_time": "2023-12-18T10:07:03.872295",
     "status": "completed"
    },
    "tags": []
   },
   "source": [
    "The dataset contains 83 rows, where each corresponds to a different candy bar.  There are 13 columns:\n",
    "- `'competitorname'` contains the name of the candy bar. \n",
    "- the next **9** columns (from `'chocolate'` to `'pluribus'`) describe the candy.  For instance, rows with chocolate candies have `\"Yes\"` in the `'chocolate'` column (and candies without chocolate have `\"No\"` in the same column).\n",
    "- `'sugarpercent'` provides some indication of the amount of sugar, where higher values signify higher sugar content.\n",
    "- `'pricepercent'` shows the price per unit, relative to the other candies in the dataset.\n",
    "- `'winpercent'` is calculated from the survey results; higher values indicate that the candy was more popular with survey respondents.\n",
    "\n",
    "Use the first five rows of the data to answer the questions below."
   ]
  },
  {
   "cell_type": "code",
   "execution_count": 6,
   "id": "4f69ba98",
   "metadata": {
    "execution": {
     "iopub.execute_input": "2023-12-18T10:07:03.912402Z",
     "iopub.status.busy": "2023-12-18T10:07:03.911971Z",
     "iopub.status.idle": "2023-12-18T10:07:03.921640Z",
     "shell.execute_reply": "2023-12-18T10:07:03.920594Z"
    },
    "papermill": {
     "duration": 0.026303,
     "end_time": "2023-12-18T10:07:03.924187",
     "exception": false,
     "start_time": "2023-12-18T10:07:03.897884",
     "status": "completed"
    },
    "tags": []
   },
   "outputs": [
    {
     "data": {
      "application/javascript": [
       "parent.postMessage({\"jupyterEvent\": \"custom.exercise_interaction\", \"data\": {\"outcomeType\": 1, \"valueTowardsCompletion\": 0.3333333333333333, \"interactionType\": 1, \"questionType\": 1, \"questionId\": \"2_ReviewData\", \"learnToolsVersion\": \"0.3.4\", \"failureMessage\": \"\", \"exceptionClass\": \"\", \"trace\": \"\"}}, \"*\")"
      ],
      "text/plain": [
       "<IPython.core.display.Javascript object>"
      ]
     },
     "metadata": {},
     "output_type": "display_data"
    },
    {
     "data": {
      "text/markdown": [
       "<span style=\"color:#33cc33\">Correct</span>"
      ],
      "text/plain": [
       "Correct"
      ]
     },
     "metadata": {},
     "output_type": "display_data"
    }
   ],
   "source": [
    "# Fill in the line below: Which candy was more popular with survey respondents:\n",
    "# '3 Musketeers' or 'Almond Joy'?  (Please enclose your answer in single quotes.)\n",
    "more_popular = '3 Musketeers'\n",
    "# Fill in the line below: Which candy has higher sugar content: 'Air Heads'\n",
    "# or 'Baby Ruth'? (Please enclose your answer in single quotes.)\n",
    "more_sugar = 'Air Heads'\n",
    "\n",
    "# Check your answers\n",
    "step_2.check()"
   ]
  },
  {
   "cell_type": "code",
   "execution_count": 7,
   "id": "e1f30b6e",
   "metadata": {
    "execution": {
     "iopub.execute_input": "2023-12-18T10:07:03.952728Z",
     "iopub.status.busy": "2023-12-18T10:07:03.951937Z",
     "iopub.status.idle": "2023-12-18T10:07:03.956555Z",
     "shell.execute_reply": "2023-12-18T10:07:03.955790Z"
    },
    "papermill": {
     "duration": 0.021279,
     "end_time": "2023-12-18T10:07:03.958819",
     "exception": false,
     "start_time": "2023-12-18T10:07:03.937540",
     "status": "completed"
    },
    "tags": []
   },
   "outputs": [],
   "source": [
    "# Lines below will give you a hint or solution code\n",
    "#step_2.hint()\n",
    "#step_2.solution()"
   ]
  },
  {
   "cell_type": "markdown",
   "id": "9014be13",
   "metadata": {
    "papermill": {
     "duration": 0.012462,
     "end_time": "2023-12-18T10:07:03.984260",
     "exception": false,
     "start_time": "2023-12-18T10:07:03.971798",
     "status": "completed"
    },
    "tags": []
   },
   "source": [
    "## Step 3: The role of sugar\n",
    "\n",
    "Do people tend to prefer candies with higher sugar content?  \n",
    "\n",
    "#### Part A\n",
    "\n",
    "Create a scatter plot that shows the relationship between `'sugarpercent'` (on the horizontal x-axis) and `'winpercent'` (on the vertical y-axis).  _Don't add a regression line just yet -- you'll do that in the next step!_"
   ]
  },
  {
   "cell_type": "code",
   "execution_count": 8,
   "id": "8e261de7",
   "metadata": {
    "execution": {
     "iopub.execute_input": "2023-12-18T10:07:04.012438Z",
     "iopub.status.busy": "2023-12-18T10:07:04.011608Z",
     "iopub.status.idle": "2023-12-18T10:07:04.327954Z",
     "shell.execute_reply": "2023-12-18T10:07:04.327019Z"
    },
    "papermill": {
     "duration": 0.332903,
     "end_time": "2023-12-18T10:07:04.330173",
     "exception": false,
     "start_time": "2023-12-18T10:07:03.997270",
     "status": "completed"
    },
    "tags": []
   },
   "outputs": [
    {
     "data": {
      "application/javascript": [
       "parent.postMessage({\"jupyterEvent\": \"custom.exercise_interaction\", \"data\": {\"outcomeType\": 1, \"valueTowardsCompletion\": 0.3333333333333333, \"interactionType\": 1, \"questionType\": 2, \"questionId\": \"3.1_PlotBlueScatter\", \"learnToolsVersion\": \"0.3.4\", \"failureMessage\": \"\", \"exceptionClass\": \"\", \"trace\": \"\"}}, \"*\")"
      ],
      "text/plain": [
       "<IPython.core.display.Javascript object>"
      ]
     },
     "metadata": {},
     "output_type": "display_data"
    },
    {
     "data": {
      "text/markdown": [
       "<span style=\"color:#33cc33\">Correct</span>"
      ],
      "text/plain": [
       "Correct"
      ]
     },
     "metadata": {},
     "output_type": "display_data"
    },
    {
     "data": {
      "image/png": "[encoded data removed]",
      "text/plain": [
       "<Figure size 640x480 with 1 Axes>"
      ]
     },
     "metadata": {},
     "output_type": "display_data"
    }
   ],
   "source": [
    "# Scatter plot showing the relationship between 'sugarpercent' and 'winpercent'\n",
    "____ # Your code here\n",
    "sns.scatterplot(x=candy_data['sugarpercent'], y=candy_data['winpercent'])\n",
    "# Check your answer\n",
    "step_3.a.check()"
   ]
  },
  {
   "cell_type": "code",
   "execution_count": 9,
   "id": "a7dc95ad",
   "metadata": {
    "execution": {
     "iopub.execute_input": "2023-12-18T10:07:04.360263Z",
     "iopub.status.busy": "2023-12-18T10:07:04.359236Z",
     "iopub.status.idle": "2023-12-18T10:07:04.365202Z",
     "shell.execute_reply": "2023-12-18T10:07:04.363842Z"
    },
    "papermill": {
     "duration": 0.023751,
     "end_time": "2023-12-18T10:07:04.367556",
     "exception": false,
     "start_time": "2023-12-18T10:07:04.343805",
     "status": "completed"
    },
    "tags": []
   },
   "outputs": [
    {
     "name": "stdout",
     "output_type": "stream",
     "text": [
      "The scatter plot does not show a strong correlation between the two variables. Since there is no clear relationship between the two variables, this tells us that sugar content does not play a strong role in candy popularity.\n"
     ]
    }
   ],
   "source": [
    "# Lines below will give you a hint or solution code\n",
    "print(\"The scatter plot does not show a strong correlation between the two variables. Since there is no clear relationship between the two variables, this tells us that sugar content does not play a strong role in candy popularity.\")\n",
    "#step_3.a.hint()\n",
    "#step_3.a.solution_plot()"
   ]
  },
  {
   "cell_type": "markdown",
   "id": "0977881a",
   "metadata": {
    "papermill": {
     "duration": 0.013304,
     "end_time": "2023-12-18T10:07:04.394648",
     "exception": false,
     "start_time": "2023-12-18T10:07:04.381344",
     "status": "completed"
    },
    "tags": []
   },
   "source": [
    "#### Part B\n",
    "\n",
    "Does the scatter plot show a **strong** correlation between the two variables?  If so, are candies with more sugar relatively more or less popular with the survey respondents?"
   ]
  },
  {
   "cell_type": "code",
   "execution_count": 10,
   "id": "8e22d9ab",
   "metadata": {
    "execution": {
     "iopub.execute_input": "2023-12-18T10:07:04.423926Z",
     "iopub.status.busy": "2023-12-18T10:07:04.423502Z",
     "iopub.status.idle": "2023-12-18T10:07:04.427965Z",
     "shell.execute_reply": "2023-12-18T10:07:04.426902Z"
    },
    "papermill": {
     "duration": 0.021633,
     "end_time": "2023-12-18T10:07:04.430117",
     "exception": false,
     "start_time": "2023-12-18T10:07:04.408484",
     "status": "completed"
    },
    "tags": []
   },
   "outputs": [],
   "source": [
    "#step_3.b.hint()"
   ]
  },
  {
   "cell_type": "code",
   "execution_count": 11,
   "id": "adead6d1",
   "metadata": {
    "execution": {
     "iopub.execute_input": "2023-12-18T10:07:04.459348Z",
     "iopub.status.busy": "2023-12-18T10:07:04.458714Z",
     "iopub.status.idle": "2023-12-18T10:07:04.463406Z",
     "shell.execute_reply": "2023-12-18T10:07:04.462376Z"
    },
    "papermill": {
     "duration": 0.021817,
     "end_time": "2023-12-18T10:07:04.465532",
     "exception": false,
     "start_time": "2023-12-18T10:07:04.443715",
     "status": "completed"
    },
    "tags": []
   },
   "outputs": [],
   "source": [
    "# Check your answer (Run this code cell to receive credit!)\n",
    "#step_3.b.solution()"
   ]
  },
  {
   "cell_type": "markdown",
   "id": "24f2a3ed",
   "metadata": {
    "papermill": {
     "duration": 0.013431,
     "end_time": "2023-12-18T10:07:04.492954",
     "exception": false,
     "start_time": "2023-12-18T10:07:04.479523",
     "status": "completed"
    },
    "tags": []
   },
   "source": [
    "## Step 4: Take a closer look\n",
    "\n",
    "#### Part A\n",
    "\n",
    "Create the same scatter plot you created in **Step 3**, but now with a regression line!"
   ]
  },
  {
   "cell_type": "code",
   "execution_count": 12,
   "id": "fe308658",
   "metadata": {
    "execution": {
     "iopub.execute_input": "2023-12-18T10:07:04.522421Z",
     "iopub.status.busy": "2023-12-18T10:07:04.522008Z",
     "iopub.status.idle": "2023-12-18T10:07:04.889575Z",
     "shell.execute_reply": "2023-12-18T10:07:04.886628Z"
    },
    "papermill": {
     "duration": 0.385442,
     "end_time": "2023-12-18T10:07:04.892397",
     "exception": false,
     "start_time": "2023-12-18T10:07:04.506955",
     "status": "completed"
    },
    "tags": []
   },
   "outputs": [
    {
     "data": {
      "application/javascript": [
       "parent.postMessage({\"jupyterEvent\": \"custom.exercise_interaction\", \"data\": {\"outcomeType\": 1, \"valueTowardsCompletion\": 0.3333333333333333, \"interactionType\": 1, \"questionType\": 2, \"questionId\": \"4.1_PlotBlueReg\", \"learnToolsVersion\": \"0.3.4\", \"failureMessage\": \"\", \"exceptionClass\": \"\", \"trace\": \"\"}}, \"*\")"
      ],
      "text/plain": [
       "<IPython.core.display.Javascript object>"
      ]
     },
     "metadata": {},
     "output_type": "display_data"
    },
    {
     "data": {
      "text/markdown": [
       "<span style=\"color:#33cc33\">Correct</span>"
      ],
      "text/plain": [
       "Correct"
      ]
     },
     "metadata": {},
     "output_type": "display_data"
    },
    {
     "data": {
      "image/png": "[encoded data removed]",
      "text/plain": [
       "<Figure size 640x480 with 1 Axes>"
      ]
     },
     "metadata": {},
     "output_type": "display_data"
    }
   ],
   "source": [
    "# Scatter plot w/ regression line showing the relationship between 'sugarpercent' and 'winpercent'\n",
    "____ # Your code here\n",
    "sns.regplot(x=candy_data['sugarpercent'], y=candy_data['winpercent'])\n",
    "\n",
    "# Check your answer\n",
    "step_4.a.check()"
   ]
  },
  {
   "cell_type": "code",
   "execution_count": 13,
   "id": "7dd91061",
   "metadata": {
    "execution": {
     "iopub.execute_input": "2023-12-18T10:07:04.924326Z",
     "iopub.status.busy": "2023-12-18T10:07:04.923561Z",
     "iopub.status.idle": "2023-12-18T10:07:04.929593Z",
     "shell.execute_reply": "2023-12-18T10:07:04.928479Z"
    },
    "papermill": {
     "duration": 0.025228,
     "end_time": "2023-12-18T10:07:04.932656",
     "exception": false,
     "start_time": "2023-12-18T10:07:04.907428",
     "status": "completed"
    },
    "tags": []
   },
   "outputs": [
    {
     "name": "stdout",
     "output_type": "stream",
     "text": [
      " Since the regression line has a slightly positive slope, this tells us that there is a slightly positive correlation between 'winpercent' and 'sugarpercent'. Thus, people have a slight preference for candies containing relatively more sugar.\n"
     ]
    }
   ],
   "source": [
    "# Lines below will give you a hint or solution code\n",
    "print(\" Since the regression line has a slightly positive slope, this tells us that there is a slightly positive correlation between 'winpercent' and 'sugarpercent'. Thus, people have a slight preference for candies containing relatively more sugar.\")\n",
    "#step_4.a.hint()\n",
    "#step_4.a.solution_plot()"
   ]
  },
  {
   "cell_type": "markdown",
   "id": "4161f291",
   "metadata": {
    "papermill": {
     "duration": 0.014318,
     "end_time": "2023-12-18T10:07:04.961738",
     "exception": false,
     "start_time": "2023-12-18T10:07:04.947420",
     "status": "completed"
    },
    "tags": []
   },
   "source": [
    "#### Part B\n",
    "\n",
    "According to the plot above, is there a **slight** correlation between `'winpercent'` and `'sugarpercent'`?  What does this tell you about the candy that people tend to prefer?"
   ]
  },
  {
   "cell_type": "code",
   "execution_count": 14,
   "id": "0523b02c",
   "metadata": {
    "execution": {
     "iopub.execute_input": "2023-12-18T10:07:05.052992Z",
     "iopub.status.busy": "2023-12-18T10:07:05.051935Z",
     "iopub.status.idle": "2023-12-18T10:07:05.056541Z",
     "shell.execute_reply": "2023-12-18T10:07:05.055564Z"
    },
    "papermill": {
     "duration": 0.022802,
     "end_time": "2023-12-18T10:07:05.058622",
     "exception": false,
     "start_time": "2023-12-18T10:07:05.035820",
     "status": "completed"
    },
    "tags": []
   },
   "outputs": [],
   "source": [
    "#step_4.b.hint()"
   ]
  },
  {
   "cell_type": "code",
   "execution_count": 15,
   "id": "1907455f",
   "metadata": {
    "execution": {
     "iopub.execute_input": "2023-12-18T10:07:05.090814Z",
     "iopub.status.busy": "2023-12-18T10:07:05.090098Z",
     "iopub.status.idle": "2023-12-18T10:07:05.097399Z",
     "shell.execute_reply": "2023-12-18T10:07:05.096702Z"
    },
    "papermill": {
     "duration": 0.025518,
     "end_time": "2023-12-18T10:07:05.099378",
     "exception": false,
     "start_time": "2023-12-18T10:07:05.073860",
     "status": "completed"
    },
    "tags": []
   },
   "outputs": [
    {
     "data": {
      "application/javascript": [
       "parent.postMessage({\"jupyterEvent\": \"custom.exercise_interaction\", \"data\": {\"interactionType\": 3, \"questionType\": 4, \"questionId\": \"4.2_ThinkBlueReg\", \"learnToolsVersion\": \"0.3.4\", \"valueTowardsCompletion\": 0.0, \"failureMessage\": \"\", \"exceptionClass\": \"\", \"trace\": \"\", \"outcomeType\": 4}}, \"*\")"
      ],
      "text/plain": [
       "<IPython.core.display.Javascript object>"
      ]
     },
     "metadata": {},
     "output_type": "display_data"
    },
    {
     "data": {
      "text/markdown": [
       "<span style=\"color:#33cc99\">Solution:</span> Since the regression line has a slightly positive slope, this tells us that there is a slightly positive correlation between `'winpercent'` and `'sugarpercent'`. Thus, people have a slight preference for candies containing relatively more sugar."
      ],
      "text/plain": [
       "Solution: Since the regression line has a slightly positive slope, this tells us that there is a slightly positive correlation between `'winpercent'` and `'sugarpercent'`. Thus, people have a slight preference for candies containing relatively more sugar."
      ]
     },
     "metadata": {},
     "output_type": "display_data"
    }
   ],
   "source": [
    "# Check your answer (Run this code cell to receive credit!)\n",
    "step_4.b.solution()"
   ]
  },
  {
   "cell_type": "markdown",
   "id": "bf50da2c",
   "metadata": {
    "papermill": {
     "duration": 0.015012,
     "end_time": "2023-12-18T10:07:05.129663",
     "exception": false,
     "start_time": "2023-12-18T10:07:05.114651",
     "status": "completed"
    },
    "tags": []
   },
   "source": [
    "## Step 5: Chocolate!\n",
    "\n",
    "In the code cell below, create a scatter plot to show the relationship between `'pricepercent'` (on the horizontal x-axis) and `'winpercent'` (on the vertical y-axis). Use the `'chocolate'` column to color-code the points.  _Don't add any regression lines just yet -- you'll do that in the next step!_"
   ]
  },
  {
   "cell_type": "code",
   "execution_count": 16,
   "id": "46d781eb",
   "metadata": {
    "execution": {
     "iopub.execute_input": "2023-12-18T10:07:05.162715Z",
     "iopub.status.busy": "2023-12-18T10:07:05.161729Z",
     "iopub.status.idle": "2023-12-18T10:07:05.500306Z",
     "shell.execute_reply": "2023-12-18T10:07:05.499146Z"
    },
    "papermill": {
     "duration": 0.357675,
     "end_time": "2023-12-18T10:07:05.502796",
     "exception": false,
     "start_time": "2023-12-18T10:07:05.145121",
     "status": "completed"
    },
    "tags": []
   },
   "outputs": [
    {
     "data": {
      "application/javascript": [
       "parent.postMessage({\"jupyterEvent\": \"custom.exercise_interaction\", \"data\": {\"outcomeType\": 1, \"valueTowardsCompletion\": 0.3333333333333333, \"interactionType\": 1, \"questionType\": 2, \"questionId\": \"5_ColorScatter\", \"learnToolsVersion\": \"0.3.4\", \"failureMessage\": \"\", \"exceptionClass\": \"\", \"trace\": \"\"}}, \"*\")"
      ],
      "text/plain": [
       "<IPython.core.display.Javascript object>"
      ]
     },
     "metadata": {},
     "output_type": "display_data"
    },
    {
     "data": {
      "text/markdown": [
       "<span style=\"color:#33cc33\">Correct</span>"
      ],
      "text/plain": [
       "Correct"
      ]
     },
     "metadata": {},
     "output_type": "display_data"
    },
    {
     "data": {
      "image/png": "[encoded data removed]",
      "text/plain": [
       "<Figure size 640x480 with 1 Axes>"
      ]
     },
     "metadata": {},
     "output_type": "display_data"
    }
   ],
   "source": [
    "# Scatter plot showing the relationship between 'pricepercent', 'winpercent', and 'chocolate'\n",
    "____ # Your code here\n",
    "sns.scatterplot(x=candy_data['pricepercent'], y=candy_data['winpercent'], hue=candy_data['chocolate'])\n",
    "# Check your answer\n",
    "step_5.check()"
   ]
  },
  {
   "cell_type": "code",
   "execution_count": 17,
   "id": "263b0214",
   "metadata": {
    "execution": {
     "iopub.execute_input": "2023-12-18T10:07:05.536983Z",
     "iopub.status.busy": "2023-12-18T10:07:05.536320Z",
     "iopub.status.idle": "2023-12-18T10:07:05.540764Z",
     "shell.execute_reply": "2023-12-18T10:07:05.539992Z"
    },
    "papermill": {
     "duration": 0.023996,
     "end_time": "2023-12-18T10:07:05.542908",
     "exception": false,
     "start_time": "2023-12-18T10:07:05.518912",
     "status": "completed"
    },
    "tags": []
   },
   "outputs": [],
   "source": [
    "# Lines below will give you a hint or solution code\n",
    "#step_5.hint()\n",
    "#step_5.solution_plot()"
   ]
  },
  {
   "cell_type": "markdown",
   "id": "36f55b1f",
   "metadata": {
    "papermill": {
     "duration": 0.016525,
     "end_time": "2023-12-18T10:07:05.575730",
     "exception": false,
     "start_time": "2023-12-18T10:07:05.559205",
     "status": "completed"
    },
    "tags": []
   },
   "source": [
    "Can you see any interesting patterns in the scatter plot?  We'll investigate this plot further  by adding regression lines in the next step!\n",
    "\n",
    "## Step 6: Investigate chocolate\n",
    "\n",
    "#### Part A\n",
    "\n",
    "Create the same scatter plot you created in **Step 5**, but now with two regression lines, corresponding to (1) chocolate candies and (2) candies without chocolate."
   ]
  },
  {
   "cell_type": "code",
   "execution_count": 18,
   "id": "14ec2454",
   "metadata": {
    "execution": {
     "iopub.execute_input": "2023-12-18T10:07:05.609755Z",
     "iopub.status.busy": "2023-12-18T10:07:05.609325Z",
     "iopub.status.idle": "2023-12-18T10:07:06.522806Z",
     "shell.execute_reply": "2023-12-18T10:07:06.521653Z"
    },
    "papermill": {
     "duration": 0.933523,
     "end_time": "2023-12-18T10:07:06.525365",
     "exception": false,
     "start_time": "2023-12-18T10:07:05.591842",
     "status": "completed"
    },
    "tags": []
   },
   "outputs": [
    {
     "data": {
      "application/javascript": [
       "parent.postMessage({\"jupyterEvent\": \"custom.exercise_interaction\", \"data\": {\"outcomeType\": 1, \"valueTowardsCompletion\": 0.3333333333333333, \"interactionType\": 1, \"questionType\": 2, \"questionId\": \"6.1_PlotColorReg\", \"learnToolsVersion\": \"0.3.4\", \"failureMessage\": \"\", \"exceptionClass\": \"\", \"trace\": \"\"}}, \"*\")"
      ],
      "text/plain": [
       "<IPython.core.display.Javascript object>"
      ]
     },
     "metadata": {},
     "output_type": "display_data"
    },
    {
     "data": {
      "text/markdown": [
       "<span style=\"color:#33cc33\">Correct</span>"
      ],
      "text/plain": [
       "Correct"
      ]
     },
     "metadata": {},
     "output_type": "display_data"
    },
    {
     "data": {
      "image/png": "[encoded data removed]",
      "text/plain": [
       "<Figure size 578.611x500 with 1 Axes>"
      ]
     },
     "metadata": {},
     "output_type": "display_data"
    }
   ],
   "source": [
    "# Color-coded scatter plot w/ regression lines\n",
    "____ # Your code here\n",
    "sns.lmplot(x=\"pricepercent\", y=\"winpercent\", hue=\"chocolate\", data=candy_data)\n",
    "# Check your answer\n",
    "step_6.a.check()"
   ]
  },
  {
   "cell_type": "code",
   "execution_count": 19,
   "id": "ce638304",
   "metadata": {
    "execution": {
     "iopub.execute_input": "2023-12-18T10:07:06.561926Z",
     "iopub.status.busy": "2023-12-18T10:07:06.561515Z",
     "iopub.status.idle": "2023-12-18T10:07:06.567784Z",
     "shell.execute_reply": "2023-12-18T10:07:06.566704Z"
    },
    "papermill": {
     "duration": 0.027676,
     "end_time": "2023-12-18T10:07:06.570384",
     "exception": false,
     "start_time": "2023-12-18T10:07:06.542708",
     "status": "completed"
    },
    "tags": []
   },
   "outputs": [
    {
     "name": "stdout",
     "output_type": "stream",
     "text": [
      "We'll begin with the regression line for chocolate candies. Since this line has a slightly positive slope, we can say that more expensive chocolate candies tend to be more popular (than relatively cheaper chocolate candies). Likewise, since the regression line for candies without chocolate has a negative slope, we can say that if candies don't contain chocolate, they tend to be more popular when they are cheaper. One important note, however, is that the dataset is quite small -- so we shouldn't invest too much trust in these patterns! To inspire more confidence in the results, we should add more candies to the dataset.\n"
     ]
    }
   ],
   "source": [
    "# Lines below will give you a hint or solution code\n",
    "print(\"We'll begin with the regression line for chocolate candies. Since this line has a slightly positive slope, we can say that more expensive chocolate candies tend to be more popular (than relatively cheaper chocolate candies). Likewise, since the regression line for candies without chocolate has a negative slope, we can say that if candies don't contain chocolate, they tend to be more popular when they are cheaper. One important note, however, is that the dataset is quite small -- so we shouldn't invest too much trust in these patterns! To inspire more confidence in the results, we should add more candies to the dataset.\")\n",
    "#step_6.a.hint()\n",
    "#step_6.a.solution_plot()"
   ]
  },
  {
   "cell_type": "markdown",
   "id": "8778c0cd",
   "metadata": {
    "papermill": {
     "duration": 0.016985,
     "end_time": "2023-12-18T10:07:06.604691",
     "exception": false,
     "start_time": "2023-12-18T10:07:06.587706",
     "status": "completed"
    },
    "tags": []
   },
   "source": [
    "#### Part B\n",
    "\n",
    "Using the regression lines, what conclusions can you draw about the effects of chocolate and price on candy popularity?"
   ]
  },
  {
   "cell_type": "code",
   "execution_count": 20,
   "id": "fad2f9f3",
   "metadata": {
    "execution": {
     "iopub.execute_input": "2023-12-18T10:07:06.642917Z",
     "iopub.status.busy": "2023-12-18T10:07:06.641730Z",
     "iopub.status.idle": "2023-12-18T10:07:06.647031Z",
     "shell.execute_reply": "2023-12-18T10:07:06.646251Z"
    },
    "papermill": {
     "duration": 0.02725,
     "end_time": "2023-12-18T10:07:06.649347",
     "exception": false,
     "start_time": "2023-12-18T10:07:06.622097",
     "status": "completed"
    },
    "tags": []
   },
   "outputs": [],
   "source": [
    "#step_6.b.hint()"
   ]
  },
  {
   "cell_type": "code",
   "execution_count": 21,
   "id": "e77d4d52",
   "metadata": {
    "execution": {
     "iopub.execute_input": "2023-12-18T10:07:06.686651Z",
     "iopub.status.busy": "2023-12-18T10:07:06.685816Z",
     "iopub.status.idle": "2023-12-18T10:07:06.695121Z",
     "shell.execute_reply": "2023-12-18T10:07:06.694109Z"
    },
    "papermill": {
     "duration": 0.030558,
     "end_time": "2023-12-18T10:07:06.697402",
     "exception": false,
     "start_time": "2023-12-18T10:07:06.666844",
     "status": "completed"
    },
    "tags": []
   },
   "outputs": [
    {
     "data": {
      "application/javascript": [
       "parent.postMessage({\"jupyterEvent\": \"custom.exercise_interaction\", \"data\": {\"interactionType\": 3, \"questionType\": 4, \"questionId\": \"6.2_ThinkColorReg\", \"learnToolsVersion\": \"0.3.4\", \"valueTowardsCompletion\": 0.0, \"failureMessage\": \"\", \"exceptionClass\": \"\", \"trace\": \"\", \"outcomeType\": 4}}, \"*\")"
      ],
      "text/plain": [
       "<IPython.core.display.Javascript object>"
      ]
     },
     "metadata": {},
     "output_type": "display_data"
    },
    {
     "data": {
      "text/markdown": [
       "<span style=\"color:#33cc99\">Solution:</span> We'll begin with the regression line for chocolate candies. Since this line has a slightly positive slope, we can say that more expensive chocolate candies tend to be more popular (than relatively cheaper chocolate candies).  Likewise, since the regression line for candies without chocolate has a negative slope, we can say that if candies don't contain chocolate, they tend to be more popular when they are cheaper.  One important note, however, is that the dataset is quite small -- so we shouldn't invest too much trust in these patterns!  To inspire more confidence in the results, we should add more candies to the dataset."
      ],
      "text/plain": [
       "Solution: We'll begin with the regression line for chocolate candies. Since this line has a slightly positive slope, we can say that more expensive chocolate candies tend to be more popular (than relatively cheaper chocolate candies).  Likewise, since the regression line for candies without chocolate has a negative slope, we can say that if candies don't contain chocolate, they tend to be more popular when they are cheaper.  One important note, however, is that the dataset is quite small -- so we shouldn't invest too much trust in these patterns!  To inspire more confidence in the results, we should add more candies to the dataset."
      ]
     },
     "metadata": {},
     "output_type": "display_data"
    }
   ],
   "source": [
    "# Check your answer (Run this code cell to receive credit!)\n",
    "step_6.b.solution()"
   ]
  },
  {
   "cell_type": "markdown",
   "id": "2ccb9eef",
   "metadata": {
    "papermill": {
     "duration": 0.024283,
     "end_time": "2023-12-18T10:07:06.741582",
     "exception": false,
     "start_time": "2023-12-18T10:07:06.717299",
     "status": "completed"
    },
    "tags": []
   },
   "source": [
    "## Step 7: Everybody loves chocolate.\n",
    "\n",
    "#### Part A\n",
    "\n",
    "Create a categorical scatter plot to highlight the relationship between `'chocolate'` and `'winpercent'`.  Put `'chocolate'` on the (horizontal) x-axis, and `'winpercent'` on the (vertical) y-axis."
   ]
  },
  {
   "cell_type": "code",
   "execution_count": 22,
   "id": "f1480ef9",
   "metadata": {
    "execution": {
     "iopub.execute_input": "2023-12-18T10:07:06.789563Z",
     "iopub.status.busy": "2023-12-18T10:07:06.789188Z",
     "iopub.status.idle": "2023-12-18T10:07:07.334441Z",
     "shell.execute_reply": "2023-12-18T10:07:07.332963Z"
    },
    "papermill": {
     "duration": 0.571525,
     "end_time": "2023-12-18T10:07:07.339258",
     "exception": false,
     "start_time": "2023-12-18T10:07:06.767733",
     "status": "completed"
    },
    "tags": []
   },
   "outputs": [
    {
     "data": {
      "application/javascript": [
       "parent.postMessage({\"jupyterEvent\": \"custom.exercise_interaction\", \"data\": {\"outcomeType\": 1, \"valueTowardsCompletion\": 0.3333333333333333, \"interactionType\": 1, \"questionType\": 2, \"questionId\": \"7.1_PlotSwarm\", \"learnToolsVersion\": \"0.3.4\", \"failureMessage\": \"\", \"exceptionClass\": \"\", \"trace\": \"\"}}, \"*\")"
      ],
      "text/plain": [
       "<IPython.core.display.Javascript object>"
      ]
     },
     "metadata": {},
     "output_type": "display_data"
    },
    {
     "data": {
      "text/markdown": [
       "<span style=\"color:#33cc33\">Correct</span>"
      ],
      "text/plain": [
       "Correct"
      ]
     },
     "metadata": {},
     "output_type": "display_data"
    },
    {
     "data": {
      "image/png": "[encoded data removed]",
      "text/plain": [
       "<Figure size 640x480 with 1 Axes>"
      ]
     },
     "metadata": {},
     "output_type": "display_data"
    }
   ],
   "source": [
    "# Scatter plot showing the relationship between 'chocolate' and 'winpercent'\n",
    "____ # Your code here\n",
    "sns.swarmplot(x=candy_data['chocolate'], y=candy_data['winpercent'])\n",
    "# Check your answer\n",
    "step_7.a.check()"
   ]
  },
  {
   "cell_type": "code",
   "execution_count": 23,
   "id": "004ec8d4",
   "metadata": {
    "execution": {
     "iopub.execute_input": "2023-12-18T10:07:07.391897Z",
     "iopub.status.busy": "2023-12-18T10:07:07.391499Z",
     "iopub.status.idle": "2023-12-18T10:07:07.396378Z",
     "shell.execute_reply": "2023-12-18T10:07:07.395324Z"
    },
    "papermill": {
     "duration": 0.026557,
     "end_time": "2023-12-18T10:07:07.398556",
     "exception": false,
     "start_time": "2023-12-18T10:07:07.371999",
     "status": "completed"
    },
    "tags": []
   },
   "outputs": [
    {
     "name": "stdout",
     "output_type": "stream",
     "text": [
      "In this case, the categorical scatter plot from Step 7 is the more appropriate plot. While both plots tell the desired story, the plot from Step 6 conveys far more information that could distract from the main point.\n"
     ]
    }
   ],
   "source": [
    "# Lines below will give you a hint or solution code\n",
    "print(\"In this case, the categorical scatter plot from Step 7 is the more appropriate plot. While both plots tell the desired story, the plot from Step 6 conveys far more information that could distract from the main point.\")\n",
    "#step_7.a.hint()\n",
    "#step_7.a.solution_plot()"
   ]
  },
  {
   "cell_type": "markdown",
   "id": "c44cd07b",
   "metadata": {
    "papermill": {
     "duration": 0.018421,
     "end_time": "2023-12-18T10:07:07.435674",
     "exception": false,
     "start_time": "2023-12-18T10:07:07.417253",
     "status": "completed"
    },
    "tags": []
   },
   "source": [
    "#### Part B\n",
    "\n",
    "You decide to dedicate a section of your report to the fact that chocolate candies tend to be more popular than candies without chocolate.  Which plot is more appropriate to tell this story: the plot from **Step 6**, or the plot from **Step 7**?"
   ]
  },
  {
   "cell_type": "code",
   "execution_count": 24,
   "id": "837042f8",
   "metadata": {
    "execution": {
     "iopub.execute_input": "2023-12-18T10:07:07.474128Z",
     "iopub.status.busy": "2023-12-18T10:07:07.473711Z",
     "iopub.status.idle": "2023-12-18T10:07:07.478163Z",
     "shell.execute_reply": "2023-12-18T10:07:07.477003Z"
    },
    "papermill": {
     "duration": 0.026559,
     "end_time": "2023-12-18T10:07:07.480329",
     "exception": false,
     "start_time": "2023-12-18T10:07:07.453770",
     "status": "completed"
    },
    "tags": []
   },
   "outputs": [],
   "source": [
    "#step_7.b.hint()"
   ]
  },
  {
   "cell_type": "code",
   "execution_count": 25,
   "id": "d27b577b",
   "metadata": {
    "execution": {
     "iopub.execute_input": "2023-12-18T10:07:07.518543Z",
     "iopub.status.busy": "2023-12-18T10:07:07.518111Z",
     "iopub.status.idle": "2023-12-18T10:07:07.526583Z",
     "shell.execute_reply": "2023-12-18T10:07:07.525638Z"
    },
    "papermill": {
     "duration": 0.029839,
     "end_time": "2023-12-18T10:07:07.528555",
     "exception": false,
     "start_time": "2023-12-18T10:07:07.498716",
     "status": "completed"
    },
    "tags": []
   },
   "outputs": [
    {
     "data": {
      "application/javascript": [
       "parent.postMessage({\"jupyterEvent\": \"custom.exercise_interaction\", \"data\": {\"interactionType\": 3, \"questionType\": 4, \"questionId\": \"7.2_ThinkSwarm\", \"learnToolsVersion\": \"0.3.4\", \"valueTowardsCompletion\": 0.0, \"failureMessage\": \"\", \"exceptionClass\": \"\", \"trace\": \"\", \"outcomeType\": 4}}, \"*\")"
      ],
      "text/plain": [
       "<IPython.core.display.Javascript object>"
      ]
     },
     "metadata": {},
     "output_type": "display_data"
    },
    {
     "data": {
      "text/markdown": [
       "<span style=\"color:#33cc99\">Solution:</span> In this case, the categorical scatter plot from **Step 7** is the more appropriate plot. While both plots tell the desired story, the plot from **Step 6** conveys far more information that could distract from the main point."
      ],
      "text/plain": [
       "Solution: In this case, the categorical scatter plot from **Step 7** is the more appropriate plot. While both plots tell the desired story, the plot from **Step 6** conveys far more information that could distract from the main point."
      ]
     },
     "metadata": {},
     "output_type": "display_data"
    }
   ],
   "source": [
    "# Check your answer (Run this code cell to receive credit!)\n",
    "step_7.b.solution()"
   ]
  },
  {
   "cell_type": "markdown",
   "id": "7a24932e",
   "metadata": {
    "papermill": {
     "duration": 0.018276,
     "end_time": "2023-12-18T10:07:07.565368",
     "exception": false,
     "start_time": "2023-12-18T10:07:07.547092",
     "status": "completed"
    },
    "tags": []
   },
   "source": [
    "## Keep going\n",
    "\n",
    "Explore **[histograms and density plots](https://www.kaggle.com/alexisbcook/distributions)**."
   ]
  },
  {
   "cell_type": "markdown",
   "id": "0a880394",
   "metadata": {
    "papermill": {
     "duration": 0.018295,
     "end_time": "2023-12-18T10:07:07.602713",
     "exception": false,
     "start_time": "2023-12-18T10:07:07.584418",
     "status": "completed"
    },
    "tags": []
   },
   "source": [
    "---\n",
    "\n",
    "\n",
    "\n",
    "\n",
    "*Have questions or comments? Visit the [course discussion forum](https://www.kaggle.com/learn/data-visualization/discussion) to chat with other learners.*"
   ]
  }
 ],
 "metadata": {
  "kaggle": {
   "accelerator": "none",
   "dataSources": [
    {
     "datasetId": 116573,
     "sourceId": 3551030,
     "sourceType": "datasetVersion"
    }
   ],
   "isGpuEnabled": false,
   "isInternetEnabled": false,
   "language": "python",
   "sourceType": "notebook"
  },
  "kernelspec": {
   "display_name": "Python 3",
   "language": "python",
   "name": "python3"
  },
  "language_info": {
   "codemirror_mode": {
    "name": "ipython",
    "version": 3
   },
   "file_extension": ".py",
   "mimetype": "text/x-python",
   "name": "python",
   "nbconvert_exporter": "python",
   "pygments_lexer": "ipython3",
   "version": "3.10.12"
  },
  "papermill": {
   "default_parameters": {},
   "duration": 9.97431,
   "end_time": "2023-12-18T10:07:08.242686",
   "environment_variables": {},
   "exception": null,
   "input_path": "__notebook__.ipynb",
   "output_path": "__notebook__.ipynb",
   "parameters": {},
   "start_time": "2023-12-18T10:06:58.268376",
   "version": "2.4.0"
  }
 },
 "nbformat": 4,
 "nbformat_minor": 5
}
