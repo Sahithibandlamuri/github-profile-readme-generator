{
 "cells": [
  {
   "cell_type": "markdown",
   "id": "de7c0738",
   "metadata": {
    "papermill": {
     "duration": 0.004929,
     "end_time": "2023-12-19T06:48:33.500896",
     "exception": false,
     "start_time": "2023-12-19T06:48:33.495967",
     "status": "completed"
    },
    "tags": []
   },
   "source": [
    "**This notebook is an exercise in the [Pandas](https://www.kaggle.com/learn/pandas) course.  You can reference the tutorial at [this link](https://www.kaggle.com/residentmario/data-types-and-missing-values).**\n",
    "\n",
    "---\n"
   ]
  },
  {
   "cell_type": "markdown",
   "id": "004aa34d",
   "metadata": {
    "papermill": {
     "duration": 0.004676,
     "end_time": "2023-12-19T06:48:33.510370",
     "exception": false,
     "start_time": "2023-12-19T06:48:33.505694",
     "status": "completed"
    },
    "tags": []
   },
   "source": [
    "# Introduction\n",
    "\n",
    "Run the following cell to load your data and some utility functions."
   ]
  },
  {
   "cell_type": "code",
   "execution_count": 1,
   "id": "4666814c",
   "metadata": {
    "execution": {
     "iopub.execute_input": "2023-12-19T06:48:33.521864Z",
     "iopub.status.busy": "2023-12-19T06:48:33.521186Z",
     "iopub.status.idle": "2023-12-19T06:48:37.381685Z",
     "shell.execute_reply": "2023-12-19T06:48:37.380544Z"
    },
    "papermill": {
     "duration": 3.86912,
     "end_time": "2023-12-19T06:48:37.384022",
     "exception": false,
     "start_time": "2023-12-19T06:48:33.514902",
     "status": "completed"
    },
    "tags": []
   },
   "outputs": [
    {
     "name": "stdout",
     "output_type": "stream",
     "text": [
      "Setup complete.\n"
     ]
    }
   ],
   "source": [
    "import pandas as pd\n",
    "\n",
    "reviews = pd.read_csv(\"../input/wine-reviews/winemag-data-130k-v2.csv\", index_col=0)\n",
    "\n",
    "from learntools.core import binder; binder.bind(globals())\n",
    "from learntools.pandas.data_types_and_missing_data import *\n",
    "print(\"Setup complete.\")"
   ]
  },
  {
   "cell_type": "markdown",
   "id": "3d1c7622",
   "metadata": {
    "papermill": {
     "duration": 0.004261,
     "end_time": "2023-12-19T06:48:37.394422",
     "exception": false,
     "start_time": "2023-12-19T06:48:37.390161",
     "status": "completed"
    },
    "tags": []
   },
   "source": [
    "# Exercises"
   ]
  },
  {
   "cell_type": "markdown",
   "id": "1ae90369",
   "metadata": {
    "papermill": {
     "duration": 0.004278,
     "end_time": "2023-12-19T06:48:37.403271",
     "exception": false,
     "start_time": "2023-12-19T06:48:37.398993",
     "status": "completed"
    },
    "tags": []
   },
   "source": [
    "## 1. \n",
    "What is the data type of the `points` column in the dataset?"
   ]
  },
  {
   "cell_type": "code",
   "execution_count": 2,
   "id": "bc9aecc3",
   "metadata": {
    "execution": {
     "iopub.execute_input": "2023-12-19T06:48:37.413883Z",
     "iopub.status.busy": "2023-12-19T06:48:37.413502Z",
     "iopub.status.idle": "2023-12-19T06:48:37.424807Z",
     "shell.execute_reply": "2023-12-19T06:48:37.423862Z"
    },
    "papermill": {
     "duration": 0.019222,
     "end_time": "2023-12-19T06:48:37.426930",
     "exception": false,
     "start_time": "2023-12-19T06:48:37.407708",
     "status": "completed"
    },
    "tags": []
   },
   "outputs": [
    {
     "data": {
      "application/javascript": [
       "parent.postMessage({\"jupyterEvent\": \"custom.exercise_interaction\", \"data\": {\"outcomeType\": 1, \"valueTowardsCompletion\": 0.25, \"interactionType\": 1, \"questionType\": 1, \"questionId\": \"1_PointsDtype\", \"learnToolsVersion\": \"0.3.4\", \"failureMessage\": \"\", \"exceptionClass\": \"\", \"trace\": \"\"}}, \"*\")"
      ],
      "text/plain": [
       "<IPython.core.display.Javascript object>"
      ]
     },
     "metadata": {},
     "output_type": "display_data"
    },
    {
     "data": {
      "text/markdown": [
       "<span style=\"color:#33cc33\">Correct</span>"
      ],
      "text/plain": [
       "Correct"
      ]
     },
     "metadata": {},
     "output_type": "display_data"
    }
   ],
   "source": [
    "# Your code here\n",
    "dtype = reviews.points.dtype\n",
    "\n",
    "# Check your answer\n",
    "q1.check()"
   ]
  },
  {
   "cell_type": "code",
   "execution_count": 3,
   "id": "764a3922",
   "metadata": {
    "execution": {
     "iopub.execute_input": "2023-12-19T06:48:37.439006Z",
     "iopub.status.busy": "2023-12-19T06:48:37.438252Z",
     "iopub.status.idle": "2023-12-19T06:48:37.442231Z",
     "shell.execute_reply": "2023-12-19T06:48:37.441344Z"
    },
    "papermill": {
     "duration": 0.012514,
     "end_time": "2023-12-19T06:48:37.444257",
     "exception": false,
     "start_time": "2023-12-19T06:48:37.431743",
     "status": "completed"
    },
    "tags": []
   },
   "outputs": [],
   "source": [
    "#q1.hint()\n",
    "#q1.solution()"
   ]
  },
  {
   "cell_type": "markdown",
   "id": "e255d04b",
   "metadata": {
    "papermill": {
     "duration": 0.005019,
     "end_time": "2023-12-19T06:48:37.454213",
     "exception": false,
     "start_time": "2023-12-19T06:48:37.449194",
     "status": "completed"
    },
    "tags": []
   },
   "source": [
    "## 2. \n",
    "Create a Series from entries in the `points` column, but convert the entries to strings. Hint: strings are `str` in native Python."
   ]
  },
  {
   "cell_type": "code",
   "execution_count": 4,
   "id": "b089ce0b",
   "metadata": {
    "execution": {
     "iopub.execute_input": "2023-12-19T06:48:37.469244Z",
     "iopub.status.busy": "2023-12-19T06:48:37.468752Z",
     "iopub.status.idle": "2023-12-19T06:48:37.555249Z",
     "shell.execute_reply": "2023-12-19T06:48:37.554001Z"
    },
    "papermill": {
     "duration": 0.098008,
     "end_time": "2023-12-19T06:48:37.557934",
     "exception": false,
     "start_time": "2023-12-19T06:48:37.459926",
     "status": "completed"
    },
    "tags": []
   },
   "outputs": [
    {
     "data": {
      "application/javascript": [
       "parent.postMessage({\"jupyterEvent\": \"custom.exercise_interaction\", \"data\": {\"outcomeType\": 1, \"valueTowardsCompletion\": 0.25, \"interactionType\": 1, \"questionType\": 1, \"questionId\": \"2_StrPoints\", \"learnToolsVersion\": \"0.3.4\", \"failureMessage\": \"\", \"exceptionClass\": \"\", \"trace\": \"\"}}, \"*\")"
      ],
      "text/plain": [
       "<IPython.core.display.Javascript object>"
      ]
     },
     "metadata": {},
     "output_type": "display_data"
    },
    {
     "data": {
      "text/markdown": [
       "<span style=\"color:#33cc33\">Correct</span>"
      ],
      "text/plain": [
       "Correct"
      ]
     },
     "metadata": {},
     "output_type": "display_data"
    }
   ],
   "source": [
    "point_strings = reviews.points.astype(str)\n",
    "\n",
    "# Check your answer\n",
    "q2.check()"
   ]
  },
  {
   "cell_type": "code",
   "execution_count": 5,
   "id": "09df9e66",
   "metadata": {
    "execution": {
     "iopub.execute_input": "2023-12-19T06:48:37.572521Z",
     "iopub.status.busy": "2023-12-19T06:48:37.572033Z",
     "iopub.status.idle": "2023-12-19T06:48:37.578526Z",
     "shell.execute_reply": "2023-12-19T06:48:37.577158Z"
    },
    "papermill": {
     "duration": 0.017893,
     "end_time": "2023-12-19T06:48:37.581837",
     "exception": false,
     "start_time": "2023-12-19T06:48:37.563944",
     "status": "completed"
    },
    "tags": []
   },
   "outputs": [],
   "source": [
    "#q2.hint()\n",
    "#q2.solution()"
   ]
  },
  {
   "cell_type": "markdown",
   "id": "62b95eba",
   "metadata": {
    "papermill": {
     "duration": 0.005909,
     "end_time": "2023-12-19T06:48:37.595391",
     "exception": false,
     "start_time": "2023-12-19T06:48:37.589482",
     "status": "completed"
    },
    "tags": []
   },
   "source": [
    "## 3.\n",
    "Sometimes the price column is null. How many reviews in the dataset are missing a price?"
   ]
  },
  {
   "cell_type": "code",
   "execution_count": 6,
   "id": "b6c64c08",
   "metadata": {
    "execution": {
     "iopub.execute_input": "2023-12-19T06:48:37.610458Z",
     "iopub.status.busy": "2023-12-19T06:48:37.609407Z",
     "iopub.status.idle": "2023-12-19T06:48:37.627495Z",
     "shell.execute_reply": "2023-12-19T06:48:37.626389Z"
    },
    "papermill": {
     "duration": 0.028704,
     "end_time": "2023-12-19T06:48:37.629775",
     "exception": false,
     "start_time": "2023-12-19T06:48:37.601071",
     "status": "completed"
    },
    "tags": []
   },
   "outputs": [
    {
     "data": {
      "application/javascript": [
       "parent.postMessage({\"jupyterEvent\": \"custom.exercise_interaction\", \"data\": {\"outcomeType\": 1, \"valueTowardsCompletion\": 0.25, \"interactionType\": 1, \"questionType\": 1, \"questionId\": \"3_CountMissingPrices\", \"learnToolsVersion\": \"0.3.4\", \"failureMessage\": \"\", \"exceptionClass\": \"\", \"trace\": \"\"}}, \"*\")"
      ],
      "text/plain": [
       "<IPython.core.display.Javascript object>"
      ]
     },
     "metadata": {},
     "output_type": "display_data"
    },
    {
     "data": {
      "text/markdown": [
       "<span style=\"color:#33cc33\">Correct</span>"
      ],
      "text/plain": [
       "Correct"
      ]
     },
     "metadata": {},
     "output_type": "display_data"
    }
   ],
   "source": [
    "missing_price_reviews = reviews[reviews.price.isnull()]\n",
    "n_missing_prices = len(missing_price_reviews)\n",
    "n_missing_prices = reviews.price.isnull().sum()\n",
    "n_missing_prices = pd.isnull(reviews.price).sum()\n",
    "\n",
    "# Check your answer\n",
    "q3.check()"
   ]
  },
  {
   "cell_type": "code",
   "execution_count": 7,
   "id": "4d02c4ba",
   "metadata": {
    "execution": {
     "iopub.execute_input": "2023-12-19T06:48:37.642355Z",
     "iopub.status.busy": "2023-12-19T06:48:37.641981Z",
     "iopub.status.idle": "2023-12-19T06:48:37.645954Z",
     "shell.execute_reply": "2023-12-19T06:48:37.644944Z"
    },
    "papermill": {
     "duration": 0.0129,
     "end_time": "2023-12-19T06:48:37.648076",
     "exception": false,
     "start_time": "2023-12-19T06:48:37.635176",
     "status": "completed"
    },
    "tags": []
   },
   "outputs": [],
   "source": [
    "#q3.hint()\n",
    "#q3.solution()"
   ]
  },
  {
   "cell_type": "markdown",
   "id": "6950708a",
   "metadata": {
    "papermill": {
     "duration": 0.004995,
     "end_time": "2023-12-19T06:48:37.658435",
     "exception": false,
     "start_time": "2023-12-19T06:48:37.653440",
     "status": "completed"
    },
    "tags": []
   },
   "source": [
    "## 4.\n",
    "What are the most common wine-producing regions? Create a Series counting the number of times each value occurs in the `region_1` field. This field is often missing data, so replace missing values with `Unknown`. Sort in descending order.  Your output should look something like this:\n",
    "\n",
    "```\n",
    "Unknown                    21247\n",
    "Napa Valley                 4480\n",
    "                           ...  \n",
    "Bardolino Superiore            1\n",
    "Primitivo del Tarantino        1\n",
    "Name: region_1, Length: 1230, dtype: int64\n",
    "```"
   ]
  },
  {
   "cell_type": "code",
   "execution_count": 8,
   "id": "9afe1c9f",
   "metadata": {
    "execution": {
     "iopub.execute_input": "2023-12-19T06:48:37.670666Z",
     "iopub.status.busy": "2023-12-19T06:48:37.670300Z",
     "iopub.status.idle": "2023-12-19T06:48:37.719508Z",
     "shell.execute_reply": "2023-12-19T06:48:37.718191Z"
    },
    "papermill": {
     "duration": 0.058386,
     "end_time": "2023-12-19T06:48:37.721953",
     "exception": false,
     "start_time": "2023-12-19T06:48:37.663567",
     "status": "completed"
    },
    "tags": []
   },
   "outputs": [
    {
     "data": {
      "application/javascript": [
       "parent.postMessage({\"jupyterEvent\": \"custom.exercise_interaction\", \"data\": {\"outcomeType\": 1, \"valueTowardsCompletion\": 0.25, \"interactionType\": 1, \"questionType\": 2, \"questionId\": \"4_ReviewsPerRegion\", \"learnToolsVersion\": \"0.3.4\", \"failureMessage\": \"\", \"exceptionClass\": \"\", \"trace\": \"\"}}, \"*\")"
      ],
      "text/plain": [
       "<IPython.core.display.Javascript object>"
      ]
     },
     "metadata": {},
     "output_type": "display_data"
    },
    {
     "data": {
      "text/markdown": [
       "<span style=\"color:#33cc33\">Correct</span>"
      ],
      "text/plain": [
       "Correct"
      ]
     },
     "metadata": {},
     "output_type": "display_data"
    }
   ],
   "source": [
    "reviews_per_region = reviews.region_1.fillna('Unknown').value_counts().sort_values(ascending=False)\n",
    "\n",
    "# Check your answer\n",
    "q4.check()"
   ]
  },
  {
   "cell_type": "code",
   "execution_count": 9,
   "id": "b20fdc4d",
   "metadata": {
    "execution": {
     "iopub.execute_input": "2023-12-19T06:48:37.734810Z",
     "iopub.status.busy": "2023-12-19T06:48:37.734451Z",
     "iopub.status.idle": "2023-12-19T06:48:37.739135Z",
     "shell.execute_reply": "2023-12-19T06:48:37.737691Z"
    },
    "papermill": {
     "duration": 0.013961,
     "end_time": "2023-12-19T06:48:37.741416",
     "exception": false,
     "start_time": "2023-12-19T06:48:37.727455",
     "status": "completed"
    },
    "tags": []
   },
   "outputs": [],
   "source": [
    "#q4.hint()\n",
    "#q4.solution()"
   ]
  },
  {
   "cell_type": "markdown",
   "id": "35c42c82",
   "metadata": {
    "papermill": {
     "duration": 0.005252,
     "end_time": "2023-12-19T06:48:37.752320",
     "exception": false,
     "start_time": "2023-12-19T06:48:37.747068",
     "status": "completed"
    },
    "tags": []
   },
   "source": [
    "# Keep going\n",
    "\n",
    "Move on to **[renaming and combining](https://www.kaggle.com/residentmario/renaming-and-combining)**."
   ]
  },
  {
   "cell_type": "markdown",
   "id": "752341a0",
   "metadata": {
    "papermill": {
     "duration": 0.005332,
     "end_time": "2023-12-19T06:48:37.763099",
     "exception": false,
     "start_time": "2023-12-19T06:48:37.757767",
     "status": "completed"
    },
    "tags": []
   },
   "source": [
    "---\n",
    "\n",
    "\n",
    "\n",
    "\n",
    "*Have questions or comments? Visit the [course discussion forum](https://www.kaggle.com/learn/pandas/discussion) to chat with other learners.*"
   ]
  }
 ],
 "metadata": {
  "kaggle": {
   "accelerator": "none",
   "dataSources": [
    {
     "datasetId": 655,
     "sourceId": 1252,
     "sourceType": "datasetVersion"
    },
    {
     "datasetId": 2321,
     "sourceId": 3919,
     "sourceType": "datasetVersion"
    },
    {
     "datasetId": 2894,
     "sourceId": 4877,
     "sourceType": "datasetVersion"
    },
    {
     "datasetId": 3491,
     "sourceId": 5624,
     "sourceType": "datasetVersion"
    },
    {
     "datasetId": 1442,
     "sourceId": 8172,
     "sourceType": "datasetVersion"
    },
    {
     "datasetId": 9366,
     "sourceId": 13206,
     "sourceType": "datasetVersion"
    },
    {
     "datasetId": 179555,
     "sourceId": 403916,
     "sourceType": "datasetVersion"
    },
    {
     "datasetId": 4549,
     "sourceId": 466349,
     "sourceType": "datasetVersion"
    },
    {
     "datasetId": 2478,
     "sourceId": 1151655,
     "sourceType": "datasetVersion"
    },
    {
     "datasetId": 10128,
     "sourceId": 5438389,
     "sourceType": "datasetVersion"
    }
   ],
   "isGpuEnabled": false,
   "isInternetEnabled": false,
   "language": "python",
   "sourceType": "notebook"
  },
  "kernelspec": {
   "display_name": "Python 3",
   "language": "python",
   "name": "python3"
  },
  "language_info": {
   "codemirror_mode": {
    "name": "ipython",
    "version": 3
   },
   "file_extension": ".py",
   "mimetype": "text/x-python",
   "name": "python",
   "nbconvert_exporter": "python",
   "pygments_lexer": "ipython3",
   "version": "3.10.12"
  },
  "papermill": {
   "default_parameters": {},
   "duration": 9.139382,
   "end_time": "2023-12-19T06:48:38.288856",
   "environment_variables": {},
   "exception": null,
   "input_path": "__notebook__.ipynb",
   "output_path": "__notebook__.ipynb",
   "parameters": {},
   "start_time": "2023-12-19T06:48:29.149474",
   "version": "2.4.0"
  }
 },
 "nbformat": 4,
 "nbformat_minor": 5
}
