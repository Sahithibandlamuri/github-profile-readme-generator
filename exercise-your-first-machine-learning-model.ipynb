{
 "cells": [
  {
   "cell_type": "markdown",
   "id": "6dfd9590",
   "metadata": {
    "papermill": {
     "duration": 0.007301,
     "end_time": "2023-12-19T09:34:27.477681",
     "exception": false,
     "start_time": "2023-12-19T09:34:27.470380",
     "status": "completed"
    },
    "tags": []
   },
   "source": [
    "**This notebook is an exercise in the [Introduction to Machine Learning](https://www.kaggle.com/learn/intro-to-machine-learning) course.  You can reference the tutorial at [this link](https://www.kaggle.com/dansbecker/your-first-machine-learning-model).**\n",
    "\n",
    "---\n"
   ]
  },
  {
   "cell_type": "markdown",
   "id": "64536727",
   "metadata": {
    "papermill": {
     "duration": 0.006755,
     "end_time": "2023-12-19T09:34:27.491594",
     "exception": false,
     "start_time": "2023-12-19T09:34:27.484839",
     "status": "completed"
    },
    "tags": []
   },
   "source": [
    "## Recap\n",
    "So far, you have loaded your data and reviewed it with the following code. Run this cell to set up your coding environment where the previous step left off."
   ]
  },
  {
   "cell_type": "code",
   "execution_count": 1,
   "id": "8883ee6c",
   "metadata": {
    "execution": {
     "iopub.execute_input": "2023-12-19T09:34:27.508250Z",
     "iopub.status.busy": "2023-12-19T09:34:27.507765Z",
     "iopub.status.idle": "2023-12-19T09:34:29.576840Z",
     "shell.execute_reply": "2023-12-19T09:34:29.575079Z"
    },
    "papermill": {
     "duration": 2.081807,
     "end_time": "2023-12-19T09:34:29.580380",
     "exception": false,
     "start_time": "2023-12-19T09:34:27.498573",
     "status": "completed"
    },
    "tags": []
   },
   "outputs": [
    {
     "name": "stdout",
     "output_type": "stream",
     "text": [
      "Setup Complete\n"
     ]
    }
   ],
   "source": [
    "# Code you have previously used to load data\n",
    "import pandas as pd\n",
    "\n",
    "# Path of the file to read\n",
    "iowa_file_path = '../input/home-data-for-ml-course/train.csv'\n",
    "\n",
    "home_data = pd.read_csv(iowa_file_path)\n",
    "\n",
    "# Set up code checking\n",
    "from learntools.core import binder\n",
    "binder.bind(globals())\n",
    "from learntools.machine_learning.ex3 import *\n",
    "\n",
    "print(\"Setup Complete\")"
   ]
  },
  {
   "cell_type": "markdown",
   "id": "cb7fede3",
   "metadata": {
    "papermill": {
     "duration": 0.006922,
     "end_time": "2023-12-19T09:34:29.594575",
     "exception": false,
     "start_time": "2023-12-19T09:34:29.587653",
     "status": "completed"
    },
    "tags": []
   },
   "source": [
    "# Exercises\n",
    "\n",
    "## Step 1: Specify Prediction Target\n",
    "Select the target variable, which corresponds to the sales price. Save this to a new variable called `y`. You'll need to print a list of the columns to find the name of the column you need.\n"
   ]
  },
  {
   "cell_type": "code",
   "execution_count": 2,
   "id": "3b305ff9",
   "metadata": {
    "collapsed": true,
    "execution": {
     "iopub.execute_input": "2023-12-19T09:34:29.611076Z",
     "iopub.status.busy": "2023-12-19T09:34:29.609895Z",
     "iopub.status.idle": "2023-12-19T09:34:29.615089Z",
     "shell.execute_reply": "2023-12-19T09:34:29.614353Z"
    },
    "jupyter": {
     "outputs_hidden": true
    },
    "papermill": {
     "duration": 0.015705,
     "end_time": "2023-12-19T09:34:29.617279",
     "exception": false,
     "start_time": "2023-12-19T09:34:29.601574",
     "status": "completed"
    },
    "tags": []
   },
   "outputs": [],
   "source": [
    "# print the list of columns in the dataset to find the name of the prediction target\n"
   ]
  },
  {
   "cell_type": "code",
   "execution_count": 3,
   "id": "d25ed24f",
   "metadata": {
    "execution": {
     "iopub.execute_input": "2023-12-19T09:34:29.634049Z",
     "iopub.status.busy": "2023-12-19T09:34:29.632891Z",
     "iopub.status.idle": "2023-12-19T09:34:29.650821Z",
     "shell.execute_reply": "2023-12-19T09:34:29.649701Z"
    },
    "papermill": {
     "duration": 0.029083,
     "end_time": "2023-12-19T09:34:29.653538",
     "exception": false,
     "start_time": "2023-12-19T09:34:29.624455",
     "status": "completed"
    },
    "tags": []
   },
   "outputs": [
    {
     "data": {
      "application/javascript": [
       "parent.postMessage({\"jupyterEvent\": \"custom.exercise_interaction\", \"data\": {\"outcomeType\": 1, \"valueTowardsCompletion\": 0.25, \"interactionType\": 1, \"questionType\": 2, \"questionId\": \"1_SetTarget\", \"learnToolsVersion\": \"0.3.4\", \"failureMessage\": \"\", \"exceptionClass\": \"\", \"trace\": \"\"}}, \"*\")"
      ],
      "text/plain": [
       "<IPython.core.display.Javascript object>"
      ]
     },
     "metadata": {},
     "output_type": "display_data"
    },
    {
     "data": {
      "text/markdown": [
       "<span style=\"color:#33cc33\">Correct</span>"
      ],
      "text/plain": [
       "Correct"
      ]
     },
     "metadata": {},
     "output_type": "display_data"
    }
   ],
   "source": [
    "y = home_data.SalePrice\n",
    "\n",
    "# Check your answer\n",
    "step_1.check()"
   ]
  },
  {
   "cell_type": "code",
   "execution_count": 4,
   "id": "555f12b1",
   "metadata": {
    "execution": {
     "iopub.execute_input": "2023-12-19T09:34:29.671502Z",
     "iopub.status.busy": "2023-12-19T09:34:29.670528Z",
     "iopub.status.idle": "2023-12-19T09:34:29.675816Z",
     "shell.execute_reply": "2023-12-19T09:34:29.674677Z"
    },
    "papermill": {
     "duration": 0.017322,
     "end_time": "2023-12-19T09:34:29.678248",
     "exception": false,
     "start_time": "2023-12-19T09:34:29.660926",
     "status": "completed"
    },
    "tags": []
   },
   "outputs": [],
   "source": [
    "# The lines below will show you a hint or the solution.\n",
    "# step_1.hint() \n",
    "# step_1.solution()"
   ]
  },
  {
   "cell_type": "markdown",
   "id": "e19d4e70",
   "metadata": {
    "papermill": {
     "duration": 0.007182,
     "end_time": "2023-12-19T09:34:29.692999",
     "exception": false,
     "start_time": "2023-12-19T09:34:29.685817",
     "status": "completed"
    },
    "tags": []
   },
   "source": [
    "## Step 2: Create X\n",
    "Now you will create a DataFrame called `X` holding the predictive features.\n",
    "\n",
    "Since you want only some columns from the original data, you'll first create a list with the names of the columns you want in `X`.\n",
    "\n",
    "You'll use just the following columns in the list (you can copy and paste the whole list to save some typing, though you'll still need to add quotes):\n",
    "  * LotArea\n",
    "  * YearBuilt\n",
    "  * 1stFlrSF\n",
    "  * 2ndFlrSF\n",
    "  * FullBath\n",
    "  * BedroomAbvGr\n",
    "  * TotRmsAbvGrd\n",
    "\n",
    "After you've created that list of features, use it to create the DataFrame that you'll use to fit the model."
   ]
  },
  {
   "cell_type": "code",
   "execution_count": 5,
   "id": "e5e4f821",
   "metadata": {
    "execution": {
     "iopub.execute_input": "2023-12-19T09:34:29.711421Z",
     "iopub.status.busy": "2023-12-19T09:34:29.710787Z",
     "iopub.status.idle": "2023-12-19T09:34:29.727962Z",
     "shell.execute_reply": "2023-12-19T09:34:29.727177Z"
    },
    "papermill": {
     "duration": 0.028501,
     "end_time": "2023-12-19T09:34:29.730196",
     "exception": false,
     "start_time": "2023-12-19T09:34:29.701695",
     "status": "completed"
    },
    "tags": []
   },
   "outputs": [
    {
     "data": {
      "application/javascript": [
       "parent.postMessage({\"jupyterEvent\": \"custom.exercise_interaction\", \"data\": {\"outcomeType\": 1, \"valueTowardsCompletion\": 0.25, \"interactionType\": 1, \"questionType\": 2, \"questionId\": \"2_SelectPredictionData\", \"learnToolsVersion\": \"0.3.4\", \"failureMessage\": \"\", \"exceptionClass\": \"\", \"trace\": \"\"}}, \"*\")"
      ],
      "text/plain": [
       "<IPython.core.display.Javascript object>"
      ]
     },
     "metadata": {},
     "output_type": "display_data"
    },
    {
     "data": {
      "text/markdown": [
       "<span style=\"color:#33cc33\">Correct</span>"
      ],
      "text/plain": [
       "Correct"
      ]
     },
     "metadata": {},
     "output_type": "display_data"
    }
   ],
   "source": [
    "# Create the list of features below\n",
    "feature_names = [\"LotArea\", \"YearBuilt\", \"1stFlrSF\", \"2ndFlrSF\",\n",
    "                      \"FullBath\", \"BedroomAbvGr\", \"TotRmsAbvGrd\"]\n",
    "\n",
    "# Select data corresponding to features in feature_names\n",
    "X=home_data[feature_names]\n",
    "\n",
    "# Check your answer\n",
    "step_2.check()"
   ]
  },
  {
   "cell_type": "code",
   "execution_count": 6,
   "id": "e5387dcf",
   "metadata": {
    "execution": {
     "iopub.execute_input": "2023-12-19T09:34:29.747806Z",
     "iopub.status.busy": "2023-12-19T09:34:29.746818Z",
     "iopub.status.idle": "2023-12-19T09:34:29.751675Z",
     "shell.execute_reply": "2023-12-19T09:34:29.750598Z"
    },
    "papermill": {
     "duration": 0.01628,
     "end_time": "2023-12-19T09:34:29.754013",
     "exception": false,
     "start_time": "2023-12-19T09:34:29.737733",
     "status": "completed"
    },
    "tags": []
   },
   "outputs": [],
   "source": [
    "# step_2.hint()\n",
    "# step_2.solution()"
   ]
  },
  {
   "cell_type": "markdown",
   "id": "806bb087",
   "metadata": {
    "papermill": {
     "duration": 0.007442,
     "end_time": "2023-12-19T09:34:29.769355",
     "exception": false,
     "start_time": "2023-12-19T09:34:29.761913",
     "status": "completed"
    },
    "tags": []
   },
   "source": [
    "## Review Data\n",
    "Before building a model, take a quick look at **X** to verify it looks sensible"
   ]
  },
  {
   "cell_type": "code",
   "execution_count": 7,
   "id": "a29b015c",
   "metadata": {
    "execution": {
     "iopub.execute_input": "2023-12-19T09:34:29.786680Z",
     "iopub.status.busy": "2023-12-19T09:34:29.786249Z",
     "iopub.status.idle": "2023-12-19T09:34:29.790889Z",
     "shell.execute_reply": "2023-12-19T09:34:29.789745Z"
    },
    "papermill": {
     "duration": 0.015938,
     "end_time": "2023-12-19T09:34:29.793110",
     "exception": false,
     "start_time": "2023-12-19T09:34:29.777172",
     "status": "completed"
    },
    "tags": []
   },
   "outputs": [],
   "source": [
    "# Review data\n",
    "# print description or statistics from X\n",
    "#print(_)\n",
    "\n",
    "# print the top few lines\n",
    "#print(_)"
   ]
  },
  {
   "cell_type": "markdown",
   "id": "cd18ade5",
   "metadata": {
    "papermill": {
     "duration": 0.007747,
     "end_time": "2023-12-19T09:34:29.808538",
     "exception": false,
     "start_time": "2023-12-19T09:34:29.800791",
     "status": "completed"
    },
    "tags": []
   },
   "source": [
    "## Step 3: Specify and Fit Model\n",
    "Create a `DecisionTreeRegressor` and save it iowa_model. Ensure you've done the relevant import from sklearn to run this command.\n",
    "\n",
    "Then fit the model you just created using the data in `X` and `y` that you saved above."
   ]
  },
  {
   "cell_type": "code",
   "execution_count": 8,
   "id": "61661a68",
   "metadata": {
    "execution": {
     "iopub.execute_input": "2023-12-19T09:34:29.826872Z",
     "iopub.status.busy": "2023-12-19T09:34:29.825759Z",
     "iopub.status.idle": "2023-12-19T09:34:29.848313Z",
     "shell.execute_reply": "2023-12-19T09:34:29.847187Z"
    },
    "papermill": {
     "duration": 0.03449,
     "end_time": "2023-12-19T09:34:29.850877",
     "exception": false,
     "start_time": "2023-12-19T09:34:29.816387",
     "status": "completed"
    },
    "tags": []
   },
   "outputs": [
    {
     "data": {
      "application/javascript": [
       "parent.postMessage({\"jupyterEvent\": \"custom.exercise_interaction\", \"data\": {\"outcomeType\": 1, \"valueTowardsCompletion\": 0.25, \"interactionType\": 1, \"questionType\": 2, \"questionId\": \"3_CreateModel\", \"learnToolsVersion\": \"0.3.4\", \"failureMessage\": \"\", \"exceptionClass\": \"\", \"trace\": \"\"}}, \"*\")"
      ],
      "text/plain": [
       "<IPython.core.display.Javascript object>"
      ]
     },
     "metadata": {},
     "output_type": "display_data"
    },
    {
     "data": {
      "text/markdown": [
       "<span style=\"color:#33cc33\">Correct</span>"
      ],
      "text/plain": [
       "Correct"
      ]
     },
     "metadata": {},
     "output_type": "display_data"
    }
   ],
   "source": [
    "# from _ import _\n",
    "#specify the model. \n",
    "#For model reproducibility, set a numeric value for random_state when specifying the model\n",
    "from sklearn.tree import DecisionTreeRegressor\n",
    "iowa_model = DecisionTreeRegressor(random_state=1)\n",
    "\n",
    "\n",
    "# Fit the model\n",
    "iowa_model.fit(X, y)\n",
    "\n",
    "# Check your answer\n",
    "step_3.check()"
   ]
  },
  {
   "cell_type": "code",
   "execution_count": 9,
   "id": "037b41da",
   "metadata": {
    "execution": {
     "iopub.execute_input": "2023-12-19T09:34:29.869563Z",
     "iopub.status.busy": "2023-12-19T09:34:29.869156Z",
     "iopub.status.idle": "2023-12-19T09:34:29.874011Z",
     "shell.execute_reply": "2023-12-19T09:34:29.872970Z"
    },
    "papermill": {
     "duration": 0.01701,
     "end_time": "2023-12-19T09:34:29.876249",
     "exception": false,
     "start_time": "2023-12-19T09:34:29.859239",
     "status": "completed"
    },
    "tags": []
   },
   "outputs": [],
   "source": [
    "# step_3.hint()\n",
    "# step_3.solution()"
   ]
  },
  {
   "cell_type": "markdown",
   "id": "1e7e4c28",
   "metadata": {
    "papermill": {
     "duration": 0.007737,
     "end_time": "2023-12-19T09:34:29.892243",
     "exception": false,
     "start_time": "2023-12-19T09:34:29.884506",
     "status": "completed"
    },
    "tags": []
   },
   "source": [
    "## Step 4: Make Predictions\n",
    "Make predictions with the model's `predict` command using `X` as the data. Save the results to a variable called `predictions`."
   ]
  },
  {
   "cell_type": "code",
   "execution_count": 10,
   "id": "97ab35aa",
   "metadata": {
    "execution": {
     "iopub.execute_input": "2023-12-19T09:34:29.911274Z",
     "iopub.status.busy": "2023-12-19T09:34:29.910273Z",
     "iopub.status.idle": "2023-12-19T09:34:29.925177Z",
     "shell.execute_reply": "2023-12-19T09:34:29.924147Z"
    },
    "papermill": {
     "duration": 0.026959,
     "end_time": "2023-12-19T09:34:29.927439",
     "exception": false,
     "start_time": "2023-12-19T09:34:29.900480",
     "status": "completed"
    },
    "tags": []
   },
   "outputs": [
    {
     "name": "stdout",
     "output_type": "stream",
     "text": [
      "[208500. 181500. 223500. ... 266500. 142125. 147500.]\n"
     ]
    },
    {
     "data": {
      "application/javascript": [
       "parent.postMessage({\"jupyterEvent\": \"custom.exercise_interaction\", \"data\": {\"outcomeType\": 1, \"valueTowardsCompletion\": 0.25, \"interactionType\": 1, \"questionType\": 2, \"questionId\": \"4_MakePredictions\", \"learnToolsVersion\": \"0.3.4\", \"failureMessage\": \"\", \"exceptionClass\": \"\", \"trace\": \"\"}}, \"*\")"
      ],
      "text/plain": [
       "<IPython.core.display.Javascript object>"
      ]
     },
     "metadata": {},
     "output_type": "display_data"
    },
    {
     "data": {
      "text/markdown": [
       "<span style=\"color:#33cc33\">Correct</span>"
      ],
      "text/plain": [
       "Correct"
      ]
     },
     "metadata": {},
     "output_type": "display_data"
    }
   ],
   "source": [
    "predictions=iowa_model.predict(X)\n",
    "print(predictions)\n",
    "\n",
    "# Check your answer\n",
    "step_4.check()"
   ]
  },
  {
   "cell_type": "code",
   "execution_count": 11,
   "id": "a46292c3",
   "metadata": {
    "execution": {
     "iopub.execute_input": "2023-12-19T09:34:29.947208Z",
     "iopub.status.busy": "2023-12-19T09:34:29.946133Z",
     "iopub.status.idle": "2023-12-19T09:34:29.951262Z",
     "shell.execute_reply": "2023-12-19T09:34:29.950254Z"
    },
    "papermill": {
     "duration": 0.017733,
     "end_time": "2023-12-19T09:34:29.953869",
     "exception": false,
     "start_time": "2023-12-19T09:34:29.936136",
     "status": "completed"
    },
    "tags": []
   },
   "outputs": [],
   "source": [
    "# step_4.hint()\n",
    "# step_4.solution()"
   ]
  },
  {
   "cell_type": "markdown",
   "id": "f639853b",
   "metadata": {
    "papermill": {
     "duration": 0.008615,
     "end_time": "2023-12-19T09:34:29.971188",
     "exception": false,
     "start_time": "2023-12-19T09:34:29.962573",
     "status": "completed"
    },
    "tags": []
   },
   "source": [
    "## Think About Your Results\n",
    "\n",
    "Use the `head` method to compare the top few predictions to the actual home values (in `y`) for those same homes. Anything surprising?\n"
   ]
  },
  {
   "cell_type": "code",
   "execution_count": 12,
   "id": "28154d29",
   "metadata": {
    "execution": {
     "iopub.execute_input": "2023-12-19T09:34:29.990816Z",
     "iopub.status.busy": "2023-12-19T09:34:29.989998Z",
     "iopub.status.idle": "2023-12-19T09:34:29.995102Z",
     "shell.execute_reply": "2023-12-19T09:34:29.993928Z"
    },
    "papermill": {
     "duration": 0.017707,
     "end_time": "2023-12-19T09:34:29.997606",
     "exception": false,
     "start_time": "2023-12-19T09:34:29.979899",
     "status": "completed"
    },
    "tags": []
   },
   "outputs": [],
   "source": [
    "# You can write code in this cell\n"
   ]
  },
  {
   "cell_type": "markdown",
   "id": "8e3de021",
   "metadata": {
    "papermill": {
     "duration": 0.008395,
     "end_time": "2023-12-19T09:34:30.014960",
     "exception": false,
     "start_time": "2023-12-19T09:34:30.006565",
     "status": "completed"
    },
    "tags": []
   },
   "source": [
    "It's natural to ask how accurate the model's predictions will be and how you can improve that. That will be you're next step.\n",
    "\n",
    "# Keep Going\n",
    "\n",
    "You are ready for **[Model Validation](https://www.kaggle.com/dansbecker/model-validation).**\n"
   ]
  },
  {
   "cell_type": "markdown",
   "id": "ad8cb38c",
   "metadata": {
    "papermill": {
     "duration": 0.008433,
     "end_time": "2023-12-19T09:34:30.032778",
     "exception": false,
     "start_time": "2023-12-19T09:34:30.024345",
     "status": "completed"
    },
    "tags": []
   },
   "source": [
    "---\n",
    "\n",
    "\n",
    "\n",
    "\n",
    "*Have questions or comments? Visit the [course discussion forum](https://www.kaggle.com/learn/intro-to-machine-learning/discussion) to chat with other learners.*"
   ]
  }
 ],
 "metadata": {
  "kaggle": {
   "accelerator": "none",
   "dataSources": [
    {
     "databundleVersionId": 111096,
     "sourceId": 10211,
     "sourceType": "competition"
    },
    {
     "datasetId": 11167,
     "sourceId": 15520,
     "sourceType": "datasetVersion"
    },
    {
     "datasetId": 2709,
     "sourceId": 38454,
     "sourceType": "datasetVersion"
    }
   ],
   "isGpuEnabled": false,
   "isInternetEnabled": false,
   "language": "python",
   "sourceType": "notebook"
  },
  "kernelspec": {
   "display_name": "Python 3",
   "language": "python",
   "name": "python3"
  },
  "language_info": {
   "codemirror_mode": {
    "name": "ipython",
    "version": 3
   },
   "file_extension": ".py",
   "mimetype": "text/x-python",
   "name": "python",
   "nbconvert_exporter": "python",
   "pygments_lexer": "ipython3",
   "version": "3.10.12"
  },
  "papermill": {
   "default_parameters": {},
   "duration": 6.63023,
   "end_time": "2023-12-19T09:34:30.662767",
   "environment_variables": {},
   "exception": null,
   "input_path": "__notebook__.ipynb",
   "output_path": "__notebook__.ipynb",
   "parameters": {},
   "start_time": "2023-12-19T09:34:24.032537",
   "version": "2.4.0"
  }
 },
 "nbformat": 4,
 "nbformat_minor": 5
}
