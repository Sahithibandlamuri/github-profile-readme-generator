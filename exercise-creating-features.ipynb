{
 "cells": [
  {
   "cell_type": "markdown",
   "id": "1af155c6",
   "metadata": {
    "papermill": {
     "duration": 0.006204,
     "end_time": "2023-12-20T17:18:48.839416",
     "exception": false,
     "start_time": "2023-12-20T17:18:48.833212",
     "status": "completed"
    },
    "tags": []
   },
   "source": [
    "**This notebook is an exercise in the [Feature Engineering](https://www.kaggle.com/learn/feature-engineering) course.  You can reference the tutorial at [this link](https://www.kaggle.com/ryanholbrook/creating-features).**\n",
    "\n",
    "---\n"
   ]
  },
  {
   "cell_type": "markdown",
   "id": "0468fd6d",
   "metadata": {
    "papermill": {
     "duration": 0.005277,
     "end_time": "2023-12-20T17:18:48.850420",
     "exception": false,
     "start_time": "2023-12-20T17:18:48.845143",
     "status": "completed"
    },
    "tags": []
   },
   "source": [
    "# Introduction #\n",
    "\n",
    "In this exercise you'll start developing the features you identified in Exercise 2 as having the most potential. As you work through this exercise, you might take a moment to look at the data documentation again and consider whether the features we're creating make sense from a real-world perspective, and whether there are any useful combinations that stand out to you.\n",
    "\n",
    "Run this cell to set everything up!"
   ]
  },
  {
   "cell_type": "code",
   "execution_count": 1,
   "id": "e82d126e",
   "metadata": {
    "execution": {
     "iopub.execute_input": "2023-12-20T17:18:48.863519Z",
     "iopub.status.busy": "2023-12-20T17:18:48.862725Z",
     "iopub.status.idle": "2023-12-20T17:18:51.498898Z",
     "shell.execute_reply": "2023-12-20T17:18:51.497719Z"
    },
    "papermill": {
     "duration": 2.645617,
     "end_time": "2023-12-20T17:18:51.501527",
     "exception": false,
     "start_time": "2023-12-20T17:18:48.855910",
     "status": "completed"
    },
    "tags": []
   },
   "outputs": [],
   "source": [
    "# Setup feedback system\n",
    "from learntools.core import binder\n",
    "binder.bind(globals())\n",
    "from learntools.feature_engineering_new.ex3 import *\n",
    "\n",
    "import numpy as np\n",
    "import pandas as pd\n",
    "from sklearn.model_selection import cross_val_score\n",
    "from xgboost import XGBRegressor\n",
    "\n",
    "\n",
    "def score_dataset(X, y, model=XGBRegressor()):\n",
    "    # Label encoding for categoricals\n",
    "    for colname in X.select_dtypes([\"category\", \"object\"]):\n",
    "        X[colname], _ = X[colname].factorize()\n",
    "    # Metric for Housing competition is RMSLE (Root Mean Squared Log Error)\n",
    "    score = cross_val_score(\n",
    "        model, X, y, cv=5, scoring=\"neg_mean_squared_log_error\",\n",
    "    )\n",
    "    score = -1 * score.mean()\n",
    "    score = np.sqrt(score)\n",
    "    return score\n",
    "\n",
    "\n",
    "# Prepare data\n",
    "df = pd.read_csv(\"../input/fe-course-data/ames.csv\")\n",
    "X = df.copy()\n",
    "y = X.pop(\"SalePrice\")"
   ]
  },
  {
   "cell_type": "markdown",
   "id": "dd9bfe6e",
   "metadata": {
    "papermill": {
     "duration": 0.00526,
     "end_time": "2023-12-20T17:18:51.512783",
     "exception": false,
     "start_time": "2023-12-20T17:18:51.507523",
     "status": "completed"
    },
    "tags": []
   },
   "source": [
    "-------------------------------------------------------------------------------\n",
    "\n",
    "Let's start with a few mathematical combinations. We'll focus on features describing areas -- having the same units (square-feet) makes it easy to combine them in sensible ways. Since we're using XGBoost (a tree-based model), we'll focus on ratios and sums.\n",
    "\n",
    "# 1) Create Mathematical Transforms\n",
    "\n",
    "Create the following features:\n",
    "\n",
    "- `LivLotRatio`: the ratio of `GrLivArea` to `LotArea`\n",
    "- `Spaciousness`: the sum of `FirstFlrSF` and `SecondFlrSF` divided by `TotRmsAbvGrd`\n",
    "- `TotalOutsideSF`: the sum of `WoodDeckSF`, `OpenPorchSF`, `EnclosedPorch`, `Threeseasonporch`, and `ScreenPorch`"
   ]
  },
  {
   "cell_type": "code",
   "execution_count": 2,
   "id": "9d3e933f",
   "metadata": {
    "execution": {
     "iopub.execute_input": "2023-12-20T17:18:51.525895Z",
     "iopub.status.busy": "2023-12-20T17:18:51.525508Z",
     "iopub.status.idle": "2023-12-20T17:18:51.548758Z",
     "shell.execute_reply": "2023-12-20T17:18:51.547960Z"
    },
    "lines_to_next_cell": 0,
    "papermill": {
     "duration": 0.032537,
     "end_time": "2023-12-20T17:18:51.550826",
     "exception": false,
     "start_time": "2023-12-20T17:18:51.518289",
     "status": "completed"
    },
    "tags": []
   },
   "outputs": [
    {
     "data": {
      "application/javascript": [
       "parent.postMessage({\"jupyterEvent\": \"custom.exercise_interaction\", \"data\": {\"outcomeType\": 1, \"valueTowardsCompletion\": 0.2, \"interactionType\": 1, \"questionType\": 2, \"questionId\": \"1_Q1\", \"learnToolsVersion\": \"0.3.4\", \"failureMessage\": \"\", \"exceptionClass\": \"\", \"trace\": \"\"}}, \"*\")"
      ],
      "text/plain": [
       "<IPython.core.display.Javascript object>"
      ]
     },
     "metadata": {},
     "output_type": "display_data"
    },
    {
     "data": {
      "text/markdown": [
       "<span style=\"color:#33cc33\">Correct</span>"
      ],
      "text/plain": [
       "Correct"
      ]
     },
     "metadata": {},
     "output_type": "display_data"
    }
   ],
   "source": [
    "# YOUR CODE HERE\n",
    "X_1 = pd.DataFrame()  # dataframe to hold new features\n",
    "\n",
    "X_1[\"LivLotRatio\"] = df.GrLivArea / df.LotArea\n",
    "X_1[\"Spaciousness\"] = (df.FirstFlrSF + df.SecondFlrSF) / df.TotRmsAbvGrd\n",
    "X_1[\"TotalOutsideSF\"] = df.WoodDeckSF + df.OpenPorchSF + df.EnclosedPorch + df.Threeseasonporch + df.ScreenPorch\n",
    "\n",
    "# Check your answer\n",
    "q_1.check()"
   ]
  },
  {
   "cell_type": "code",
   "execution_count": 3,
   "id": "7033e149",
   "metadata": {
    "execution": {
     "iopub.execute_input": "2023-12-20T17:18:51.564564Z",
     "iopub.status.busy": "2023-12-20T17:18:51.564080Z",
     "iopub.status.idle": "2023-12-20T17:18:51.569155Z",
     "shell.execute_reply": "2023-12-20T17:18:51.567862Z"
    },
    "lines_to_next_cell": 0,
    "papermill": {
     "duration": 0.014614,
     "end_time": "2023-12-20T17:18:51.571543",
     "exception": false,
     "start_time": "2023-12-20T17:18:51.556929",
     "status": "completed"
    },
    "tags": []
   },
   "outputs": [],
   "source": [
    "# Lines below will give you a hint or solution code\n",
    "#q_1.hint()\n",
    "#q_1.solution()"
   ]
  },
  {
   "cell_type": "markdown",
   "id": "43601047",
   "metadata": {
    "papermill": {
     "duration": 0.005548,
     "end_time": "2023-12-20T17:18:51.582974",
     "exception": false,
     "start_time": "2023-12-20T17:18:51.577426",
     "status": "completed"
    },
    "tags": []
   },
   "source": [
    "-------------------------------------------------------------------------------\n",
    "\n",
    "If you've discovered an interaction effect between a numeric feature and a categorical feature, you might want to model it explicitly using a one-hot encoding, like so:\n",
    "\n",
    "```\n",
    "# One-hot encode Categorical feature, adding a column prefix \"Cat\"\n",
    "X_new = pd.get_dummies(df.Categorical, prefix=\"Cat\")\n",
    "\n",
    "# Multiply row-by-row\n",
    "X_new = X_new.mul(df.Continuous, axis=0)\n",
    "\n",
    "# Join the new features to the feature set\n",
    "X = X.join(X_new)\n",
    "```\n",
    "\n",
    "# 2) Interaction with a Categorical\n",
    "\n",
    "We discovered an interaction between `BldgType` and `GrLivArea` in Exercise 2. Now create their interaction features."
   ]
  },
  {
   "cell_type": "code",
   "execution_count": 4,
   "id": "a8f12e17",
   "metadata": {
    "execution": {
     "iopub.execute_input": "2023-12-20T17:18:51.596548Z",
     "iopub.status.busy": "2023-12-20T17:18:51.595524Z",
     "iopub.status.idle": "2023-12-20T17:18:51.614864Z",
     "shell.execute_reply": "2023-12-20T17:18:51.613499Z"
    },
    "lines_to_next_cell": 0,
    "papermill": {
     "duration": 0.028639,
     "end_time": "2023-12-20T17:18:51.617373",
     "exception": false,
     "start_time": "2023-12-20T17:18:51.588734",
     "status": "completed"
    },
    "tags": []
   },
   "outputs": [
    {
     "data": {
      "application/javascript": [
       "parent.postMessage({\"jupyterEvent\": \"custom.exercise_interaction\", \"data\": {\"outcomeType\": 1, \"valueTowardsCompletion\": 0.2, \"interactionType\": 1, \"questionType\": 2, \"questionId\": \"2_Q2\", \"learnToolsVersion\": \"0.3.4\", \"failureMessage\": \"\", \"exceptionClass\": \"\", \"trace\": \"\"}}, \"*\")"
      ],
      "text/plain": [
       "<IPython.core.display.Javascript object>"
      ]
     },
     "metadata": {},
     "output_type": "display_data"
    },
    {
     "data": {
      "text/markdown": [
       "<span style=\"color:#33cc33\">Correct</span>"
      ],
      "text/plain": [
       "Correct"
      ]
     },
     "metadata": {},
     "output_type": "display_data"
    }
   ],
   "source": [
    "# YOUR CODE HERE\n",
    "# One-hot encode BldgType. Use `prefix=\"Bldg\"` in `get_dummies`\n",
    "X_2 = pd.get_dummies(df.BldgType, prefix=\"Bldg\")\n",
    "# Multiply\n",
    "X_2 = X_2.mul(df.GrLivArea, axis=0)\n",
    "\n",
    "\n",
    "# Check your answer\n",
    "q_2.check()"
   ]
  },
  {
   "cell_type": "code",
   "execution_count": 5,
   "id": "4608ab67",
   "metadata": {
    "execution": {
     "iopub.execute_input": "2023-12-20T17:18:51.632422Z",
     "iopub.status.busy": "2023-12-20T17:18:51.632034Z",
     "iopub.status.idle": "2023-12-20T17:18:51.637585Z",
     "shell.execute_reply": "2023-12-20T17:18:51.636198Z"
    },
    "lines_to_next_cell": 0,
    "papermill": {
     "duration": 0.015969,
     "end_time": "2023-12-20T17:18:51.640061",
     "exception": false,
     "start_time": "2023-12-20T17:18:51.624092",
     "status": "completed"
    },
    "tags": []
   },
   "outputs": [],
   "source": [
    "# Lines below will give you a hint or solution code\n",
    "#q_2.hint()\n",
    "#q_2.solution()"
   ]
  },
  {
   "cell_type": "markdown",
   "id": "2cd8d581",
   "metadata": {
    "lines_to_next_cell": 0,
    "papermill": {
     "duration": 0.005876,
     "end_time": "2023-12-20T17:18:51.652070",
     "exception": false,
     "start_time": "2023-12-20T17:18:51.646194",
     "status": "completed"
    },
    "tags": []
   },
   "source": [
    "# 3) Count Feature\n",
    "\n",
    "Let's try creating a feature that describes how many kinds of outdoor areas a dwelling has. Create a feature `PorchTypes` that counts how many of the following are greater than 0.0:\n",
    "\n",
    "```\n",
    "WoodDeckSF\n",
    "OpenPorchSF\n",
    "EnclosedPorch\n",
    "Threeseasonporch\n",
    "ScreenPorch\n",
    "```"
   ]
  },
  {
   "cell_type": "code",
   "execution_count": 6,
   "id": "f38ca2e0",
   "metadata": {
    "execution": {
     "iopub.execute_input": "2023-12-20T17:18:51.665957Z",
     "iopub.status.busy": "2023-12-20T17:18:51.665570Z",
     "iopub.status.idle": "2023-12-20T17:18:51.684534Z",
     "shell.execute_reply": "2023-12-20T17:18:51.683457Z"
    },
    "lines_to_next_cell": 0,
    "papermill": {
     "duration": 0.028739,
     "end_time": "2023-12-20T17:18:51.686844",
     "exception": false,
     "start_time": "2023-12-20T17:18:51.658105",
     "status": "completed"
    },
    "tags": []
   },
   "outputs": [
    {
     "data": {
      "application/javascript": [
       "parent.postMessage({\"jupyterEvent\": \"custom.exercise_interaction\", \"data\": {\"outcomeType\": 1, \"valueTowardsCompletion\": 0.2, \"interactionType\": 1, \"questionType\": 2, \"questionId\": \"3_Q3\", \"learnToolsVersion\": \"0.3.4\", \"failureMessage\": \"\", \"exceptionClass\": \"\", \"trace\": \"\"}}, \"*\")"
      ],
      "text/plain": [
       "<IPython.core.display.Javascript object>"
      ]
     },
     "metadata": {},
     "output_type": "display_data"
    },
    {
     "data": {
      "text/markdown": [
       "<span style=\"color:#33cc33\">Correct</span>"
      ],
      "text/plain": [
       "Correct"
      ]
     },
     "metadata": {},
     "output_type": "display_data"
    }
   ],
   "source": [
    "X_3 = pd.DataFrame()\n",
    "\n",
    "# YOUR CODE HERE\n",
    "X_3[\"PorchTypes\"] = df[[\n",
    "    \"WoodDeckSF\",\n",
    "    \"OpenPorchSF\",\n",
    "    \"EnclosedPorch\",\n",
    "    \"Threeseasonporch\",\n",
    "    \"ScreenPorch\",\n",
    "]].gt(0.0).sum(axis=1)\n",
    "\n",
    "\n",
    "# Check your answer\n",
    "q_3.check()"
   ]
  },
  {
   "cell_type": "code",
   "execution_count": 7,
   "id": "884a969d",
   "metadata": {
    "execution": {
     "iopub.execute_input": "2023-12-20T17:18:51.701416Z",
     "iopub.status.busy": "2023-12-20T17:18:51.700981Z",
     "iopub.status.idle": "2023-12-20T17:18:51.706178Z",
     "shell.execute_reply": "2023-12-20T17:18:51.705003Z"
    },
    "lines_to_next_cell": 0,
    "papermill": {
     "duration": 0.015564,
     "end_time": "2023-12-20T17:18:51.708756",
     "exception": false,
     "start_time": "2023-12-20T17:18:51.693192",
     "status": "completed"
    },
    "tags": []
   },
   "outputs": [],
   "source": [
    "# Lines below will give you a hint or solution code\n",
    "#q_3.hint()\n",
    "#q_3.solution()"
   ]
  },
  {
   "cell_type": "markdown",
   "id": "789d532f",
   "metadata": {
    "papermill": {
     "duration": 0.005952,
     "end_time": "2023-12-20T17:18:51.721084",
     "exception": false,
     "start_time": "2023-12-20T17:18:51.715132",
     "status": "completed"
    },
    "tags": []
   },
   "source": [
    "# 4) Break Down a Categorical Feature\n",
    "\n",
    "`MSSubClass` describes the type of a dwelling:"
   ]
  },
  {
   "cell_type": "code",
   "execution_count": 8,
   "id": "f3d84b62",
   "metadata": {
    "execution": {
     "iopub.execute_input": "2023-12-20T17:18:51.735164Z",
     "iopub.status.busy": "2023-12-20T17:18:51.734730Z",
     "iopub.status.idle": "2023-12-20T17:18:51.743878Z",
     "shell.execute_reply": "2023-12-20T17:18:51.742823Z"
    },
    "papermill": {
     "duration": 0.018597,
     "end_time": "2023-12-20T17:18:51.745930",
     "exception": false,
     "start_time": "2023-12-20T17:18:51.727333",
     "status": "completed"
    },
    "tags": []
   },
   "outputs": [
    {
     "data": {
      "text/plain": [
       "array(['One_Story_1946_and_Newer_All_Styles', 'Two_Story_1946_and_Newer',\n",
       "       'One_Story_PUD_1946_and_Newer',\n",
       "       'One_and_Half_Story_Finished_All_Ages', 'Split_Foyer',\n",
       "       'Two_Story_PUD_1946_and_Newer', 'Split_or_Multilevel',\n",
       "       'One_Story_1945_and_Older', 'Duplex_All_Styles_and_Ages',\n",
       "       'Two_Family_conversion_All_Styles_and_Ages',\n",
       "       'One_and_Half_Story_Unfinished_All_Ages',\n",
       "       'Two_Story_1945_and_Older', 'Two_and_Half_Story_All_Ages',\n",
       "       'One_Story_with_Finished_Attic_All_Ages',\n",
       "       'PUD_Multilevel_Split_Level_Foyer',\n",
       "       'One_and_Half_Story_PUD_All_Ages'], dtype=object)"
      ]
     },
     "execution_count": 8,
     "metadata": {},
     "output_type": "execute_result"
    }
   ],
   "source": [
    "df.MSSubClass.unique()"
   ]
  },
  {
   "cell_type": "markdown",
   "id": "9c7454ea",
   "metadata": {
    "papermill": {
     "duration": 0.006046,
     "end_time": "2023-12-20T17:18:51.758556",
     "exception": false,
     "start_time": "2023-12-20T17:18:51.752510",
     "status": "completed"
    },
    "tags": []
   },
   "source": [
    "You can see that there is a more general categorization described (roughly) by the first word of each category. Create a feature containing only these first words by splitting `MSSubClass` at the first underscore `_`. (Hint: In the `split` method use an argument `n=1`.)"
   ]
  },
  {
   "cell_type": "code",
   "execution_count": 9,
   "id": "5313c27d",
   "metadata": {
    "execution": {
     "iopub.execute_input": "2023-12-20T17:18:51.773266Z",
     "iopub.status.busy": "2023-12-20T17:18:51.772492Z",
     "iopub.status.idle": "2023-12-20T17:18:51.792706Z",
     "shell.execute_reply": "2023-12-20T17:18:51.791847Z"
    },
    "lines_to_next_cell": 0,
    "papermill": {
     "duration": 0.029892,
     "end_time": "2023-12-20T17:18:51.794707",
     "exception": false,
     "start_time": "2023-12-20T17:18:51.764815",
     "status": "completed"
    },
    "tags": []
   },
   "outputs": [
    {
     "data": {
      "application/javascript": [
       "parent.postMessage({\"jupyterEvent\": \"custom.exercise_interaction\", \"data\": {\"outcomeType\": 1, \"valueTowardsCompletion\": 0.2, \"interactionType\": 1, \"questionType\": 2, \"questionId\": \"4_Q4\", \"learnToolsVersion\": \"0.3.4\", \"failureMessage\": \"\", \"exceptionClass\": \"\", \"trace\": \"\"}}, \"*\")"
      ],
      "text/plain": [
       "<IPython.core.display.Javascript object>"
      ]
     },
     "metadata": {},
     "output_type": "display_data"
    },
    {
     "data": {
      "text/markdown": [
       "<span style=\"color:#33cc33\">Correct</span>"
      ],
      "text/plain": [
       "Correct"
      ]
     },
     "metadata": {},
     "output_type": "display_data"
    }
   ],
   "source": [
    "X_4 = pd.DataFrame()\n",
    "\n",
    "# YOUR CODE HERE\n",
    "X_4[\"MSClass\"] = df.MSSubClass.str.split(\"_\", n=1, expand=True)[0]\n",
    "# Check your answer\n",
    "q_4.check()"
   ]
  },
  {
   "cell_type": "code",
   "execution_count": 10,
   "id": "c9645e6c",
   "metadata": {
    "execution": {
     "iopub.execute_input": "2023-12-20T17:18:51.810276Z",
     "iopub.status.busy": "2023-12-20T17:18:51.809515Z",
     "iopub.status.idle": "2023-12-20T17:18:51.814352Z",
     "shell.execute_reply": "2023-12-20T17:18:51.812924Z"
    },
    "lines_to_next_cell": 0,
    "papermill": {
     "duration": 0.015354,
     "end_time": "2023-12-20T17:18:51.816847",
     "exception": false,
     "start_time": "2023-12-20T17:18:51.801493",
     "status": "completed"
    },
    "tags": []
   },
   "outputs": [],
   "source": [
    "# Lines below will give you a hint or solution code\n",
    "#q_4.hint()\n",
    "#q_4.solution()"
   ]
  },
  {
   "cell_type": "markdown",
   "id": "6363c39d",
   "metadata": {
    "papermill": {
     "duration": 0.006216,
     "end_time": "2023-12-20T17:18:51.829735",
     "exception": false,
     "start_time": "2023-12-20T17:18:51.823519",
     "status": "completed"
    },
    "tags": []
   },
   "source": [
    "# 5) Use a Grouped Transform\n",
    "\n",
    "The value of a home often depends on how it compares to typical homes in its neighborhood. Create a feature `MedNhbdArea` that describes the *median* of `GrLivArea` grouped on `Neighborhood`."
   ]
  },
  {
   "cell_type": "code",
   "execution_count": 11,
   "id": "312678da",
   "metadata": {
    "execution": {
     "iopub.execute_input": "2023-12-20T17:18:51.844771Z",
     "iopub.status.busy": "2023-12-20T17:18:51.844336Z",
     "iopub.status.idle": "2023-12-20T17:18:51.863582Z",
     "shell.execute_reply": "2023-12-20T17:18:51.862246Z"
    },
    "lines_to_next_cell": 0,
    "papermill": {
     "duration": 0.029429,
     "end_time": "2023-12-20T17:18:51.865827",
     "exception": false,
     "start_time": "2023-12-20T17:18:51.836398",
     "status": "completed"
    },
    "tags": []
   },
   "outputs": [
    {
     "data": {
      "application/javascript": [
       "parent.postMessage({\"jupyterEvent\": \"custom.exercise_interaction\", \"data\": {\"outcomeType\": 1, \"valueTowardsCompletion\": 0.2, \"interactionType\": 1, \"questionType\": 2, \"questionId\": \"5_Q5\", \"learnToolsVersion\": \"0.3.4\", \"failureMessage\": \"\", \"exceptionClass\": \"\", \"trace\": \"\"}}, \"*\")"
      ],
      "text/plain": [
       "<IPython.core.display.Javascript object>"
      ]
     },
     "metadata": {},
     "output_type": "display_data"
    },
    {
     "data": {
      "text/markdown": [
       "<span style=\"color:#33cc33\">Correct</span>"
      ],
      "text/plain": [
       "Correct"
      ]
     },
     "metadata": {},
     "output_type": "display_data"
    }
   ],
   "source": [
    "X_5 = pd.DataFrame()\n",
    "\n",
    "# YOUR CODE HERE\n",
    "X_5[\"MedNhbdArea\"] = df.groupby(\"Neighborhood\")[\"GrLivArea\"].transform(\"median\")\n",
    "\n",
    "# Check your answer\n",
    "q_5.check()"
   ]
  },
  {
   "cell_type": "code",
   "execution_count": 12,
   "id": "e1f8def7",
   "metadata": {
    "execution": {
     "iopub.execute_input": "2023-12-20T17:18:51.881279Z",
     "iopub.status.busy": "2023-12-20T17:18:51.880902Z",
     "iopub.status.idle": "2023-12-20T17:18:51.884824Z",
     "shell.execute_reply": "2023-12-20T17:18:51.883795Z"
    },
    "lines_to_next_cell": 0,
    "papermill": {
     "duration": 0.01443,
     "end_time": "2023-12-20T17:18:51.886962",
     "exception": false,
     "start_time": "2023-12-20T17:18:51.872532",
     "status": "completed"
    },
    "tags": []
   },
   "outputs": [],
   "source": [
    "# Lines below will give you a hint or solution code\n",
    "#q_5.hint()\n",
    "#q_5.solution()"
   ]
  },
  {
   "cell_type": "markdown",
   "id": "938efe7e",
   "metadata": {
    "papermill": {
     "duration": 0.006488,
     "end_time": "2023-12-20T17:18:51.900664",
     "exception": false,
     "start_time": "2023-12-20T17:18:51.894176",
     "status": "completed"
    },
    "tags": []
   },
   "source": [
    "Now you've made your first new feature set! If you like, you can run the cell below to score the model with all of your new features added:"
   ]
  },
  {
   "cell_type": "code",
   "execution_count": 13,
   "id": "1cce0ff2",
   "metadata": {
    "execution": {
     "iopub.execute_input": "2023-12-20T17:18:51.915821Z",
     "iopub.status.busy": "2023-12-20T17:18:51.915403Z",
     "iopub.status.idle": "2023-12-20T17:18:54.701531Z",
     "shell.execute_reply": "2023-12-20T17:18:54.700382Z"
    },
    "papermill": {
     "duration": 2.796561,
     "end_time": "2023-12-20T17:18:54.703888",
     "exception": false,
     "start_time": "2023-12-20T17:18:51.907327",
     "status": "completed"
    },
    "tags": []
   },
   "outputs": [
    {
     "data": {
      "text/plain": [
       "0.13954039591355258"
      ]
     },
     "execution_count": 13,
     "metadata": {},
     "output_type": "execute_result"
    }
   ],
   "source": [
    "X_new = X.join([X_1, X_2, X_3, X_4, X_5])\n",
    "score_dataset(X_new, y)"
   ]
  },
  {
   "cell_type": "markdown",
   "id": "a77e07ca",
   "metadata": {
    "papermill": {
     "duration": 0.006619,
     "end_time": "2023-12-20T17:18:54.717553",
     "exception": false,
     "start_time": "2023-12-20T17:18:54.710934",
     "status": "completed"
    },
    "tags": []
   },
   "source": [
    "# Keep Going #\n",
    "\n",
    "[**Untangle spatial relationships**](https://www.kaggle.com/ryanholbrook/clustering-with-k-means) by adding cluster labels to your dataset."
   ]
  },
  {
   "cell_type": "markdown",
   "id": "fd3c6e7b",
   "metadata": {
    "papermill": {
     "duration": 0.00654,
     "end_time": "2023-12-20T17:18:54.730882",
     "exception": false,
     "start_time": "2023-12-20T17:18:54.724342",
     "status": "completed"
    },
    "tags": []
   },
   "source": [
    "---\n",
    "\n",
    "\n",
    "\n",
    "\n",
    "*Have questions or comments? Visit the [course discussion forum](https://www.kaggle.com/learn/feature-engineering/discussion) to chat with other learners.*"
   ]
  }
 ],
 "metadata": {
  "jupytext": {
   "cell_metadata_filter": "-all",
   "formats": "ipynb"
  },
  "kaggle": {
   "accelerator": "none",
   "dataSources": [
    {
     "datasetId": 933090,
     "sourceId": 1828856,
     "sourceType": "datasetVersion"
    }
   ],
   "isGpuEnabled": false,
   "isInternetEnabled": false,
   "language": "python",
   "sourceType": "notebook"
  },
  "kernelspec": {
   "display_name": "Python 3",
   "language": "python",
   "name": "python3"
  },
  "language_info": {
   "codemirror_mode": {
    "name": "ipython",
    "version": 3
   },
   "file_extension": ".py",
   "mimetype": "text/x-python",
   "name": "python",
   "nbconvert_exporter": "python",
   "pygments_lexer": "ipython3",
   "version": "3.10.12"
  },
  "papermill": {
   "default_parameters": {},
   "duration": 10.778677,
   "end_time": "2023-12-20T17:18:55.359028",
   "environment_variables": {},
   "exception": null,
   "input_path": "__notebook__.ipynb",
   "output_path": "__notebook__.ipynb",
   "parameters": {},
   "start_time": "2023-12-20T17:18:44.580351",
   "version": "2.4.0"
  }
 },
 "nbformat": 4,
 "nbformat_minor": 5
}
