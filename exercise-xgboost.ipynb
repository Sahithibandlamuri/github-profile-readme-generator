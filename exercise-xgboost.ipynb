{
 "cells": [
  {
   "cell_type": "markdown",
   "id": "63e23757",
   "metadata": {
    "papermill": {
     "duration": 0.008186,
     "end_time": "2023-12-19T10:32:13.087812",
     "exception": false,
     "start_time": "2023-12-19T10:32:13.079626",
     "status": "completed"
    },
    "tags": []
   },
   "source": [
    "**This notebook is an exercise in the [Intermediate Machine Learning](https://www.kaggle.com/learn/intermediate-machine-learning) course.  You can reference the tutorial at [this link](https://www.kaggle.com/alexisbcook/xgboost).**\n",
    "\n",
    "---\n"
   ]
  },
  {
   "cell_type": "markdown",
   "id": "89634fde",
   "metadata": {
    "papermill": {
     "duration": 0.006732,
     "end_time": "2023-12-19T10:32:13.102026",
     "exception": false,
     "start_time": "2023-12-19T10:32:13.095294",
     "status": "completed"
    },
    "tags": []
   },
   "source": [
    "In this exercise, you will use your new knowledge to train a model with **gradient boosting**.\n",
    "\n",
    "# Setup\n",
    "\n",
    "The questions below will give you feedback on your work. Run the following cell to set up the feedback system."
   ]
  },
  {
   "cell_type": "code",
   "execution_count": 1,
   "id": "16da1d9a",
   "metadata": {
    "execution": {
     "iopub.execute_input": "2023-12-19T10:32:13.118368Z",
     "iopub.status.busy": "2023-12-19T10:32:13.117931Z",
     "iopub.status.idle": "2023-12-19T10:32:16.436947Z",
     "shell.execute_reply": "2023-12-19T10:32:16.435662Z"
    },
    "papermill": {
     "duration": 3.330664,
     "end_time": "2023-12-19T10:32:16.439804",
     "exception": false,
     "start_time": "2023-12-19T10:32:13.109140",
     "status": "completed"
    },
    "tags": []
   },
   "outputs": [
    {
     "name": "stdout",
     "output_type": "stream",
     "text": [
      "Setup Complete\n"
     ]
    }
   ],
   "source": [
    "# Set up code checking\n",
    "import os\n",
    "if not os.path.exists(\"../input/train.csv\"):\n",
    "    os.symlink(\"../input/home-data-for-ml-course/train.csv\", \"../input/train.csv\")  \n",
    "    os.symlink(\"../input/home-data-for-ml-course/test.csv\", \"../input/test.csv\") \n",
    "from learntools.core import binder\n",
    "binder.bind(globals())\n",
    "from learntools.ml_intermediate.ex6 import *\n",
    "print(\"Setup Complete\")"
   ]
  },
  {
   "cell_type": "markdown",
   "id": "7d0706ec",
   "metadata": {
    "papermill": {
     "duration": 0.007825,
     "end_time": "2023-12-19T10:32:16.456028",
     "exception": false,
     "start_time": "2023-12-19T10:32:16.448203",
     "status": "completed"
    },
    "tags": []
   },
   "source": [
    "You will work with the [Housing Prices Competition for Kaggle Learn Users](https://www.kaggle.com/c/home-data-for-ml-course) dataset from the previous exercise. \n",
    "\n",
    "![Ames Housing dataset image](https://storage.googleapis.com/kaggle-media/learn/images/lTJVG4e.png)\n",
    "\n",
    "Run the next code cell without changes to load the training and validation sets in `X_train`, `X_valid`, `y_train`, and `y_valid`.  The test set is loaded in `X_test`."
   ]
  },
  {
   "cell_type": "code",
   "execution_count": 2,
   "id": "cbe0d55b",
   "metadata": {
    "execution": {
     "iopub.execute_input": "2023-12-19T10:32:16.474868Z",
     "iopub.status.busy": "2023-12-19T10:32:16.472899Z",
     "iopub.status.idle": "2023-12-19T10:32:16.692253Z",
     "shell.execute_reply": "2023-12-19T10:32:16.690876Z"
    },
    "papermill": {
     "duration": 0.231439,
     "end_time": "2023-12-19T10:32:16.695270",
     "exception": false,
     "start_time": "2023-12-19T10:32:16.463831",
     "status": "completed"
    },
    "tags": []
   },
   "outputs": [],
   "source": [
    "import pandas as pd\n",
    "from sklearn.model_selection import train_test_split\n",
    "\n",
    "# Read the data\n",
    "X = pd.read_csv('../input/train.csv', index_col='Id')\n",
    "X_test_full = pd.read_csv('../input/test.csv', index_col='Id')\n",
    "\n",
    "# Remove rows with missing target, separate target from predictors\n",
    "X.dropna(axis=0, subset=['SalePrice'], inplace=True)\n",
    "y = X.SalePrice              \n",
    "X.drop(['SalePrice'], axis=1, inplace=True)\n",
    "\n",
    "# Break off validation set from training data\n",
    "X_train_full, X_valid_full, y_train, y_valid = train_test_split(X, y, train_size=0.8, test_size=0.2,\n",
    "                                                                random_state=0)\n",
    "\n",
    "# \"Cardinality\" means the number of unique values in a column\n",
    "# Select categorical columns with relatively low cardinality (convenient but arbitrary)\n",
    "low_cardinality_cols = [cname for cname in X_train_full.columns if X_train_full[cname].nunique() < 10 and \n",
    "                        X_train_full[cname].dtype == \"object\"]\n",
    "\n",
    "# Select numeric columns\n",
    "numeric_cols = [cname for cname in X_train_full.columns if X_train_full[cname].dtype in ['int64', 'float64']]\n",
    "\n",
    "# Keep selected columns only\n",
    "my_cols = low_cardinality_cols + numeric_cols\n",
    "X_train = X_train_full[my_cols].copy()\n",
    "X_valid = X_valid_full[my_cols].copy()\n",
    "X_test = X_test_full[my_cols].copy()\n",
    "\n",
    "# One-hot encode the data (to shorten the code, we use pandas)\n",
    "X_train = pd.get_dummies(X_train)\n",
    "X_valid = pd.get_dummies(X_valid)\n",
    "X_test = pd.get_dummies(X_test)\n",
    "X_train, X_valid = X_train.align(X_valid, join='left', axis=1)\n",
    "X_train, X_test = X_train.align(X_test, join='left', axis=1)"
   ]
  },
  {
   "cell_type": "markdown",
   "id": "abf48cf6",
   "metadata": {
    "papermill": {
     "duration": 0.007625,
     "end_time": "2023-12-19T10:32:16.710213",
     "exception": false,
     "start_time": "2023-12-19T10:32:16.702588",
     "status": "completed"
    },
    "tags": []
   },
   "source": [
    "# Step 1: Build model\n",
    "\n",
    "### Part A\n",
    "\n",
    "In this step, you'll build and train your first model with gradient boosting.\n",
    "\n",
    "- Begin by setting `my_model_1` to an XGBoost model.  Use the [XGBRegressor](https://xgboost.readthedocs.io/en/latest/python/python_api.html#xgboost.XGBRegressor) class, and set the random seed to 0 (`random_state=0`).  **Leave all other parameters as default.**\n",
    "- Then, fit the model to the training data in `X_train` and `y_train`."
   ]
  },
  {
   "cell_type": "code",
   "execution_count": 3,
   "id": "f10d052e",
   "metadata": {
    "execution": {
     "iopub.execute_input": "2023-12-19T10:32:16.726559Z",
     "iopub.status.busy": "2023-12-19T10:32:16.726170Z",
     "iopub.status.idle": "2023-12-19T10:32:17.314873Z",
     "shell.execute_reply": "2023-12-19T10:32:17.312650Z"
    },
    "papermill": {
     "duration": 0.600475,
     "end_time": "2023-12-19T10:32:17.318107",
     "exception": false,
     "start_time": "2023-12-19T10:32:16.717632",
     "status": "completed"
    },
    "tags": []
   },
   "outputs": [
    {
     "data": {
      "application/javascript": [
       "parent.postMessage({\"jupyterEvent\": \"custom.exercise_interaction\", \"data\": {\"outcomeType\": 1, \"valueTowardsCompletion\": 0.5, \"interactionType\": 1, \"questionType\": 2, \"questionId\": \"1.1_Model1A\", \"learnToolsVersion\": \"0.3.4\", \"failureMessage\": \"\", \"exceptionClass\": \"\", \"trace\": \"\"}}, \"*\")"
      ],
      "text/plain": [
       "<IPython.core.display.Javascript object>"
      ]
     },
     "metadata": {},
     "output_type": "display_data"
    },
    {
     "data": {
      "text/markdown": [
       "<span style=\"color:#33cc33\">Correct</span>"
      ],
      "text/plain": [
       "Correct"
      ]
     },
     "metadata": {},
     "output_type": "display_data"
    }
   ],
   "source": [
    "from xgboost import XGBRegressor\n",
    "\n",
    "# Define the model\n",
    "my_model_1 = XGBRegressor(random_state=0)\n",
    " # Your code here\n",
    "\n",
    "# Fit the model\n",
    "my_model_1.fit(X_train, y_train)\n",
    "# Check your answer\n",
    "step_1.a.check()"
   ]
  },
  {
   "cell_type": "code",
   "execution_count": 4,
   "id": "8987007c",
   "metadata": {
    "execution": {
     "iopub.execute_input": "2023-12-19T10:32:17.336333Z",
     "iopub.status.busy": "2023-12-19T10:32:17.335875Z",
     "iopub.status.idle": "2023-12-19T10:32:17.341554Z",
     "shell.execute_reply": "2023-12-19T10:32:17.340090Z"
    },
    "papermill": {
     "duration": 0.017666,
     "end_time": "2023-12-19T10:32:17.344187",
     "exception": false,
     "start_time": "2023-12-19T10:32:17.326521",
     "status": "completed"
    },
    "tags": []
   },
   "outputs": [],
   "source": [
    "# Lines below will give you a hint or solution code\n",
    "#step_1.a.hint()\n",
    "#step_1.a.solution()"
   ]
  },
  {
   "cell_type": "markdown",
   "id": "da2e36fe",
   "metadata": {
    "papermill": {
     "duration": 0.007498,
     "end_time": "2023-12-19T10:32:17.359338",
     "exception": false,
     "start_time": "2023-12-19T10:32:17.351840",
     "status": "completed"
    },
    "tags": []
   },
   "source": [
    "### Part B\n",
    "\n",
    "Set `predictions_1` to the model's predictions for the validation data.  Recall that the validation features are stored in `X_valid`."
   ]
  },
  {
   "cell_type": "code",
   "execution_count": 5,
   "id": "62d7de55",
   "metadata": {
    "execution": {
     "iopub.execute_input": "2023-12-19T10:32:17.377047Z",
     "iopub.status.busy": "2023-12-19T10:32:17.376619Z",
     "iopub.status.idle": "2023-12-19T10:32:17.439163Z",
     "shell.execute_reply": "2023-12-19T10:32:17.438052Z"
    },
    "papermill": {
     "duration": 0.07793,
     "end_time": "2023-12-19T10:32:17.444862",
     "exception": false,
     "start_time": "2023-12-19T10:32:17.366932",
     "status": "completed"
    },
    "tags": []
   },
   "outputs": [
    {
     "data": {
      "application/javascript": [
       "parent.postMessage({\"jupyterEvent\": \"custom.exercise_interaction\", \"data\": {\"outcomeType\": 1, \"valueTowardsCompletion\": 0.5, \"interactionType\": 1, \"questionType\": 2, \"questionId\": \"1.2_Model1B\", \"learnToolsVersion\": \"0.3.4\", \"failureMessage\": \"\", \"exceptionClass\": \"\", \"trace\": \"\"}}, \"*\")"
      ],
      "text/plain": [
       "<IPython.core.display.Javascript object>"
      ]
     },
     "metadata": {},
     "output_type": "display_data"
    },
    {
     "data": {
      "text/markdown": [
       "<span style=\"color:#33cc33\">Correct</span>"
      ],
      "text/plain": [
       "Correct"
      ]
     },
     "metadata": {},
     "output_type": "display_data"
    }
   ],
   "source": [
    "from sklearn.metrics import mean_absolute_error\n",
    "\n",
    "# Get predictions\n",
    "predictions_1 = my_model_1.predict(X_valid)# Your code here\n",
    "\n",
    "# Check your answer\n",
    "step_1.b.check()"
   ]
  },
  {
   "cell_type": "code",
   "execution_count": 6,
   "id": "8c59e76b",
   "metadata": {
    "execution": {
     "iopub.execute_input": "2023-12-19T10:32:17.463582Z",
     "iopub.status.busy": "2023-12-19T10:32:17.463177Z",
     "iopub.status.idle": "2023-12-19T10:32:17.467801Z",
     "shell.execute_reply": "2023-12-19T10:32:17.466756Z"
    },
    "papermill": {
     "duration": 0.016624,
     "end_time": "2023-12-19T10:32:17.470243",
     "exception": false,
     "start_time": "2023-12-19T10:32:17.453619",
     "status": "completed"
    },
    "tags": []
   },
   "outputs": [],
   "source": [
    "# Lines below will give you a hint or solution code\n",
    "#step_1.b.hint()\n",
    "#step_1.b.solution()"
   ]
  },
  {
   "cell_type": "markdown",
   "id": "5e953153",
   "metadata": {
    "papermill": {
     "duration": 0.007567,
     "end_time": "2023-12-19T10:32:17.485939",
     "exception": false,
     "start_time": "2023-12-19T10:32:17.478372",
     "status": "completed"
    },
    "tags": []
   },
   "source": [
    "### Part C\n",
    "\n",
    "Finally, use the `mean_absolute_error()` function to calculate the mean absolute error (MAE) corresponding to the predictions for the validation set.  Recall that the labels for the validation data are stored in `y_valid`."
   ]
  },
  {
   "cell_type": "code",
   "execution_count": 7,
   "id": "3217dc50",
   "metadata": {
    "execution": {
     "iopub.execute_input": "2023-12-19T10:32:17.511062Z",
     "iopub.status.busy": "2023-12-19T10:32:17.510550Z",
     "iopub.status.idle": "2023-12-19T10:32:17.526384Z",
     "shell.execute_reply": "2023-12-19T10:32:17.524718Z"
    },
    "papermill": {
     "duration": 0.033029,
     "end_time": "2023-12-19T10:32:17.530435",
     "exception": false,
     "start_time": "2023-12-19T10:32:17.497406",
     "status": "completed"
    },
    "tags": []
   },
   "outputs": [
    {
     "name": "stdout",
     "output_type": "stream",
     "text": [
      "Mean Absolute Error: 18161.82412510702\n"
     ]
    },
    {
     "data": {
      "application/javascript": [
       "parent.postMessage({\"jupyterEvent\": \"custom.exercise_interaction\", \"data\": {\"outcomeType\": 1, \"valueTowardsCompletion\": 0.5, \"interactionType\": 1, \"questionType\": 2, \"questionId\": \"1.3_Model1C\", \"learnToolsVersion\": \"0.3.4\", \"failureMessage\": \"\", \"exceptionClass\": \"\", \"trace\": \"\"}}, \"*\")"
      ],
      "text/plain": [
       "<IPython.core.display.Javascript object>"
      ]
     },
     "metadata": {},
     "output_type": "display_data"
    },
    {
     "data": {
      "text/markdown": [
       "<span style=\"color:#33cc33\">Correct</span>"
      ],
      "text/plain": [
       "Correct"
      ]
     },
     "metadata": {},
     "output_type": "display_data"
    }
   ],
   "source": [
    "# Calculate MAE\n",
    "mae_1 = mean_absolute_error(predictions_1, y_valid) # Your code here\n",
    "\n",
    "# Uncomment to print MAE\n",
    "print(\"Mean Absolute Error:\" , mae_1)\n",
    "\n",
    "# Check your answer\n",
    "step_1.c.check()"
   ]
  },
  {
   "cell_type": "code",
   "execution_count": 8,
   "id": "f042593b",
   "metadata": {
    "execution": {
     "iopub.execute_input": "2023-12-19T10:32:17.558948Z",
     "iopub.status.busy": "2023-12-19T10:32:17.558381Z",
     "iopub.status.idle": "2023-12-19T10:32:17.564873Z",
     "shell.execute_reply": "2023-12-19T10:32:17.563132Z"
    },
    "papermill": {
     "duration": 0.02527,
     "end_time": "2023-12-19T10:32:17.568156",
     "exception": false,
     "start_time": "2023-12-19T10:32:17.542886",
     "status": "completed"
    },
    "tags": []
   },
   "outputs": [],
   "source": [
    "# Lines below will give you a hint or solution code\n",
    "#step_1.c.hint()\n",
    "#step_1.c.solution()"
   ]
  },
  {
   "cell_type": "markdown",
   "id": "c38a80b1",
   "metadata": {
    "papermill": {
     "duration": 0.008139,
     "end_time": "2023-12-19T10:32:17.584876",
     "exception": false,
     "start_time": "2023-12-19T10:32:17.576737",
     "status": "completed"
    },
    "tags": []
   },
   "source": [
    "# Step 2: Improve the model\n",
    "\n",
    "Now that you've trained a default model as baseline, it's time to tinker with the parameters, to see if you can get better performance!\n",
    "- Begin by setting `my_model_2` to an XGBoost model, using the [XGBRegressor](https://xgboost.readthedocs.io/en/latest/python/python_api.html#xgboost.XGBRegressor) class.  Use what you learned in the previous tutorial to figure out how to change the default parameters (like `n_estimators` and `learning_rate`) to get better results.\n",
    "- Then, fit the model to the training data in `X_train` and `y_train`.\n",
    "- Set `predictions_2` to the model's predictions for the validation data.  Recall that the validation features are stored in `X_valid`.\n",
    "- Finally, use the `mean_absolute_error()` function to calculate the mean absolute error (MAE) corresponding to the predictions on the validation set.  Recall that the labels for the validation data are stored in `y_valid`.\n",
    "\n",
    "In order for this step to be marked correct, your model in `my_model_2` must attain lower MAE than the model in `my_model_1`. "
   ]
  },
  {
   "cell_type": "code",
   "execution_count": 9,
   "id": "179e76ff",
   "metadata": {
    "execution": {
     "iopub.execute_input": "2023-12-19T10:32:17.603375Z",
     "iopub.status.busy": "2023-12-19T10:32:17.602975Z",
     "iopub.status.idle": "2023-12-19T10:32:22.513347Z",
     "shell.execute_reply": "2023-12-19T10:32:22.512363Z"
    },
    "papermill": {
     "duration": 4.924463,
     "end_time": "2023-12-19T10:32:22.517690",
     "exception": false,
     "start_time": "2023-12-19T10:32:17.593227",
     "status": "completed"
    },
    "tags": []
   },
   "outputs": [
    {
     "name": "stdout",
     "output_type": "stream",
     "text": [
      "Mean Absolute Error: 17224.27947078339\n"
     ]
    },
    {
     "data": {
      "application/javascript": [
       "parent.postMessage({\"jupyterEvent\": \"custom.exercise_interaction\", \"data\": {\"outcomeType\": 1, \"valueTowardsCompletion\": 0.5, \"interactionType\": 1, \"questionType\": 2, \"questionId\": \"2_Model2\", \"learnToolsVersion\": \"0.3.4\", \"failureMessage\": \"\", \"exceptionClass\": \"\", \"trace\": \"\"}}, \"*\")"
      ],
      "text/plain": [
       "<IPython.core.display.Javascript object>"
      ]
     },
     "metadata": {},
     "output_type": "display_data"
    },
    {
     "data": {
      "text/markdown": [
       "<span style=\"color:#33cc33\">Correct</span>"
      ],
      "text/plain": [
       "Correct"
      ]
     },
     "metadata": {},
     "output_type": "display_data"
    }
   ],
   "source": [
    "# Define the model\n",
    "my_model_2 = XGBRegressor(n_estimators=1000, learning_rate=0.05)\n",
    "\n",
    "# Fit the model\n",
    "my_model_2.fit(X_train, y_train)\n",
    "\n",
    "# Get predictions\n",
    "predictions_2 = my_model_2.predict(X_valid)\n",
    "\n",
    "# Calculate MAE\n",
    "mae_2 = mean_absolute_error(predictions_2, y_valid)\n",
    "# Uncomment to print MAE\n",
    "print(\"Mean Absolute Error:\" , mae_2)\n",
    "\n",
    "# Check your answer\n",
    "step_2.check()"
   ]
  },
  {
   "cell_type": "code",
   "execution_count": 10,
   "id": "0e17f81d",
   "metadata": {
    "execution": {
     "iopub.execute_input": "2023-12-19T10:32:22.545313Z",
     "iopub.status.busy": "2023-12-19T10:32:22.544077Z",
     "iopub.status.idle": "2023-12-19T10:32:22.549609Z",
     "shell.execute_reply": "2023-12-19T10:32:22.548492Z"
    },
    "papermill": {
     "duration": 0.023267,
     "end_time": "2023-12-19T10:32:22.553259",
     "exception": false,
     "start_time": "2023-12-19T10:32:22.529992",
     "status": "completed"
    },
    "tags": []
   },
   "outputs": [],
   "source": [
    "# Lines below will give you a hint or solution code\n",
    "#step_2.hint()\n",
    "#step_2.solution()"
   ]
  },
  {
   "cell_type": "markdown",
   "id": "b05e7787",
   "metadata": {
    "papermill": {
     "duration": 0.008922,
     "end_time": "2023-12-19T10:32:22.571608",
     "exception": false,
     "start_time": "2023-12-19T10:32:22.562686",
     "status": "completed"
    },
    "tags": []
   },
   "source": [
    "# Step 3: Break the model\n",
    "\n",
    "In this step, you will create a model that performs worse than the original model in Step 1.  This will help you to develop your intuition for how to set parameters.  You might even find that you accidentally get better performance, which is ultimately a nice problem to have and a valuable learning experience!\n",
    "- Begin by setting `my_model_3` to an XGBoost model, using the [XGBRegressor](https://xgboost.readthedocs.io/en/latest/python/python_api.html#xgboost.XGBRegressor) class.  Use what you learned in the previous tutorial to figure out how to change the default parameters (like `n_estimators` and `learning_rate`) to design a model to get high MAE.\n",
    "- Then, fit the model to the training data in `X_train` and `y_train`.\n",
    "- Set `predictions_3` to the model's predictions for the validation data.  Recall that the validation features are stored in `X_valid`.\n",
    "- Finally, use the `mean_absolute_error()` function to calculate the mean absolute error (MAE) corresponding to the predictions on the validation set.  Recall that the labels for the validation data are stored in `y_valid`.\n",
    "\n",
    "In order for this step to be marked correct, your model in `my_model_3` must attain higher MAE than the model in `my_model_1`. "
   ]
  },
  {
   "cell_type": "code",
   "execution_count": 11,
   "id": "577e4902",
   "metadata": {
    "execution": {
     "iopub.execute_input": "2023-12-19T10:32:22.592333Z",
     "iopub.status.busy": "2023-12-19T10:32:22.591560Z",
     "iopub.status.idle": "2023-12-19T10:32:23.065237Z",
     "shell.execute_reply": "2023-12-19T10:32:23.064065Z"
    },
    "papermill": {
     "duration": 0.487334,
     "end_time": "2023-12-19T10:32:23.068460",
     "exception": false,
     "start_time": "2023-12-19T10:32:22.581126",
     "status": "completed"
    },
    "tags": []
   },
   "outputs": [
    {
     "name": "stdout",
     "output_type": "stream",
     "text": [
      "Mean Absolute Error: 42678.815550085616\n"
     ]
    },
    {
     "data": {
      "application/javascript": [
       "parent.postMessage({\"jupyterEvent\": \"custom.exercise_interaction\", \"data\": {\"outcomeType\": 1, \"valueTowardsCompletion\": 0.5, \"interactionType\": 1, \"questionType\": 2, \"questionId\": \"3_Model3\", \"learnToolsVersion\": \"0.3.4\", \"failureMessage\": \"\", \"exceptionClass\": \"\", \"trace\": \"\"}}, \"*\")"
      ],
      "text/plain": [
       "<IPython.core.display.Javascript object>"
      ]
     },
     "metadata": {},
     "output_type": "display_data"
    },
    {
     "data": {
      "text/markdown": [
       "<span style=\"color:#33cc33\">Correct</span>"
      ],
      "text/plain": [
       "Correct"
      ]
     },
     "metadata": {},
     "output_type": "display_data"
    }
   ],
   "source": [
    "# Define the model\n",
    "my_model_3 = XGBRegressor(n_estimators=1)\n",
    "\n",
    "# Fit the model\n",
    "my_model_3.fit(X_train, y_train)\n",
    "\n",
    "# Get predictions\n",
    "predictions_3 = my_model_3.predict(X_valid)\n",
    "\n",
    "# Calculate MAE\n",
    "mae_3 = mean_absolute_error(predictions_3, y_valid)\n",
    "# Uncomment to print MAE\n",
    "print(\"Mean Absolute Error:\" , mae_3)\n",
    "\n",
    "# Check your answer\n",
    "step_3.check()"
   ]
  },
  {
   "cell_type": "code",
   "execution_count": 12,
   "id": "f79f4286",
   "metadata": {
    "execution": {
     "iopub.execute_input": "2023-12-19T10:32:23.096104Z",
     "iopub.status.busy": "2023-12-19T10:32:23.095154Z",
     "iopub.status.idle": "2023-12-19T10:32:23.100489Z",
     "shell.execute_reply": "2023-12-19T10:32:23.099419Z"
    },
    "papermill": {
     "duration": 0.020981,
     "end_time": "2023-12-19T10:32:23.103441",
     "exception": false,
     "start_time": "2023-12-19T10:32:23.082460",
     "status": "completed"
    },
    "tags": []
   },
   "outputs": [],
   "source": [
    "# Lines below will give you a hint or solution code\n",
    "#step_3.hint()\n",
    "#step_3.solution()"
   ]
  },
  {
   "cell_type": "markdown",
   "id": "5f13f1e0",
   "metadata": {
    "papermill": {
     "duration": 0.008935,
     "end_time": "2023-12-19T10:32:23.123046",
     "exception": false,
     "start_time": "2023-12-19T10:32:23.114111",
     "status": "completed"
    },
    "tags": []
   },
   "source": [
    "# Keep going\n",
    "\n",
    "Continue to learn about **[data leakage](https://www.kaggle.com/alexisbcook/data-leakage)**.  This is an important issue for a data scientist to understand, and it has the potential to ruin your models in subtle and dangerous ways!"
   ]
  },
  {
   "cell_type": "markdown",
   "id": "8a3db129",
   "metadata": {
    "papermill": {
     "duration": 0.009124,
     "end_time": "2023-12-19T10:32:23.141431",
     "exception": false,
     "start_time": "2023-12-19T10:32:23.132307",
     "status": "completed"
    },
    "tags": []
   },
   "source": [
    "---\n",
    "\n",
    "\n",
    "\n",
    "\n",
    "*Have questions or comments? Visit the [course discussion forum](https://www.kaggle.com/learn/intermediate-machine-learning/discussion) to chat with other learners.*"
   ]
  }
 ],
 "metadata": {
  "kaggle": {
   "accelerator": "none",
   "dataSources": [
    {
     "databundleVersionId": 111096,
     "sourceId": 10211,
     "sourceType": "competition"
    }
   ],
   "isGpuEnabled": false,
   "isInternetEnabled": false,
   "language": "python",
   "sourceType": "notebook"
  },
  "kernelspec": {
   "display_name": "Python 3",
   "language": "python",
   "name": "python3"
  },
  "language_info": {
   "codemirror_mode": {
    "name": "ipython",
    "version": 3
   },
   "file_extension": ".py",
   "mimetype": "text/x-python",
   "name": "python",
   "nbconvert_exporter": "python",
   "pygments_lexer": "ipython3",
   "version": "3.10.12"
  },
  "papermill": {
   "default_parameters": {},
   "duration": 14.570376,
   "end_time": "2023-12-19T10:32:23.874675",
   "environment_variables": {},
   "exception": null,
   "input_path": "__notebook__.ipynb",
   "output_path": "__notebook__.ipynb",
   "parameters": {},
   "start_time": "2023-12-19T10:32:09.304299",
   "version": "2.4.0"
  }
 },
 "nbformat": 4,
 "nbformat_minor": 5
}
