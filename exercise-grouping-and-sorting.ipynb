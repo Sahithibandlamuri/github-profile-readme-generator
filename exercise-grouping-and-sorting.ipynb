{
 "cells": [
  {
   "cell_type": "markdown",
   "id": "5b19c95f",
   "metadata": {
    "papermill": {
     "duration": 0.00903,
     "end_time": "2023-12-19T06:43:35.660358",
     "exception": false,
     "start_time": "2023-12-19T06:43:35.651328",
     "status": "completed"
    },
    "tags": []
   },
   "source": [
    "**This notebook is an exercise in the [Pandas](https://www.kaggle.com/learn/pandas) course.  You can reference the tutorial at [this link](https://www.kaggle.com/residentmario/grouping-and-sorting).**\n",
    "\n",
    "---\n"
   ]
  },
  {
   "cell_type": "markdown",
   "id": "35febeaa",
   "metadata": {
    "papermill": {
     "duration": 0.008104,
     "end_time": "2023-12-19T06:43:35.677131",
     "exception": false,
     "start_time": "2023-12-19T06:43:35.669027",
     "status": "completed"
    },
    "tags": []
   },
   "source": [
    "# Introduction\n",
    "\n",
    "In these exercises we'll apply groupwise analysis to our dataset.\n",
    "\n",
    "Run the code cell below to load the data before running the exercises."
   ]
  },
  {
   "cell_type": "code",
   "execution_count": 1,
   "id": "261ac21a",
   "metadata": {
    "execution": {
     "iopub.execute_input": "2023-12-19T06:43:35.696272Z",
     "iopub.status.busy": "2023-12-19T06:43:35.695691Z",
     "iopub.status.idle": "2023-12-19T06:43:39.973124Z",
     "shell.execute_reply": "2023-12-19T06:43:39.971930Z"
    },
    "papermill": {
     "duration": 4.290527,
     "end_time": "2023-12-19T06:43:39.976050",
     "exception": false,
     "start_time": "2023-12-19T06:43:35.685523",
     "status": "completed"
    },
    "tags": []
   },
   "outputs": [
    {
     "name": "stdout",
     "output_type": "stream",
     "text": [
      "Setup complete.\n"
     ]
    }
   ],
   "source": [
    "import pandas as pd\n",
    "\n",
    "reviews = pd.read_csv(\"../input/wine-reviews/winemag-data-130k-v2.csv\", index_col=0)\n",
    "#pd.set_option(\"display.max_rows\", 5)\n",
    "\n",
    "from learntools.core import binder; binder.bind(globals())\n",
    "from learntools.pandas.grouping_and_sorting import *\n",
    "print(\"Setup complete.\")"
   ]
  },
  {
   "cell_type": "markdown",
   "id": "b3f9f339",
   "metadata": {
    "papermill": {
     "duration": 0.008101,
     "end_time": "2023-12-19T06:43:39.992877",
     "exception": false,
     "start_time": "2023-12-19T06:43:39.984776",
     "status": "completed"
    },
    "tags": []
   },
   "source": [
    "# Exercises"
   ]
  },
  {
   "cell_type": "markdown",
   "id": "fcd96c25",
   "metadata": {
    "papermill": {
     "duration": 0.008904,
     "end_time": "2023-12-19T06:43:40.010463",
     "exception": false,
     "start_time": "2023-12-19T06:43:40.001559",
     "status": "completed"
    },
    "tags": []
   },
   "source": [
    "## 1.\n",
    "Who are the most common wine reviewers in the dataset? Create a `Series` whose index is the `taster_twitter_handle` category from the dataset, and whose values count how many reviews each person wrote."
   ]
  },
  {
   "cell_type": "code",
   "execution_count": 2,
   "id": "e1f90e98",
   "metadata": {
    "execution": {
     "iopub.execute_input": "2023-12-19T06:43:40.030562Z",
     "iopub.status.busy": "2023-12-19T06:43:40.029775Z",
     "iopub.status.idle": "2023-12-19T06:43:40.078576Z",
     "shell.execute_reply": "2023-12-19T06:43:40.077404Z"
    },
    "papermill": {
     "duration": 0.06184,
     "end_time": "2023-12-19T06:43:40.081129",
     "exception": false,
     "start_time": "2023-12-19T06:43:40.019289",
     "status": "completed"
    },
    "tags": []
   },
   "outputs": [
    {
     "data": {
      "application/javascript": [
       "parent.postMessage({\"jupyterEvent\": \"custom.exercise_interaction\", \"data\": {\"outcomeType\": 1, \"valueTowardsCompletion\": 0.16666666666666666, \"interactionType\": 1, \"questionType\": 1, \"questionId\": \"1_ReviewsWritten\", \"learnToolsVersion\": \"0.3.4\", \"failureMessage\": \"\", \"exceptionClass\": \"\", \"trace\": \"\"}}, \"*\")"
      ],
      "text/plain": [
       "<IPython.core.display.Javascript object>"
      ]
     },
     "metadata": {},
     "output_type": "display_data"
    },
    {
     "data": {
      "text/markdown": [
       "<span style=\"color:#33cc33\">Correct:</span> \n",
       "\n",
       "\n",
       "```python\n",
       "reviews_written = reviews.groupby('taster_twitter_handle').size()\n",
       "```\n",
       "or\n",
       "```python\n",
       "reviews_written = reviews.groupby('taster_twitter_handle').taster_twitter_handle.count()\n",
       "```\n"
      ],
      "text/plain": [
       "Correct: \n",
       "\n",
       "\n",
       "```python\n",
       "reviews_written = reviews.groupby('taster_twitter_handle').size()\n",
       "```\n",
       "or\n",
       "```python\n",
       "reviews_written = reviews.groupby('taster_twitter_handle').taster_twitter_handle.count()\n",
       "```"
      ]
     },
     "metadata": {},
     "output_type": "display_data"
    }
   ],
   "source": [
    "# Your code here\n",
    "reviews_written = reviews.groupby('taster_twitter_handle').taster_twitter_handle.count()\n",
    "\n",
    "# Check your answer\n",
    "q1.check()"
   ]
  },
  {
   "cell_type": "code",
   "execution_count": 3,
   "id": "f893f574",
   "metadata": {
    "execution": {
     "iopub.execute_input": "2023-12-19T06:43:40.102324Z",
     "iopub.status.busy": "2023-12-19T06:43:40.101573Z",
     "iopub.status.idle": "2023-12-19T06:43:40.106357Z",
     "shell.execute_reply": "2023-12-19T06:43:40.105499Z"
    },
    "papermill": {
     "duration": 0.018838,
     "end_time": "2023-12-19T06:43:40.108928",
     "exception": false,
     "start_time": "2023-12-19T06:43:40.090090",
     "status": "completed"
    },
    "tags": []
   },
   "outputs": [],
   "source": [
    "#q1.hint()\n",
    "#q1.solution()"
   ]
  },
  {
   "cell_type": "markdown",
   "id": "be8e761d",
   "metadata": {
    "papermill": {
     "duration": 0.009117,
     "end_time": "2023-12-19T06:43:40.128946",
     "exception": false,
     "start_time": "2023-12-19T06:43:40.119829",
     "status": "completed"
    },
    "tags": []
   },
   "source": [
    "## 2.\n",
    "What is the best wine I can buy for a given amount of money? Create a `Series` whose index is wine prices and whose values is the maximum number of points a wine costing that much was given in a review. Sort the values by price, ascending (so that `4.0` dollars is at the top and `3300.0` dollars is at the bottom)."
   ]
  },
  {
   "cell_type": "code",
   "execution_count": 4,
   "id": "e8629cf9",
   "metadata": {
    "execution": {
     "iopub.execute_input": "2023-12-19T06:43:40.149622Z",
     "iopub.status.busy": "2023-12-19T06:43:40.148865Z",
     "iopub.status.idle": "2023-12-19T06:43:40.164729Z",
     "shell.execute_reply": "2023-12-19T06:43:40.163693Z"
    },
    "papermill": {
     "duration": 0.029218,
     "end_time": "2023-12-19T06:43:40.167235",
     "exception": false,
     "start_time": "2023-12-19T06:43:40.138017",
     "status": "completed"
    },
    "tags": []
   },
   "outputs": [
    {
     "data": {
      "application/javascript": [
       "parent.postMessage({\"jupyterEvent\": \"custom.exercise_interaction\", \"data\": {\"outcomeType\": 1, \"valueTowardsCompletion\": 0.16666666666666666, \"interactionType\": 1, \"questionType\": 1, \"questionId\": \"2_BestRatingPerPrice\", \"learnToolsVersion\": \"0.3.4\", \"failureMessage\": \"\", \"exceptionClass\": \"\", \"trace\": \"\"}}, \"*\")"
      ],
      "text/plain": [
       "<IPython.core.display.Javascript object>"
      ]
     },
     "metadata": {},
     "output_type": "display_data"
    },
    {
     "data": {
      "text/markdown": [
       "<span style=\"color:#33cc33\">Correct</span>"
      ],
      "text/plain": [
       "Correct"
      ]
     },
     "metadata": {},
     "output_type": "display_data"
    }
   ],
   "source": [
    "best_rating_per_price = reviews.groupby('price')['points'].max().sort_index()\n",
    "\n",
    "# Check your answer\n",
    "q2.check()"
   ]
  },
  {
   "cell_type": "code",
   "execution_count": 5,
   "id": "4cf23523",
   "metadata": {
    "execution": {
     "iopub.execute_input": "2023-12-19T06:43:40.188067Z",
     "iopub.status.busy": "2023-12-19T06:43:40.187233Z",
     "iopub.status.idle": "2023-12-19T06:43:40.192508Z",
     "shell.execute_reply": "2023-12-19T06:43:40.191545Z"
    },
    "papermill": {
     "duration": 0.018202,
     "end_time": "2023-12-19T06:43:40.194692",
     "exception": false,
     "start_time": "2023-12-19T06:43:40.176490",
     "status": "completed"
    },
    "tags": []
   },
   "outputs": [],
   "source": [
    "#q2.hint()\n",
    "#q2.solution()"
   ]
  },
  {
   "cell_type": "markdown",
   "id": "d876b207",
   "metadata": {
    "papermill": {
     "duration": 0.009017,
     "end_time": "2023-12-19T06:43:40.212988",
     "exception": false,
     "start_time": "2023-12-19T06:43:40.203971",
     "status": "completed"
    },
    "tags": []
   },
   "source": [
    "## 3.\n",
    "What are the minimum and maximum prices for each `variety` of wine? Create a `DataFrame` whose index is the `variety` category from the dataset and whose values are the `min` and `max` values thereof."
   ]
  },
  {
   "cell_type": "code",
   "execution_count": 6,
   "id": "f09c79d5",
   "metadata": {
    "execution": {
     "iopub.execute_input": "2023-12-19T06:43:40.234205Z",
     "iopub.status.busy": "2023-12-19T06:43:40.233545Z",
     "iopub.status.idle": "2023-12-19T06:43:40.273646Z",
     "shell.execute_reply": "2023-12-19T06:43:40.272576Z"
    },
    "papermill": {
     "duration": 0.053824,
     "end_time": "2023-12-19T06:43:40.276149",
     "exception": false,
     "start_time": "2023-12-19T06:43:40.222325",
     "status": "completed"
    },
    "tags": []
   },
   "outputs": [
    {
     "data": {
      "application/javascript": [
       "parent.postMessage({\"jupyterEvent\": \"custom.exercise_interaction\", \"data\": {\"outcomeType\": 1, \"valueTowardsCompletion\": 0.16666666666666666, \"interactionType\": 1, \"questionType\": 1, \"questionId\": \"3_PriceExtremes\", \"learnToolsVersion\": \"0.3.4\", \"failureMessage\": \"\", \"exceptionClass\": \"\", \"trace\": \"\"}}, \"*\")"
      ],
      "text/plain": [
       "<IPython.core.display.Javascript object>"
      ]
     },
     "metadata": {},
     "output_type": "display_data"
    },
    {
     "data": {
      "text/markdown": [
       "<span style=\"color:#33cc33\">Correct</span>"
      ],
      "text/plain": [
       "Correct"
      ]
     },
     "metadata": {},
     "output_type": "display_data"
    }
   ],
   "source": [
    "price_extremes = reviews.groupby('variety').price.agg([min, max])\n",
    "\n",
    "# Check your answer\n",
    "q3.check()"
   ]
  },
  {
   "cell_type": "code",
   "execution_count": 7,
   "id": "0c55de7e",
   "metadata": {
    "execution": {
     "iopub.execute_input": "2023-12-19T06:43:40.296985Z",
     "iopub.status.busy": "2023-12-19T06:43:40.296560Z",
     "iopub.status.idle": "2023-12-19T06:43:40.301528Z",
     "shell.execute_reply": "2023-12-19T06:43:40.300207Z"
    },
    "papermill": {
     "duration": 0.018233,
     "end_time": "2023-12-19T06:43:40.303913",
     "exception": false,
     "start_time": "2023-12-19T06:43:40.285680",
     "status": "completed"
    },
    "tags": []
   },
   "outputs": [],
   "source": [
    "#q3.hint()\n",
    "#q3.solution()"
   ]
  },
  {
   "cell_type": "markdown",
   "id": "b051e209",
   "metadata": {
    "papermill": {
     "duration": 0.009317,
     "end_time": "2023-12-19T06:43:40.323065",
     "exception": false,
     "start_time": "2023-12-19T06:43:40.313748",
     "status": "completed"
    },
    "tags": []
   },
   "source": [
    "## 4.\n",
    "What are the most expensive wine varieties? Create a variable `sorted_varieties` containing a copy of the dataframe from the previous question where varieties are sorted in descending order based on minimum price, then on maximum price (to break ties)."
   ]
  },
  {
   "cell_type": "code",
   "execution_count": 8,
   "id": "e24228f3",
   "metadata": {
    "execution": {
     "iopub.execute_input": "2023-12-19T06:43:40.344961Z",
     "iopub.status.busy": "2023-12-19T06:43:40.343805Z",
     "iopub.status.idle": "2023-12-19T06:43:40.356577Z",
     "shell.execute_reply": "2023-12-19T06:43:40.355498Z"
    },
    "papermill": {
     "duration": 0.026276,
     "end_time": "2023-12-19T06:43:40.358988",
     "exception": false,
     "start_time": "2023-12-19T06:43:40.332712",
     "status": "completed"
    },
    "tags": []
   },
   "outputs": [
    {
     "data": {
      "application/javascript": [
       "parent.postMessage({\"jupyterEvent\": \"custom.exercise_interaction\", \"data\": {\"outcomeType\": 1, \"valueTowardsCompletion\": 0.16666666666666666, \"interactionType\": 1, \"questionType\": 1, \"questionId\": \"4_SortedVarieties\", \"learnToolsVersion\": \"0.3.4\", \"failureMessage\": \"\", \"exceptionClass\": \"\", \"trace\": \"\"}}, \"*\")"
      ],
      "text/plain": [
       "<IPython.core.display.Javascript object>"
      ]
     },
     "metadata": {},
     "output_type": "display_data"
    },
    {
     "data": {
      "text/markdown": [
       "<span style=\"color:#33cc33\">Correct</span>"
      ],
      "text/plain": [
       "Correct"
      ]
     },
     "metadata": {},
     "output_type": "display_data"
    }
   ],
   "source": [
    "sorted_varieties = price_extremes.sort_values(by=['min', 'max'], ascending=False)\n",
    "\n",
    "# Check your answer\n",
    "q4.check()"
   ]
  },
  {
   "cell_type": "code",
   "execution_count": 9,
   "id": "23a5cfba",
   "metadata": {
    "execution": {
     "iopub.execute_input": "2023-12-19T06:43:40.381176Z",
     "iopub.status.busy": "2023-12-19T06:43:40.380752Z",
     "iopub.status.idle": "2023-12-19T06:43:40.385991Z",
     "shell.execute_reply": "2023-12-19T06:43:40.384694Z"
    },
    "papermill": {
     "duration": 0.019245,
     "end_time": "2023-12-19T06:43:40.388459",
     "exception": false,
     "start_time": "2023-12-19T06:43:40.369214",
     "status": "completed"
    },
    "tags": []
   },
   "outputs": [],
   "source": [
    "#q4.hint()\n",
    "#q4.solution()"
   ]
  },
  {
   "cell_type": "markdown",
   "id": "74a93d20",
   "metadata": {
    "papermill": {
     "duration": 0.00974,
     "end_time": "2023-12-19T06:43:40.408472",
     "exception": false,
     "start_time": "2023-12-19T06:43:40.398732",
     "status": "completed"
    },
    "tags": []
   },
   "source": [
    "## 5.\n",
    "Create a `Series` whose index is reviewers and whose values is the average review score given out by that reviewer. Hint: you will need the `taster_name` and `points` columns."
   ]
  },
  {
   "cell_type": "code",
   "execution_count": 10,
   "id": "fee2b966",
   "metadata": {
    "execution": {
     "iopub.execute_input": "2023-12-19T06:43:40.434590Z",
     "iopub.status.busy": "2023-12-19T06:43:40.434163Z",
     "iopub.status.idle": "2023-12-19T06:43:40.474863Z",
     "shell.execute_reply": "2023-12-19T06:43:40.473976Z"
    },
    "papermill": {
     "duration": 0.058943,
     "end_time": "2023-12-19T06:43:40.478900",
     "exception": false,
     "start_time": "2023-12-19T06:43:40.419957",
     "status": "completed"
    },
    "tags": []
   },
   "outputs": [
    {
     "data": {
      "application/javascript": [
       "parent.postMessage({\"jupyterEvent\": \"custom.exercise_interaction\", \"data\": {\"outcomeType\": 1, \"valueTowardsCompletion\": 0.16666666666666666, \"interactionType\": 1, \"questionType\": 1, \"questionId\": \"5_ReviewerMeanRatings\", \"learnToolsVersion\": \"0.3.4\", \"failureMessage\": \"\", \"exceptionClass\": \"\", \"trace\": \"\"}}, \"*\")"
      ],
      "text/plain": [
       "<IPython.core.display.Javascript object>"
      ]
     },
     "metadata": {},
     "output_type": "display_data"
    },
    {
     "data": {
      "text/markdown": [
       "<span style=\"color:#33cc33\">Correct</span>"
      ],
      "text/plain": [
       "Correct"
      ]
     },
     "metadata": {},
     "output_type": "display_data"
    }
   ],
   "source": [
    "reviewer_mean_ratings = reviews.groupby('taster_name').points.mean()\n",
    "\n",
    "# Check your answer\n",
    "q5.check()"
   ]
  },
  {
   "cell_type": "code",
   "execution_count": 11,
   "id": "dea84067",
   "metadata": {
    "execution": {
     "iopub.execute_input": "2023-12-19T06:43:40.504182Z",
     "iopub.status.busy": "2023-12-19T06:43:40.503763Z",
     "iopub.status.idle": "2023-12-19T06:43:40.508581Z",
     "shell.execute_reply": "2023-12-19T06:43:40.507499Z"
    },
    "papermill": {
     "duration": 0.019336,
     "end_time": "2023-12-19T06:43:40.511049",
     "exception": false,
     "start_time": "2023-12-19T06:43:40.491713",
     "status": "completed"
    },
    "tags": []
   },
   "outputs": [],
   "source": [
    "#q5.hint()\n",
    "#q5.solution()"
   ]
  },
  {
   "cell_type": "markdown",
   "id": "6e6a92d1",
   "metadata": {
    "papermill": {
     "duration": 0.010127,
     "end_time": "2023-12-19T06:43:40.531798",
     "exception": false,
     "start_time": "2023-12-19T06:43:40.521671",
     "status": "completed"
    },
    "tags": []
   },
   "source": [
    "Are there significant differences in the average scores assigned by the various reviewers? Run the cell below to use the `describe()` method to see a summary of the range of values."
   ]
  },
  {
   "cell_type": "code",
   "execution_count": 12,
   "id": "b701d2e2",
   "metadata": {
    "execution": {
     "iopub.execute_input": "2023-12-19T06:43:40.554392Z",
     "iopub.status.busy": "2023-12-19T06:43:40.553976Z",
     "iopub.status.idle": "2023-12-19T06:43:40.570484Z",
     "shell.execute_reply": "2023-12-19T06:43:40.568508Z"
    },
    "papermill": {
     "duration": 0.031837,
     "end_time": "2023-12-19T06:43:40.573962",
     "exception": false,
     "start_time": "2023-12-19T06:43:40.542125",
     "status": "completed"
    },
    "tags": []
   },
   "outputs": [
    {
     "data": {
      "text/plain": [
       "count    19.000000\n",
       "mean     88.233026\n",
       "std       1.243610\n",
       "min      85.855422\n",
       "25%      87.323501\n",
       "50%      88.536235\n",
       "75%      88.975256\n",
       "max      90.562551\n",
       "Name: points, dtype: float64"
      ]
     },
     "execution_count": 12,
     "metadata": {},
     "output_type": "execute_result"
    }
   ],
   "source": [
    "reviewer_mean_ratings.describe()"
   ]
  },
  {
   "cell_type": "markdown",
   "id": "77d312ed",
   "metadata": {
    "papermill": {
     "duration": 0.013338,
     "end_time": "2023-12-19T06:43:40.599370",
     "exception": false,
     "start_time": "2023-12-19T06:43:40.586032",
     "status": "completed"
    },
    "tags": []
   },
   "source": [
    "## 6.\n",
    "What combination of countries and varieties are most common? Create a `Series` whose index is a `MultiIndex`of `{country, variety}` pairs. For example, a pinot noir produced in the US should map to `{\"US\", \"Pinot Noir\"}`. Sort the values in the `Series` in descending order based on wine count."
   ]
  },
  {
   "cell_type": "code",
   "execution_count": 13,
   "id": "d2cf5e14",
   "metadata": {
    "execution": {
     "iopub.execute_input": "2023-12-19T06:43:40.628989Z",
     "iopub.status.busy": "2023-12-19T06:43:40.628565Z",
     "iopub.status.idle": "2023-12-19T06:43:40.718802Z",
     "shell.execute_reply": "2023-12-19T06:43:40.717947Z"
    },
    "papermill": {
     "duration": 0.10882,
     "end_time": "2023-12-19T06:43:40.723057",
     "exception": false,
     "start_time": "2023-12-19T06:43:40.614237",
     "status": "completed"
    },
    "tags": []
   },
   "outputs": [
    {
     "data": {
      "application/javascript": [
       "parent.postMessage({\"jupyterEvent\": \"custom.exercise_interaction\", \"data\": {\"outcomeType\": 1, \"valueTowardsCompletion\": 0.16666666666666666, \"interactionType\": 1, \"questionType\": 1, \"questionId\": \"6_GroupbyCountryVariety\", \"learnToolsVersion\": \"0.3.4\", \"failureMessage\": \"\", \"exceptionClass\": \"\", \"trace\": \"\"}}, \"*\")"
      ],
      "text/plain": [
       "<IPython.core.display.Javascript object>"
      ]
     },
     "metadata": {},
     "output_type": "display_data"
    },
    {
     "data": {
      "text/markdown": [
       "<span style=\"color:#33cc33\">Correct</span>"
      ],
      "text/plain": [
       "Correct"
      ]
     },
     "metadata": {},
     "output_type": "display_data"
    }
   ],
   "source": [
    "country_variety_counts = reviews.groupby(['country', 'variety']).size().sort_values(ascending=False)\n",
    "\n",
    "# Check your answer\n",
    "q6.check()"
   ]
  },
  {
   "cell_type": "code",
   "execution_count": 14,
   "id": "6d75b0fc",
   "metadata": {
    "execution": {
     "iopub.execute_input": "2023-12-19T06:43:40.749501Z",
     "iopub.status.busy": "2023-12-19T06:43:40.749099Z",
     "iopub.status.idle": "2023-12-19T06:43:40.753854Z",
     "shell.execute_reply": "2023-12-19T06:43:40.752678Z"
    },
    "papermill": {
     "duration": 0.019134,
     "end_time": "2023-12-19T06:43:40.756392",
     "exception": false,
     "start_time": "2023-12-19T06:43:40.737258",
     "status": "completed"
    },
    "tags": []
   },
   "outputs": [],
   "source": [
    "#q6.hint()\n",
    "#q6.solution()"
   ]
  },
  {
   "cell_type": "markdown",
   "id": "daa59f99",
   "metadata": {
    "papermill": {
     "duration": 0.010362,
     "end_time": "2023-12-19T06:43:40.777867",
     "exception": false,
     "start_time": "2023-12-19T06:43:40.767505",
     "status": "completed"
    },
    "tags": []
   },
   "source": [
    "# Keep going\n",
    "\n",
    "Move on to the [**data types and missing data**](https://www.kaggle.com/residentmario/data-types-and-missing-values)."
   ]
  },
  {
   "cell_type": "markdown",
   "id": "0e4d182d",
   "metadata": {
    "papermill": {
     "duration": 0.010189,
     "end_time": "2023-12-19T06:43:40.798537",
     "exception": false,
     "start_time": "2023-12-19T06:43:40.788348",
     "status": "completed"
    },
    "tags": []
   },
   "source": [
    "---\n",
    "\n",
    "\n",
    "\n",
    "\n",
    "*Have questions or comments? Visit the [course discussion forum](https://www.kaggle.com/learn/pandas/discussion) to chat with other learners.*"
   ]
  }
 ],
 "metadata": {
  "kaggle": {
   "accelerator": "none",
   "dataSources": [
    {
     "datasetId": 655,
     "sourceId": 1252,
     "sourceType": "datasetVersion"
    },
    {
     "datasetId": 2321,
     "sourceId": 3919,
     "sourceType": "datasetVersion"
    },
    {
     "datasetId": 2894,
     "sourceId": 4877,
     "sourceType": "datasetVersion"
    },
    {
     "datasetId": 3491,
     "sourceId": 5624,
     "sourceType": "datasetVersion"
    },
    {
     "datasetId": 1442,
     "sourceId": 8172,
     "sourceType": "datasetVersion"
    },
    {
     "datasetId": 9366,
     "sourceId": 13206,
     "sourceType": "datasetVersion"
    },
    {
     "datasetId": 179555,
     "sourceId": 403916,
     "sourceType": "datasetVersion"
    },
    {
     "datasetId": 4549,
     "sourceId": 466349,
     "sourceType": "datasetVersion"
    },
    {
     "datasetId": 2478,
     "sourceId": 1151655,
     "sourceType": "datasetVersion"
    },
    {
     "datasetId": 10128,
     "sourceId": 5438389,
     "sourceType": "datasetVersion"
    }
   ],
   "isGpuEnabled": false,
   "isInternetEnabled": false,
   "language": "python",
   "sourceType": "notebook"
  },
  "kernelspec": {
   "display_name": "Python 3",
   "language": "python",
   "name": "python3"
  },
  "language_info": {
   "codemirror_mode": {
    "name": "ipython",
    "version": 3
   },
   "file_extension": ".py",
   "mimetype": "text/x-python",
   "name": "python",
   "nbconvert_exporter": "python",
   "pygments_lexer": "ipython3",
   "version": "3.10.12"
  },
  "papermill": {
   "default_parameters": {},
   "duration": 9.433875,
   "end_time": "2023-12-19T06:43:41.430799",
   "environment_variables": {},
   "exception": null,
   "input_path": "__notebook__.ipynb",
   "output_path": "__notebook__.ipynb",
   "parameters": {},
   "start_time": "2023-12-19T06:43:31.996924",
   "version": "2.4.0"
  }
 },
 "nbformat": 4,
 "nbformat_minor": 5
}
