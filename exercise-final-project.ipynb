{
 "cells": [
  {
   "cell_type": "markdown",
   "id": "bee94bc7",
   "metadata": {
    "papermill": {
     "duration": 0.006423,
     "end_time": "2023-12-18T11:21:58.672139",
     "exception": false,
     "start_time": "2023-12-18T11:21:58.665716",
     "status": "completed"
    },
    "tags": []
   },
   "source": [
    "**This notebook is an exercise in the [Data Visualization](https://www.kaggle.com/learn/data-visualization) course.  You can reference the tutorial at [this link](https://www.kaggle.com/alexisbcook/final-project).**\n",
    "\n",
    "---\n"
   ]
  },
  {
   "cell_type": "markdown",
   "id": "884cc7f4",
   "metadata": {
    "papermill": {
     "duration": 0.00579,
     "end_time": "2023-12-18T11:21:58.684265",
     "exception": false,
     "start_time": "2023-12-18T11:21:58.678475",
     "status": "completed"
    },
    "tags": []
   },
   "source": [
    "Now it's time for you to demonstrate your new skills with a project of your own!\n",
    "\n",
    "In this exercise, you will work with a dataset of your choosing.  Once you've selected a dataset, you'll design and create your own plot to tell interesting stories behind the data!\n",
    "\n",
    "## Setup\n",
    "\n",
    "Run the next cell to import and configure the Python libraries that you need to complete the exercise."
   ]
  },
  {
   "cell_type": "code",
   "execution_count": 1,
   "id": "a9ce3c4c",
   "metadata": {
    "execution": {
     "iopub.execute_input": "2023-12-18T11:21:58.699764Z",
     "iopub.status.busy": "2023-12-18T11:21:58.697819Z",
     "iopub.status.idle": "2023-12-18T11:22:00.868562Z",
     "shell.execute_reply": "2023-12-18T11:22:00.866905Z"
    },
    "papermill": {
     "duration": 2.180839,
     "end_time": "2023-12-18T11:22:00.871120",
     "exception": false,
     "start_time": "2023-12-18T11:21:58.690281",
     "status": "completed"
    },
    "tags": []
   },
   "outputs": [
    {
     "name": "stdout",
     "output_type": "stream",
     "text": [
      "Setup Complete\n"
     ]
    }
   ],
   "source": [
    "import pandas as pd\n",
    "pd.plotting.register_matplotlib_converters()\n",
    "import matplotlib.pyplot as plt\n",
    "%matplotlib inline\n",
    "import seaborn as sns\n",
    "print(\"Setup Complete\")"
   ]
  },
  {
   "cell_type": "markdown",
   "id": "f85c5d33",
   "metadata": {
    "papermill": {
     "duration": 0.005897,
     "end_time": "2023-12-18T11:22:00.883333",
     "exception": false,
     "start_time": "2023-12-18T11:22:00.877436",
     "status": "completed"
    },
    "tags": []
   },
   "source": [
    "The questions below will give you feedback on your work. Run the following cell to set up the feedback system."
   ]
  },
  {
   "cell_type": "code",
   "execution_count": 2,
   "id": "92980516",
   "metadata": {
    "execution": {
     "iopub.execute_input": "2023-12-18T11:22:00.897960Z",
     "iopub.status.busy": "2023-12-18T11:22:00.897305Z",
     "iopub.status.idle": "2023-12-18T11:22:00.942775Z",
     "shell.execute_reply": "2023-12-18T11:22:00.941294Z"
    },
    "papermill": {
     "duration": 0.055935,
     "end_time": "2023-12-18T11:22:00.945407",
     "exception": false,
     "start_time": "2023-12-18T11:22:00.889472",
     "status": "completed"
    },
    "tags": []
   },
   "outputs": [
    {
     "name": "stdout",
     "output_type": "stream",
     "text": [
      "Setup Complete\n"
     ]
    }
   ],
   "source": [
    "# Set up code checking\n",
    "from learntools.core import binder\n",
    "binder.bind(globals())\n",
    "from learntools.data_viz_to_coder.ex7 import *\n",
    "print(\"Setup Complete\")"
   ]
  },
  {
   "cell_type": "markdown",
   "id": "db3e7fc7",
   "metadata": {
    "papermill": {
     "duration": 0.006066,
     "end_time": "2023-12-18T11:22:00.957868",
     "exception": false,
     "start_time": "2023-12-18T11:22:00.951802",
     "status": "completed"
    },
    "tags": []
   },
   "source": [
    "## Step 1: Attach a dataset to the notebook\n",
    "\n",
    "Begin by selecting a CSV dataset from [Kaggle Datasets](https://www.kaggle.com/datasets).  If you're unsure how to do this, please revisit the instructions in the previous tutorial.\n",
    "\n",
    "Once you have selected a dataset, click on the **[+ Add data]** option in the top right corner.  This will generate a pop-up window that you can use to search for your chosen dataset.  \n",
    "\n",
    "![ex6_search_dataset](https://storage.googleapis.com/kaggle-media/learn/images/cIIWPUS.png)\n",
    "\n",
    "Once you have found the dataset, click on the **[Add]** button to attach it to the notebook.  You can check that it was successful by looking at the **Data** dropdown menu to the right of the notebook -- look for an **input** folder containing a subfolder that matches the name of the dataset.\n",
    "\n",
    "<center>\n",
    "<img src=\"https://storage.googleapis.com/kaggle-media/learn/images/nMYc1Nu.png\" width=30%><br/>\n",
    "</center>\n",
    "\n",
    "You can click on the carat to the left of the name of the dataset to double-check that it contains a CSV file.  For instance, the image below shows that the example dataset contains two CSV files: (1) **dc-wikia-data.csv**, and (2) **marvel-wikia-data.csv**.\n",
    "\n",
    "<center>\n",
    "<img src=\"https://storage.googleapis.com/kaggle-media/learn/images/B4sJkVA.png\" width=30%><br/>\n",
    "</center>\n",
    "\n",
    "Once you've uploaded a dataset with a CSV file, run the code cell below **without changes** to receive credit for your work!"
   ]
  },
  {
   "cell_type": "code",
   "execution_count": 3,
   "id": "abc9c2d4",
   "metadata": {
    "execution": {
     "iopub.execute_input": "2023-12-18T11:22:00.972851Z",
     "iopub.status.busy": "2023-12-18T11:22:00.971581Z",
     "iopub.status.idle": "2023-12-18T11:22:00.986461Z",
     "shell.execute_reply": "2023-12-18T11:22:00.985398Z"
    },
    "papermill": {
     "duration": 0.025037,
     "end_time": "2023-12-18T11:22:00.989169",
     "exception": false,
     "start_time": "2023-12-18T11:22:00.964132",
     "status": "completed"
    },
    "tags": []
   },
   "outputs": [
    {
     "data": {
      "application/javascript": [
       "parent.postMessage({\"jupyterEvent\": \"custom.exercise_interaction\", \"data\": {\"outcomeType\": 1, \"valueTowardsCompletion\": 0.25, \"interactionType\": 1, \"questionType\": 2, \"questionId\": \"1_AttachData\", \"learnToolsVersion\": \"0.3.4\", \"failureMessage\": \"\", \"exceptionClass\": \"\", \"trace\": \"\"}}, \"*\")"
      ],
      "text/plain": [
       "<IPython.core.display.Javascript object>"
      ]
     },
     "metadata": {},
     "output_type": "display_data"
    },
    {
     "data": {
      "text/markdown": [
       "<span style=\"color:#33cc33\">Correct:</span> \n",
       "\n"
      ],
      "text/plain": [
       "Correct: \n"
      ]
     },
     "metadata": {},
     "output_type": "display_data"
    }
   ],
   "source": [
    "# Check for a dataset with a CSV file\n",
    "step_1.check()"
   ]
  },
  {
   "cell_type": "markdown",
   "id": "1dab8a6c",
   "metadata": {
    "papermill": {
     "duration": 0.006375,
     "end_time": "2023-12-18T11:22:01.002181",
     "exception": false,
     "start_time": "2023-12-18T11:22:00.995806",
     "status": "completed"
    },
    "tags": []
   },
   "source": [
    "## Step 2: Specify the filepath\n",
    "\n",
    "Now that the dataset is attached to the notebook, you can find its filepath.  To do this, begin by clicking on the CSV file you'd like to use.  This will open the CSV file in a tab below the notebook.  You can find the filepath towards the top of this new tab.  \n",
    "\n",
    "![ex6_filepath](https://storage.googleapis.com/kaggle-media/learn/images/fgXQV47.png)\n",
    "\n",
    "After you find the filepath corresponding to your dataset, fill it in as the value for `my_filepath` in the code cell below, and run the code cell to check that you've provided a valid filepath.  For instance, in the case of this example dataset, we would set\n",
    "```\n",
    "my_filepath = \"../input/fivethirtyeight-comic-characters-dataset/dc-wikia-data.csv\"\n",
    "```  \n",
    "Note that **you must enclose the filepath in quotation marks**; otherwise, the code will return an error.\n",
    "\n",
    "Once you've entered the filepath, you can close the tab below the notebook by clicking on the **[X]** at the top of the tab."
   ]
  },
  {
   "cell_type": "code",
   "execution_count": 4,
   "id": "985aef58",
   "metadata": {
    "execution": {
     "iopub.execute_input": "2023-12-18T11:22:01.017260Z",
     "iopub.status.busy": "2023-12-18T11:22:01.016855Z",
     "iopub.status.idle": "2023-12-18T11:22:01.047981Z",
     "shell.execute_reply": "2023-12-18T11:22:01.047173Z"
    },
    "papermill": {
     "duration": 0.041807,
     "end_time": "2023-12-18T11:22:01.050490",
     "exception": false,
     "start_time": "2023-12-18T11:22:01.008683",
     "status": "completed"
    },
    "tags": []
   },
   "outputs": [
    {
     "data": {
      "application/javascript": [
       "parent.postMessage({\"jupyterEvent\": \"custom.exercise_interaction\", \"data\": {\"outcomeType\": 1, \"valueTowardsCompletion\": 0.25, \"interactionType\": 1, \"questionType\": 2, \"questionId\": \"3_LoadData\", \"learnToolsVersion\": \"0.3.4\", \"failureMessage\": \"\", \"exceptionClass\": \"\", \"trace\": \"\"}}, \"*\")"
      ],
      "text/plain": [
       "<IPython.core.display.Javascript object>"
      ]
     },
     "metadata": {},
     "output_type": "display_data"
    },
    {
     "data": {
      "text/markdown": [
       "<span style=\"color:#33cc33\">Correct:</span> \n",
       "\n"
      ],
      "text/plain": [
       "Correct: \n"
      ]
     },
     "metadata": {},
     "output_type": "display_data"
    }
   ],
   "source": [
    "# Fill in the line below: Read the file into a variable my_data\n",
    "my_data = pd.read_csv(\"/kaggle/input/coldplay-albums-and-live-shows/Coldplay.csv\")\n",
    "\n",
    "# Check that a dataset has been uploaded into my_data\n",
    "step_3.check()"
   ]
  },
  {
   "cell_type": "markdown",
   "id": "5579ab13",
   "metadata": {
    "papermill": {
     "duration": 0.006823,
     "end_time": "2023-12-18T11:22:01.064409",
     "exception": false,
     "start_time": "2023-12-18T11:22:01.057586",
     "status": "completed"
    },
    "tags": []
   },
   "source": [
    "## Step 3: Load the data\n",
    "\n",
    "Use the next code cell to load your data file into `my_data`.  Use the filepath that you specified in the previous step."
   ]
  },
  {
   "cell_type": "code",
   "execution_count": 5,
   "id": "6fb04765",
   "metadata": {
    "execution": {
     "iopub.execute_input": "2023-12-18T11:22:01.081460Z",
     "iopub.status.busy": "2023-12-18T11:22:01.080158Z",
     "iopub.status.idle": "2023-12-18T11:22:01.094860Z",
     "shell.execute_reply": "2023-12-18T11:22:01.093974Z"
    },
    "papermill": {
     "duration": 0.025606,
     "end_time": "2023-12-18T11:22:01.097365",
     "exception": false,
     "start_time": "2023-12-18T11:22:01.071759",
     "status": "completed"
    },
    "tags": []
   },
   "outputs": [
    {
     "data": {
      "application/javascript": [
       "parent.postMessage({\"jupyterEvent\": \"custom.exercise_interaction\", \"data\": {\"outcomeType\": 1, \"valueTowardsCompletion\": 0.25, \"interactionType\": 1, \"questionType\": 2, \"questionId\": \"3_LoadData\", \"learnToolsVersion\": \"0.3.4\", \"failureMessage\": \"\", \"exceptionClass\": \"\", \"trace\": \"\"}}, \"*\")"
      ],
      "text/plain": [
       "<IPython.core.display.Javascript object>"
      ]
     },
     "metadata": {},
     "output_type": "display_data"
    },
    {
     "data": {
      "text/markdown": [
       "<span style=\"color:#33cc33\">Correct:</span> \n",
       "\n"
      ],
      "text/plain": [
       "Correct: \n"
      ]
     },
     "metadata": {},
     "output_type": "display_data"
    }
   ],
   "source": [
    "# Fill in the line below: Read the file into a variable my_data\n",
    "my_data = pd.read_csv(\"/kaggle/input/coldplay-albums-and-live-shows/Coldplay.csv\")\n",
    "\n",
    "# Check that a dataset has been uploaded into my_data\n",
    "step_3.check()"
   ]
  },
  {
   "cell_type": "markdown",
   "id": "8f7bffad",
   "metadata": {
    "papermill": {
     "duration": 0.007123,
     "end_time": "2023-12-18T11:22:01.111921",
     "exception": false,
     "start_time": "2023-12-18T11:22:01.104798",
     "status": "completed"
    },
    "tags": []
   },
   "source": [
    "**_After the code cell above is marked correct_**, run the code cell below without changes to view the first five rows of the data."
   ]
  },
  {
   "cell_type": "code",
   "execution_count": 6,
   "id": "f7c02b77",
   "metadata": {
    "execution": {
     "iopub.execute_input": "2023-12-18T11:22:01.128982Z",
     "iopub.status.busy": "2023-12-18T11:22:01.128020Z",
     "iopub.status.idle": "2023-12-18T11:22:01.164130Z",
     "shell.execute_reply": "2023-12-18T11:22:01.163310Z"
    },
    "papermill": {
     "duration": 0.047136,
     "end_time": "2023-12-18T11:22:01.166488",
     "exception": false,
     "start_time": "2023-12-18T11:22:01.119352",
     "status": "completed"
    },
    "tags": []
   },
   "outputs": [
    {
     "data": {
      "text/html": [
       "<div>\n",
       "<style scoped>\n",
       "    .dataframe tbody tr th:only-of-type {\n",
       "        vertical-align: middle;\n",
       "    }\n",
       "\n",
       "    .dataframe tbody tr th {\n",
       "        vertical-align: top;\n",
       "    }\n",
       "\n",
       "    .dataframe thead th {\n",
       "        text-align: right;\n",
       "    }\n",
       "</style>\n",
       "<table border=\"1\" class=\"dataframe\">\n",
       "  <thead>\n",
       "    <tr style=\"text-align: right;\">\n",
       "      <th></th>\n",
       "      <th>name</th>\n",
       "      <th>duration</th>\n",
       "      <th>release_date</th>\n",
       "      <th>album_name</th>\n",
       "      <th>explicit</th>\n",
       "      <th>popularity</th>\n",
       "      <th>acousticness</th>\n",
       "      <th>danceability</th>\n",
       "      <th>energy</th>\n",
       "      <th>instrumentalness</th>\n",
       "      <th>liveness</th>\n",
       "      <th>loudness</th>\n",
       "      <th>speechiness</th>\n",
       "      <th>tempo</th>\n",
       "      <th>time_signature</th>\n",
       "      <th>valence</th>\n",
       "    </tr>\n",
       "  </thead>\n",
       "  <tbody>\n",
       "    <tr>\n",
       "      <th>0</th>\n",
       "      <td>🪐</td>\n",
       "      <td>53.184</td>\n",
       "      <td>2021-10-15</td>\n",
       "      <td>Music Of The Spheres</td>\n",
       "      <td>False</td>\n",
       "      <td>62</td>\n",
       "      <td>0.887000</td>\n",
       "      <td>0.3260</td>\n",
       "      <td>0.322</td>\n",
       "      <td>0.841000</td>\n",
       "      <td>0.116</td>\n",
       "      <td>-20.192</td>\n",
       "      <td>0.0337</td>\n",
       "      <td>89.657</td>\n",
       "      <td>4</td>\n",
       "      <td>0.0651</td>\n",
       "    </tr>\n",
       "    <tr>\n",
       "      <th>1</th>\n",
       "      <td>Higher Power</td>\n",
       "      <td>206.681</td>\n",
       "      <td>2021-10-15</td>\n",
       "      <td>Music Of The Spheres</td>\n",
       "      <td>False</td>\n",
       "      <td>71</td>\n",
       "      <td>0.006430</td>\n",
       "      <td>0.5070</td>\n",
       "      <td>0.832</td>\n",
       "      <td>0.000016</td>\n",
       "      <td>0.229</td>\n",
       "      <td>-5.931</td>\n",
       "      <td>0.0425</td>\n",
       "      <td>177.894</td>\n",
       "      <td>4</td>\n",
       "      <td>0.4850</td>\n",
       "    </tr>\n",
       "    <tr>\n",
       "      <th>2</th>\n",
       "      <td>Humankind</td>\n",
       "      <td>266.704</td>\n",
       "      <td>2021-10-15</td>\n",
       "      <td>Music Of The Spheres</td>\n",
       "      <td>False</td>\n",
       "      <td>68</td>\n",
       "      <td>0.000172</td>\n",
       "      <td>0.5750</td>\n",
       "      <td>0.838</td>\n",
       "      <td>0.000103</td>\n",
       "      <td>0.458</td>\n",
       "      <td>-6.498</td>\n",
       "      <td>0.0454</td>\n",
       "      <td>135.006</td>\n",
       "      <td>4</td>\n",
       "      <td>0.2150</td>\n",
       "    </tr>\n",
       "    <tr>\n",
       "      <th>3</th>\n",
       "      <td>✨</td>\n",
       "      <td>53.033</td>\n",
       "      <td>2021-10-15</td>\n",
       "      <td>Music Of The Spheres</td>\n",
       "      <td>False</td>\n",
       "      <td>59</td>\n",
       "      <td>0.805000</td>\n",
       "      <td>0.0859</td>\n",
       "      <td>0.289</td>\n",
       "      <td>0.990000</td>\n",
       "      <td>0.141</td>\n",
       "      <td>-17.240</td>\n",
       "      <td>0.0359</td>\n",
       "      <td>166.784</td>\n",
       "      <td>4</td>\n",
       "      <td>0.0380</td>\n",
       "    </tr>\n",
       "    <tr>\n",
       "      <th>4</th>\n",
       "      <td>Let Somebody Go</td>\n",
       "      <td>241.595</td>\n",
       "      <td>2021-10-15</td>\n",
       "      <td>Music Of The Spheres</td>\n",
       "      <td>False</td>\n",
       "      <td>76</td>\n",
       "      <td>0.193000</td>\n",
       "      <td>0.5920</td>\n",
       "      <td>0.342</td>\n",
       "      <td>0.002450</td>\n",
       "      <td>0.110</td>\n",
       "      <td>-8.930</td>\n",
       "      <td>0.0339</td>\n",
       "      <td>130.953</td>\n",
       "      <td>4</td>\n",
       "      <td>0.1550</td>\n",
       "    </tr>\n",
       "  </tbody>\n",
       "</table>\n",
       "</div>"
      ],
      "text/plain": [
       "              name  duration release_date            album_name  explicit  \\\n",
       "0                🪐    53.184   2021-10-15  Music Of The Spheres     False   \n",
       "1     Higher Power   206.681   2021-10-15  Music Of The Spheres     False   \n",
       "2        Humankind   266.704   2021-10-15  Music Of The Spheres     False   \n",
       "3                ✨    53.033   2021-10-15  Music Of The Spheres     False   \n",
       "4  Let Somebody Go   241.595   2021-10-15  Music Of The Spheres     False   \n",
       "\n",
       "   popularity  acousticness  danceability  energy  instrumentalness  liveness  \\\n",
       "0          62      0.887000        0.3260   0.322          0.841000     0.116   \n",
       "1          71      0.006430        0.5070   0.832          0.000016     0.229   \n",
       "2          68      0.000172        0.5750   0.838          0.000103     0.458   \n",
       "3          59      0.805000        0.0859   0.289          0.990000     0.141   \n",
       "4          76      0.193000        0.5920   0.342          0.002450     0.110   \n",
       "\n",
       "   loudness  speechiness    tempo  time_signature  valence  \n",
       "0   -20.192       0.0337   89.657               4   0.0651  \n",
       "1    -5.931       0.0425  177.894               4   0.4850  \n",
       "2    -6.498       0.0454  135.006               4   0.2150  \n",
       "3   -17.240       0.0359  166.784               4   0.0380  \n",
       "4    -8.930       0.0339  130.953               4   0.1550  "
      ]
     },
     "execution_count": 6,
     "metadata": {},
     "output_type": "execute_result"
    }
   ],
   "source": [
    "# Print the first five rows of the data\n",
    "my_data.head()"
   ]
  },
  {
   "cell_type": "code",
   "execution_count": null,
   "id": "bfc7c618",
   "metadata": {
    "papermill": {
     "duration": 0.007348,
     "end_time": "2023-12-18T11:22:01.181691",
     "exception": false,
     "start_time": "2023-12-18T11:22:01.174343",
     "status": "completed"
    },
    "tags": []
   },
   "outputs": [],
   "source": []
  },
  {
   "cell_type": "markdown",
   "id": "65037d25",
   "metadata": {
    "papermill": {
     "duration": 0.007283,
     "end_time": "2023-12-18T11:22:01.196707",
     "exception": false,
     "start_time": "2023-12-18T11:22:01.189424",
     "status": "completed"
    },
    "tags": []
   },
   "source": [
    "## Step 4: Visualize the data\n",
    "\n",
    "Use the next code cell to create a figure that tells a story behind your dataset.  You can use any chart type (_line chart, bar chart, heatmap, etc_) of your choosing!"
   ]
  },
  {
   "cell_type": "code",
   "execution_count": 7,
   "id": "c1398057",
   "metadata": {
    "execution": {
     "iopub.execute_input": "2023-12-18T11:22:01.214240Z",
     "iopub.status.busy": "2023-12-18T11:22:01.213577Z",
     "iopub.status.idle": "2023-12-18T11:22:01.220760Z",
     "shell.execute_reply": "2023-12-18T11:22:01.219689Z"
    },
    "papermill": {
     "duration": 0.019053,
     "end_time": "2023-12-18T11:22:01.223373",
     "exception": false,
     "start_time": "2023-12-18T11:22:01.204320",
     "status": "completed"
    },
    "tags": []
   },
   "outputs": [
    {
     "data": {
      "text/plain": [
       "Index(['name', 'duration', 'release_date', 'album_name', 'explicit',\n",
       "       'popularity', 'acousticness', 'danceability', 'energy',\n",
       "       'instrumentalness', 'liveness', 'loudness', 'speechiness', 'tempo',\n",
       "       'time_signature', 'valence'],\n",
       "      dtype='object')"
      ]
     },
     "execution_count": 7,
     "metadata": {},
     "output_type": "execute_result"
    }
   ],
   "source": [
    "my_data.columns"
   ]
  },
  {
   "cell_type": "code",
   "execution_count": 8,
   "id": "a8cc0b94",
   "metadata": {
    "execution": {
     "iopub.execute_input": "2023-12-18T11:22:01.241425Z",
     "iopub.status.busy": "2023-12-18T11:22:01.241000Z",
     "iopub.status.idle": "2023-12-18T11:22:04.304872Z",
     "shell.execute_reply": "2023-12-18T11:22:04.302992Z"
    },
    "papermill": {
     "duration": 3.076651,
     "end_time": "2023-12-18T11:22:04.308188",
     "exception": false,
     "start_time": "2023-12-18T11:22:01.231537",
     "status": "completed"
    },
    "tags": []
   },
   "outputs": [
    {
     "data": {
      "application/javascript": [
       "parent.postMessage({\"jupyterEvent\": \"custom.exercise_interaction\", \"data\": {\"outcomeType\": 1, \"valueTowardsCompletion\": 0.25, \"interactionType\": 1, \"questionType\": 2, \"questionId\": \"4_CreatePlot\", \"learnToolsVersion\": \"0.3.4\", \"failureMessage\": \"\", \"exceptionClass\": \"\", \"trace\": \"\"}}, \"*\")"
      ],
      "text/plain": [
       "<IPython.core.display.Javascript object>"
      ]
     },
     "metadata": {},
     "output_type": "display_data"
    },
    {
     "data": {
      "text/markdown": [
       "<span style=\"color:#33cc33\">Correct:</span> \n",
       "\n"
      ],
      "text/plain": [
       "Correct: \n"
      ]
     },
     "metadata": {},
     "output_type": "display_data"
    },
    {
     "data": {
      "image/png": "[encoded data removed]",
      "text/plain": [
       "<Figure size 1200x700 with 1 Axes>"
      ]
     },
     "metadata": {},
     "output_type": "display_data"
    }
   ],
   "source": [
    "# Set the width and height of the figure\n",
    "plt.figure(figsize=(12,7))\n",
    "\n",
    "# Add title\n",
    "plt.title(\"Album popularity\")\n",
    "\n",
    "# Create a plot\n",
    "sns.barplot(x=my_data['popularity'], y=my_data.index) # Your code here\n",
    "\n",
    "# Check that a figure appears below\n",
    "step_4.check()\n"
   ]
  },
  {
   "cell_type": "markdown",
   "id": "db0be2a9",
   "metadata": {
    "papermill": {
     "duration": 0.009216,
     "end_time": "2023-12-18T11:22:04.327914",
     "exception": false,
     "start_time": "2023-12-18T11:22:04.318698",
     "status": "completed"
    },
    "tags": []
   },
   "source": [
    "## Keep going\n",
    "\n",
    "Learn how to use your skills after completing the micro-course to create data visualizations in a **[final tutorial](https://www.kaggle.com/alexisbcook/creating-your-own-notebooks)**."
   ]
  },
  {
   "cell_type": "markdown",
   "id": "8a31308b",
   "metadata": {
    "papermill": {
     "duration": 0.009198,
     "end_time": "2023-12-18T11:22:04.346536",
     "exception": false,
     "start_time": "2023-12-18T11:22:04.337338",
     "status": "completed"
    },
    "tags": []
   },
   "source": [
    "---\n",
    "\n",
    "\n",
    "\n",
    "\n",
    "*Have questions or comments? Visit the [course discussion forum](https://www.kaggle.com/learn/data-visualization/discussion) to chat with other learners.*"
   ]
  }
 ],
 "metadata": {
  "kaggle": {
   "accelerator": "none",
   "dataSources": [
    {
     "datasetId": 545495,
     "sourceId": 995127,
     "sourceType": "datasetVersion"
    },
    {
     "datasetId": 3331261,
     "sourceId": 5800197,
     "sourceType": "datasetVersion"
    },
    {
     "datasetId": 4084172,
     "sourceId": 7088219,
     "sourceType": "datasetVersion"
    }
   ],
   "isGpuEnabled": false,
   "isInternetEnabled": false,
   "language": "python",
   "sourceType": "notebook"
  },
  "kernelspec": {
   "display_name": "Python 3",
   "language": "python",
   "name": "python3"
  },
  "language_info": {
   "codemirror_mode": {
    "name": "ipython",
    "version": 3
   },
   "file_extension": ".py",
   "mimetype": "text/x-python",
   "name": "python",
   "nbconvert_exporter": "python",
   "pygments_lexer": "ipython3",
   "version": "3.10.12"
  },
  "papermill": {
   "default_parameters": {},
   "duration": 9.850256,
   "end_time": "2023-12-18T11:22:04.978461",
   "environment_variables": {},
   "exception": null,
   "input_path": "__notebook__.ipynb",
   "output_path": "__notebook__.ipynb",
   "parameters": {},
   "start_time": "2023-12-18T11:21:55.128205",
   "version": "2.4.0"
  }
 },
 "nbformat": 4,
 "nbformat_minor": 5
}
