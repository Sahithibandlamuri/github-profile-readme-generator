{
 "cells": [
  {
   "cell_type": "markdown",
   "id": "d5447b24",
   "metadata": {
    "papermill": {
     "duration": 0.009232,
     "end_time": "2023-12-19T06:37:04.113679",
     "exception": false,
     "start_time": "2023-12-19T06:37:04.104447",
     "status": "completed"
    },
    "tags": []
   },
   "source": [
    "**This notebook is an exercise in the [Pandas](https://www.kaggle.com/learn/pandas) course.  You can reference the tutorial at [this link](https://www.kaggle.com/residentmario/summary-functions-and-maps).**\n",
    "\n",
    "---\n"
   ]
  },
  {
   "cell_type": "markdown",
   "id": "1d2f65b4",
   "metadata": {
    "papermill": {
     "duration": 0.008365,
     "end_time": "2023-12-19T06:37:04.130778",
     "exception": false,
     "start_time": "2023-12-19T06:37:04.122413",
     "status": "completed"
    },
    "tags": []
   },
   "source": [
    "# Introduction\n",
    "\n",
    "Now you are ready to get a deeper understanding of your data.\n",
    "\n",
    "Run the following cell to load your data and some utility functions (including code to check your answers)."
   ]
  },
  {
   "cell_type": "code",
   "execution_count": 1,
   "id": "b88b0fa1",
   "metadata": {
    "execution": {
     "iopub.execute_input": "2023-12-19T06:37:04.150538Z",
     "iopub.status.busy": "2023-12-19T06:37:04.149584Z",
     "iopub.status.idle": "2023-12-19T06:37:13.613032Z",
     "shell.execute_reply": "2023-12-19T06:37:13.611758Z"
    },
    "papermill": {
     "duration": 9.476863,
     "end_time": "2023-12-19T06:37:13.616195",
     "exception": false,
     "start_time": "2023-12-19T06:37:04.139332",
     "status": "completed"
    },
    "tags": []
   },
   "outputs": [
    {
     "name": "stdout",
     "output_type": "stream",
     "text": [
      "Setup complete.\n"
     ]
    },
    {
     "data": {
      "text/html": [
       "<div>\n",
       "<style scoped>\n",
       "    .dataframe tbody tr th:only-of-type {\n",
       "        vertical-align: middle;\n",
       "    }\n",
       "\n",
       "    .dataframe tbody tr th {\n",
       "        vertical-align: top;\n",
       "    }\n",
       "\n",
       "    .dataframe thead th {\n",
       "        text-align: right;\n",
       "    }\n",
       "</style>\n",
       "<table border=\"1\" class=\"dataframe\">\n",
       "  <thead>\n",
       "    <tr style=\"text-align: right;\">\n",
       "      <th></th>\n",
       "      <th>country</th>\n",
       "      <th>description</th>\n",
       "      <th>designation</th>\n",
       "      <th>points</th>\n",
       "      <th>price</th>\n",
       "      <th>province</th>\n",
       "      <th>region_1</th>\n",
       "      <th>region_2</th>\n",
       "      <th>taster_name</th>\n",
       "      <th>taster_twitter_handle</th>\n",
       "      <th>title</th>\n",
       "      <th>variety</th>\n",
       "      <th>winery</th>\n",
       "    </tr>\n",
       "  </thead>\n",
       "  <tbody>\n",
       "    <tr>\n",
       "      <th>0</th>\n",
       "      <td>Italy</td>\n",
       "      <td>Aromas include tropical fruit, broom, brimston...</td>\n",
       "      <td>Vulkà Bianco</td>\n",
       "      <td>87</td>\n",
       "      <td>NaN</td>\n",
       "      <td>Sicily &amp; Sardinia</td>\n",
       "      <td>Etna</td>\n",
       "      <td>NaN</td>\n",
       "      <td>Kerin O’Keefe</td>\n",
       "      <td>@kerinokeefe</td>\n",
       "      <td>Nicosia 2013 Vulkà Bianco  (Etna)</td>\n",
       "      <td>White Blend</td>\n",
       "      <td>Nicosia</td>\n",
       "    </tr>\n",
       "    <tr>\n",
       "      <th>1</th>\n",
       "      <td>Portugal</td>\n",
       "      <td>This is ripe and fruity, a wine that is smooth...</td>\n",
       "      <td>Avidagos</td>\n",
       "      <td>87</td>\n",
       "      <td>15.0</td>\n",
       "      <td>Douro</td>\n",
       "      <td>NaN</td>\n",
       "      <td>NaN</td>\n",
       "      <td>Roger Voss</td>\n",
       "      <td>@vossroger</td>\n",
       "      <td>Quinta dos Avidagos 2011 Avidagos Red (Douro)</td>\n",
       "      <td>Portuguese Red</td>\n",
       "      <td>Quinta dos Avidagos</td>\n",
       "    </tr>\n",
       "    <tr>\n",
       "      <th>2</th>\n",
       "      <td>US</td>\n",
       "      <td>Tart and snappy, the flavors of lime flesh and...</td>\n",
       "      <td>NaN</td>\n",
       "      <td>87</td>\n",
       "      <td>14.0</td>\n",
       "      <td>Oregon</td>\n",
       "      <td>Willamette Valley</td>\n",
       "      <td>Willamette Valley</td>\n",
       "      <td>Paul Gregutt</td>\n",
       "      <td>@paulgwine</td>\n",
       "      <td>Rainstorm 2013 Pinot Gris (Willamette Valley)</td>\n",
       "      <td>Pinot Gris</td>\n",
       "      <td>Rainstorm</td>\n",
       "    </tr>\n",
       "    <tr>\n",
       "      <th>3</th>\n",
       "      <td>US</td>\n",
       "      <td>Pineapple rind, lemon pith and orange blossom ...</td>\n",
       "      <td>Reserve Late Harvest</td>\n",
       "      <td>87</td>\n",
       "      <td>13.0</td>\n",
       "      <td>Michigan</td>\n",
       "      <td>Lake Michigan Shore</td>\n",
       "      <td>NaN</td>\n",
       "      <td>Alexander Peartree</td>\n",
       "      <td>NaN</td>\n",
       "      <td>St. Julian 2013 Reserve Late Harvest Riesling ...</td>\n",
       "      <td>Riesling</td>\n",
       "      <td>St. Julian</td>\n",
       "    </tr>\n",
       "    <tr>\n",
       "      <th>4</th>\n",
       "      <td>US</td>\n",
       "      <td>Much like the regular bottling from 2012, this...</td>\n",
       "      <td>Vintner's Reserve Wild Child Block</td>\n",
       "      <td>87</td>\n",
       "      <td>65.0</td>\n",
       "      <td>Oregon</td>\n",
       "      <td>Willamette Valley</td>\n",
       "      <td>Willamette Valley</td>\n",
       "      <td>Paul Gregutt</td>\n",
       "      <td>@paulgwine</td>\n",
       "      <td>Sweet Cheeks 2012 Vintner's Reserve Wild Child...</td>\n",
       "      <td>Pinot Noir</td>\n",
       "      <td>Sweet Cheeks</td>\n",
       "    </tr>\n",
       "  </tbody>\n",
       "</table>\n",
       "</div>"
      ],
      "text/plain": [
       "    country                                        description  \\\n",
       "0     Italy  Aromas include tropical fruit, broom, brimston...   \n",
       "1  Portugal  This is ripe and fruity, a wine that is smooth...   \n",
       "2        US  Tart and snappy, the flavors of lime flesh and...   \n",
       "3        US  Pineapple rind, lemon pith and orange blossom ...   \n",
       "4        US  Much like the regular bottling from 2012, this...   \n",
       "\n",
       "                          designation  points  price           province  \\\n",
       "0                        Vulkà Bianco      87    NaN  Sicily & Sardinia   \n",
       "1                            Avidagos      87   15.0              Douro   \n",
       "2                                 NaN      87   14.0             Oregon   \n",
       "3                Reserve Late Harvest      87   13.0           Michigan   \n",
       "4  Vintner's Reserve Wild Child Block      87   65.0             Oregon   \n",
       "\n",
       "              region_1           region_2         taster_name  \\\n",
       "0                 Etna                NaN       Kerin O’Keefe   \n",
       "1                  NaN                NaN          Roger Voss   \n",
       "2    Willamette Valley  Willamette Valley        Paul Gregutt   \n",
       "3  Lake Michigan Shore                NaN  Alexander Peartree   \n",
       "4    Willamette Valley  Willamette Valley        Paul Gregutt   \n",
       "\n",
       "  taster_twitter_handle                                              title  \\\n",
       "0          @kerinokeefe                  Nicosia 2013 Vulkà Bianco  (Etna)   \n",
       "1            @vossroger      Quinta dos Avidagos 2011 Avidagos Red (Douro)   \n",
       "2           @paulgwine       Rainstorm 2013 Pinot Gris (Willamette Valley)   \n",
       "3                   NaN  St. Julian 2013 Reserve Late Harvest Riesling ...   \n",
       "4           @paulgwine   Sweet Cheeks 2012 Vintner's Reserve Wild Child...   \n",
       "\n",
       "          variety               winery  \n",
       "0     White Blend              Nicosia  \n",
       "1  Portuguese Red  Quinta dos Avidagos  \n",
       "2      Pinot Gris            Rainstorm  \n",
       "3        Riesling           St. Julian  \n",
       "4      Pinot Noir         Sweet Cheeks  "
      ]
     },
     "execution_count": 1,
     "metadata": {},
     "output_type": "execute_result"
    }
   ],
   "source": [
    "import pandas as pd\n",
    "pd.set_option(\"display.max_rows\", 5)\n",
    "reviews = pd.read_csv(\"../input/wine-reviews/winemag-data-130k-v2.csv\", index_col=0)\n",
    "\n",
    "from learntools.core import binder; binder.bind(globals())\n",
    "from learntools.pandas.summary_functions_and_maps import *\n",
    "print(\"Setup complete.\")\n",
    "\n",
    "reviews.head()"
   ]
  },
  {
   "cell_type": "markdown",
   "id": "2d8db18e",
   "metadata": {
    "papermill": {
     "duration": 0.008746,
     "end_time": "2023-12-19T06:37:13.634538",
     "exception": false,
     "start_time": "2023-12-19T06:37:13.625792",
     "status": "completed"
    },
    "tags": []
   },
   "source": [
    "# Exercises"
   ]
  },
  {
   "cell_type": "markdown",
   "id": "d8eb6691",
   "metadata": {
    "papermill": {
     "duration": 0.008708,
     "end_time": "2023-12-19T06:37:13.652779",
     "exception": false,
     "start_time": "2023-12-19T06:37:13.644071",
     "status": "completed"
    },
    "tags": []
   },
   "source": [
    "## 1.\n",
    "\n",
    "What is the median of the `points` column in the `reviews` DataFrame?"
   ]
  },
  {
   "cell_type": "code",
   "execution_count": 2,
   "id": "4077cb1a",
   "metadata": {
    "execution": {
     "iopub.execute_input": "2023-12-19T06:37:13.672895Z",
     "iopub.status.busy": "2023-12-19T06:37:13.672425Z",
     "iopub.status.idle": "2023-12-19T06:37:13.684931Z",
     "shell.execute_reply": "2023-12-19T06:37:13.683648Z"
    },
    "papermill": {
     "duration": 0.025492,
     "end_time": "2023-12-19T06:37:13.687233",
     "exception": false,
     "start_time": "2023-12-19T06:37:13.661741",
     "status": "completed"
    },
    "tags": []
   },
   "outputs": [
    {
     "data": {
      "application/javascript": [
       "parent.postMessage({\"jupyterEvent\": \"custom.exercise_interaction\", \"data\": {\"outcomeType\": 1, \"valueTowardsCompletion\": 0.14285714285714285, \"interactionType\": 1, \"questionType\": 1, \"questionId\": \"1_MedianPoints\", \"learnToolsVersion\": \"0.3.4\", \"failureMessage\": \"\", \"exceptionClass\": \"\", \"trace\": \"\"}}, \"*\")"
      ],
      "text/plain": [
       "<IPython.core.display.Javascript object>"
      ]
     },
     "metadata": {},
     "output_type": "display_data"
    },
    {
     "data": {
      "text/markdown": [
       "<span style=\"color:#33cc33\">Correct</span>"
      ],
      "text/plain": [
       "Correct"
      ]
     },
     "metadata": {},
     "output_type": "display_data"
    }
   ],
   "source": [
    "median_points = reviews.points.median()\n",
    "\n",
    "# Check your answer\n",
    "q1.check()"
   ]
  },
  {
   "cell_type": "code",
   "execution_count": 3,
   "id": "9b448641",
   "metadata": {
    "execution": {
     "iopub.execute_input": "2023-12-19T06:37:13.708685Z",
     "iopub.status.busy": "2023-12-19T06:37:13.708296Z",
     "iopub.status.idle": "2023-12-19T06:37:13.712886Z",
     "shell.execute_reply": "2023-12-19T06:37:13.711630Z"
    },
    "papermill": {
     "duration": 0.018836,
     "end_time": "2023-12-19T06:37:13.715579",
     "exception": false,
     "start_time": "2023-12-19T06:37:13.696743",
     "status": "completed"
    },
    "tags": []
   },
   "outputs": [],
   "source": [
    "#q1.hint()\n",
    "#q1.solution()"
   ]
  },
  {
   "cell_type": "markdown",
   "id": "30416318",
   "metadata": {
    "papermill": {
     "duration": 0.010968,
     "end_time": "2023-12-19T06:37:13.736199",
     "exception": false,
     "start_time": "2023-12-19T06:37:13.725231",
     "status": "completed"
    },
    "tags": []
   },
   "source": [
    "## 2. \n",
    "What countries are represented in the dataset? (Your answer should not include any duplicates.)"
   ]
  },
  {
   "cell_type": "code",
   "execution_count": 4,
   "id": "5451ed23",
   "metadata": {
    "execution": {
     "iopub.execute_input": "2023-12-19T06:37:13.758784Z",
     "iopub.status.busy": "2023-12-19T06:37:13.758372Z",
     "iopub.status.idle": "2023-12-19T06:37:13.783245Z",
     "shell.execute_reply": "2023-12-19T06:37:13.781858Z"
    },
    "papermill": {
     "duration": 0.038887,
     "end_time": "2023-12-19T06:37:13.786042",
     "exception": false,
     "start_time": "2023-12-19T06:37:13.747155",
     "status": "completed"
    },
    "tags": []
   },
   "outputs": [
    {
     "data": {
      "application/javascript": [
       "parent.postMessage({\"jupyterEvent\": \"custom.exercise_interaction\", \"data\": {\"outcomeType\": 1, \"valueTowardsCompletion\": 0.14285714285714285, \"interactionType\": 1, \"questionType\": 2, \"questionId\": \"2_UniqueCountries\", \"learnToolsVersion\": \"0.3.4\", \"failureMessage\": \"\", \"exceptionClass\": \"\", \"trace\": \"\"}}, \"*\")"
      ],
      "text/plain": [
       "<IPython.core.display.Javascript object>"
      ]
     },
     "metadata": {},
     "output_type": "display_data"
    },
    {
     "data": {
      "text/markdown": [
       "<span style=\"color:#33cc33\">Correct</span>"
      ],
      "text/plain": [
       "Correct"
      ]
     },
     "metadata": {},
     "output_type": "display_data"
    }
   ],
   "source": [
    "countries = reviews.country.unique()\n",
    "\n",
    "# Check your answer\n",
    "q2.check()"
   ]
  },
  {
   "cell_type": "code",
   "execution_count": 5,
   "id": "5d116daa",
   "metadata": {
    "execution": {
     "iopub.execute_input": "2023-12-19T06:37:13.808345Z",
     "iopub.status.busy": "2023-12-19T06:37:13.807963Z",
     "iopub.status.idle": "2023-12-19T06:37:13.812401Z",
     "shell.execute_reply": "2023-12-19T06:37:13.811148Z"
    },
    "papermill": {
     "duration": 0.018704,
     "end_time": "2023-12-19T06:37:13.814965",
     "exception": false,
     "start_time": "2023-12-19T06:37:13.796261",
     "status": "completed"
    },
    "tags": []
   },
   "outputs": [],
   "source": [
    "#q2.hint()\n",
    "#q2.solution()"
   ]
  },
  {
   "cell_type": "markdown",
   "id": "43fea033",
   "metadata": {
    "papermill": {
     "duration": 0.011219,
     "end_time": "2023-12-19T06:37:13.836455",
     "exception": false,
     "start_time": "2023-12-19T06:37:13.825236",
     "status": "completed"
    },
    "tags": []
   },
   "source": [
    "## 3.\n",
    "How often does each country appear in the dataset? Create a Series `reviews_per_country` mapping countries to the count of reviews of wines from that country."
   ]
  },
  {
   "cell_type": "code",
   "execution_count": 6,
   "id": "f4586589",
   "metadata": {
    "execution": {
     "iopub.execute_input": "2023-12-19T06:37:13.863112Z",
     "iopub.status.busy": "2023-12-19T06:37:13.862678Z",
     "iopub.status.idle": "2023-12-19T06:37:13.891872Z",
     "shell.execute_reply": "2023-12-19T06:37:13.890990Z"
    },
    "papermill": {
     "duration": 0.04464,
     "end_time": "2023-12-19T06:37:13.894838",
     "exception": false,
     "start_time": "2023-12-19T06:37:13.850198",
     "status": "completed"
    },
    "tags": []
   },
   "outputs": [
    {
     "data": {
      "application/javascript": [
       "parent.postMessage({\"jupyterEvent\": \"custom.exercise_interaction\", \"data\": {\"outcomeType\": 1, \"valueTowardsCompletion\": 0.14285714285714285, \"interactionType\": 1, \"questionType\": 1, \"questionId\": \"3_ReviewsPerCountry\", \"learnToolsVersion\": \"0.3.4\", \"failureMessage\": \"\", \"exceptionClass\": \"\", \"trace\": \"\"}}, \"*\")"
      ],
      "text/plain": [
       "<IPython.core.display.Javascript object>"
      ]
     },
     "metadata": {},
     "output_type": "display_data"
    },
    {
     "data": {
      "text/markdown": [
       "<span style=\"color:#33cc33\">Correct</span>"
      ],
      "text/plain": [
       "Correct"
      ]
     },
     "metadata": {},
     "output_type": "display_data"
    }
   ],
   "source": [
    "reviews_per_country = reviews.country.value_counts()\n",
    "\n",
    "# Check your answer\n",
    "q3.check()"
   ]
  },
  {
   "cell_type": "code",
   "execution_count": 7,
   "id": "2534a4b5",
   "metadata": {
    "execution": {
     "iopub.execute_input": "2023-12-19T06:37:13.917888Z",
     "iopub.status.busy": "2023-12-19T06:37:13.917457Z",
     "iopub.status.idle": "2023-12-19T06:37:13.922018Z",
     "shell.execute_reply": "2023-12-19T06:37:13.921079Z"
    },
    "papermill": {
     "duration": 0.019338,
     "end_time": "2023-12-19T06:37:13.924357",
     "exception": false,
     "start_time": "2023-12-19T06:37:13.905019",
     "status": "completed"
    },
    "tags": []
   },
   "outputs": [],
   "source": [
    "#q3.hint()\n",
    "#q3.solution()"
   ]
  },
  {
   "cell_type": "markdown",
   "id": "926c7707",
   "metadata": {
    "papermill": {
     "duration": 0.009865,
     "end_time": "2023-12-19T06:37:13.945437",
     "exception": false,
     "start_time": "2023-12-19T06:37:13.935572",
     "status": "completed"
    },
    "tags": []
   },
   "source": [
    "## 4.\n",
    "Create variable `centered_price` containing a version of the `price` column with the mean price subtracted.\n",
    "\n",
    "(Note: this 'centering' transformation is a common preprocessing step before applying various machine learning algorithms.) "
   ]
  },
  {
   "cell_type": "code",
   "execution_count": 8,
   "id": "555131d5",
   "metadata": {
    "execution": {
     "iopub.execute_input": "2023-12-19T06:37:13.969903Z",
     "iopub.status.busy": "2023-12-19T06:37:13.969081Z",
     "iopub.status.idle": "2023-12-19T06:37:13.980484Z",
     "shell.execute_reply": "2023-12-19T06:37:13.979415Z"
    },
    "papermill": {
     "duration": 0.027196,
     "end_time": "2023-12-19T06:37:13.983193",
     "exception": false,
     "start_time": "2023-12-19T06:37:13.955997",
     "status": "completed"
    },
    "tags": []
   },
   "outputs": [
    {
     "data": {
      "application/javascript": [
       "parent.postMessage({\"jupyterEvent\": \"custom.exercise_interaction\", \"data\": {\"outcomeType\": 1, \"valueTowardsCompletion\": 0.14285714285714285, \"interactionType\": 1, \"questionType\": 1, \"questionId\": \"4_CenteredPrice\", \"learnToolsVersion\": \"0.3.4\", \"failureMessage\": \"\", \"exceptionClass\": \"\", \"trace\": \"\"}}, \"*\")"
      ],
      "text/plain": [
       "<IPython.core.display.Javascript object>"
      ]
     },
     "metadata": {},
     "output_type": "display_data"
    },
    {
     "data": {
      "text/markdown": [
       "<span style=\"color:#33cc33\">Correct</span>"
      ],
      "text/plain": [
       "Correct"
      ]
     },
     "metadata": {},
     "output_type": "display_data"
    }
   ],
   "source": [
    "centered_price = reviews.price - reviews.price.mean()\n",
    "\n",
    "# Check your answer\n",
    "q4.check()"
   ]
  },
  {
   "cell_type": "code",
   "execution_count": 9,
   "id": "138fe929",
   "metadata": {
    "execution": {
     "iopub.execute_input": "2023-12-19T06:37:14.007414Z",
     "iopub.status.busy": "2023-12-19T06:37:14.006074Z",
     "iopub.status.idle": "2023-12-19T06:37:14.012532Z",
     "shell.execute_reply": "2023-12-19T06:37:14.011595Z"
    },
    "papermill": {
     "duration": 0.020827,
     "end_time": "2023-12-19T06:37:14.014932",
     "exception": false,
     "start_time": "2023-12-19T06:37:13.994105",
     "status": "completed"
    },
    "tags": []
   },
   "outputs": [],
   "source": [
    "#q4.hint()\n",
    "#q4.solution()"
   ]
  },
  {
   "cell_type": "markdown",
   "id": "1945477c",
   "metadata": {
    "papermill": {
     "duration": 0.01028,
     "end_time": "2023-12-19T06:37:14.038368",
     "exception": false,
     "start_time": "2023-12-19T06:37:14.028088",
     "status": "completed"
    },
    "tags": []
   },
   "source": [
    "## 5.\n",
    "I'm an economical wine buyer. Which wine is the \"best bargain\"? Create a variable `bargain_wine` with the title of the wine with the highest points-to-price ratio in the dataset."
   ]
  },
  {
   "cell_type": "code",
   "execution_count": 10,
   "id": "7e131813",
   "metadata": {
    "execution": {
     "iopub.execute_input": "2023-12-19T06:37:14.061156Z",
     "iopub.status.busy": "2023-12-19T06:37:14.060628Z",
     "iopub.status.idle": "2023-12-19T06:37:14.077889Z",
     "shell.execute_reply": "2023-12-19T06:37:14.076704Z"
    },
    "papermill": {
     "duration": 0.031671,
     "end_time": "2023-12-19T06:37:14.080385",
     "exception": false,
     "start_time": "2023-12-19T06:37:14.048714",
     "status": "completed"
    },
    "tags": []
   },
   "outputs": [
    {
     "data": {
      "application/javascript": [
       "parent.postMessage({\"jupyterEvent\": \"custom.exercise_interaction\", \"data\": {\"outcomeType\": 1, \"valueTowardsCompletion\": 0.14285714285714285, \"interactionType\": 1, \"questionType\": 2, \"questionId\": \"5_BargainWine\", \"learnToolsVersion\": \"0.3.4\", \"failureMessage\": \"\", \"exceptionClass\": \"\", \"trace\": \"\"}}, \"*\")"
      ],
      "text/plain": [
       "<IPython.core.display.Javascript object>"
      ]
     },
     "metadata": {},
     "output_type": "display_data"
    },
    {
     "data": {
      "text/markdown": [
       "<span style=\"color:#33cc33\">Correct</span>"
      ],
      "text/plain": [
       "Correct"
      ]
     },
     "metadata": {},
     "output_type": "display_data"
    }
   ],
   "source": [
    "bargain_idx = (reviews.points / reviews.price).idxmax()\n",
    "bargain_wine = reviews.loc[bargain_idx, 'title']\n",
    "\n",
    "# Check your answer\n",
    "q5.check()"
   ]
  },
  {
   "cell_type": "code",
   "execution_count": 11,
   "id": "64f25df3",
   "metadata": {
    "execution": {
     "iopub.execute_input": "2023-12-19T06:37:14.103919Z",
     "iopub.status.busy": "2023-12-19T06:37:14.103410Z",
     "iopub.status.idle": "2023-12-19T06:37:14.108400Z",
     "shell.execute_reply": "2023-12-19T06:37:14.107263Z"
    },
    "papermill": {
     "duration": 0.019992,
     "end_time": "2023-12-19T06:37:14.111194",
     "exception": false,
     "start_time": "2023-12-19T06:37:14.091202",
     "status": "completed"
    },
    "tags": []
   },
   "outputs": [],
   "source": [
    "#q5.hint()\n",
    "#q5.solution()"
   ]
  },
  {
   "cell_type": "markdown",
   "id": "663cc02a",
   "metadata": {
    "papermill": {
     "duration": 0.010808,
     "end_time": "2023-12-19T06:37:14.133219",
     "exception": false,
     "start_time": "2023-12-19T06:37:14.122411",
     "status": "completed"
    },
    "tags": []
   },
   "source": [
    "## 6.\n",
    "There are only so many words you can use when describing a bottle of wine. Is a wine more likely to be \"tropical\" or \"fruity\"? Create a Series `descriptor_counts` counting how many times each of these two words appears in the `description` column in the dataset. (For simplicity, let's ignore the capitalized versions of these words.)"
   ]
  },
  {
   "cell_type": "code",
   "execution_count": 12,
   "id": "1fc5dec5",
   "metadata": {
    "execution": {
     "iopub.execute_input": "2023-12-19T06:37:14.157026Z",
     "iopub.status.busy": "2023-12-19T06:37:14.156583Z",
     "iopub.status.idle": "2023-12-19T06:37:14.329210Z",
     "shell.execute_reply": "2023-12-19T06:37:14.327624Z"
    },
    "papermill": {
     "duration": 0.187803,
     "end_time": "2023-12-19T06:37:14.331981",
     "exception": false,
     "start_time": "2023-12-19T06:37:14.144178",
     "status": "completed"
    },
    "tags": []
   },
   "outputs": [
    {
     "data": {
      "application/javascript": [
       "parent.postMessage({\"jupyterEvent\": \"custom.exercise_interaction\", \"data\": {\"outcomeType\": 1, \"valueTowardsCompletion\": 0.14285714285714285, \"interactionType\": 1, \"questionType\": 1, \"questionId\": \"6_DescriptorCounts\", \"learnToolsVersion\": \"0.3.4\", \"failureMessage\": \"\", \"exceptionClass\": \"\", \"trace\": \"\"}}, \"*\")"
      ],
      "text/plain": [
       "<IPython.core.display.Javascript object>"
      ]
     },
     "metadata": {},
     "output_type": "display_data"
    },
    {
     "data": {
      "text/markdown": [
       "<span style=\"color:#33cc33\">Correct</span>"
      ],
      "text/plain": [
       "Correct"
      ]
     },
     "metadata": {},
     "output_type": "display_data"
    }
   ],
   "source": [
    "n_trop = reviews.description.map(lambda desc: \"tropical\" in desc).sum()\n",
    "n_fruity = reviews.description.map(lambda desc: \"fruity\" in desc).sum()\n",
    "descriptor_counts = pd.Series([n_trop, n_fruity], index=['tropical', 'fruity'])\n",
    "# Check your answer\n",
    "q6.check()"
   ]
  },
  {
   "cell_type": "code",
   "execution_count": 13,
   "id": "6402f528",
   "metadata": {
    "execution": {
     "iopub.execute_input": "2023-12-19T06:37:14.356297Z",
     "iopub.status.busy": "2023-12-19T06:37:14.355886Z",
     "iopub.status.idle": "2023-12-19T06:37:14.360517Z",
     "shell.execute_reply": "2023-12-19T06:37:14.359370Z"
    },
    "papermill": {
     "duration": 0.019918,
     "end_time": "2023-12-19T06:37:14.363144",
     "exception": false,
     "start_time": "2023-12-19T06:37:14.343226",
     "status": "completed"
    },
    "tags": []
   },
   "outputs": [],
   "source": [
    "#q6.hint()\n",
    "#q6.solution()"
   ]
  },
  {
   "cell_type": "markdown",
   "id": "c6bf9078",
   "metadata": {
    "papermill": {
     "duration": 0.010859,
     "end_time": "2023-12-19T06:37:14.385476",
     "exception": false,
     "start_time": "2023-12-19T06:37:14.374617",
     "status": "completed"
    },
    "tags": []
   },
   "source": [
    "## 7.\n",
    "We'd like to host these wine reviews on our website, but a rating system ranging from 80 to 100 points is too hard to understand - we'd like to translate them into simple star ratings. A score of 95 or higher counts as 3 stars, a score of at least 85 but less than 95 is 2 stars. Any other score is 1 star.\n",
    "\n",
    "Also, the Canadian Vintners Association bought a lot of ads on the site, so any wines from Canada should automatically get 3 stars, regardless of points.\n",
    "\n",
    "Create a series `star_ratings` with the number of stars corresponding to each review in the dataset."
   ]
  },
  {
   "cell_type": "code",
   "execution_count": 14,
   "id": "2d4460c9",
   "metadata": {
    "execution": {
     "iopub.execute_input": "2023-12-19T06:37:14.410312Z",
     "iopub.status.busy": "2023-12-19T06:37:14.409919Z",
     "iopub.status.idle": "2023-12-19T06:37:19.524811Z",
     "shell.execute_reply": "2023-12-19T06:37:19.523653Z"
    },
    "papermill": {
     "duration": 5.13049,
     "end_time": "2023-12-19T06:37:19.527040",
     "exception": false,
     "start_time": "2023-12-19T06:37:14.396550",
     "status": "completed"
    },
    "tags": []
   },
   "outputs": [
    {
     "data": {
      "application/javascript": [
       "parent.postMessage({\"jupyterEvent\": \"custom.exercise_interaction\", \"data\": {\"outcomeType\": 1, \"valueTowardsCompletion\": 0.14285714285714285, \"interactionType\": 1, \"questionType\": 1, \"questionId\": \"7_StarRatings\", \"learnToolsVersion\": \"0.3.4\", \"failureMessage\": \"\", \"exceptionClass\": \"\", \"trace\": \"\"}}, \"*\")"
      ],
      "text/plain": [
       "<IPython.core.display.Javascript object>"
      ]
     },
     "metadata": {},
     "output_type": "display_data"
    },
    {
     "data": {
      "text/markdown": [
       "<span style=\"color:#33cc33\">Correct</span>"
      ],
      "text/plain": [
       "Correct"
      ]
     },
     "metadata": {},
     "output_type": "display_data"
    }
   ],
   "source": [
    "def stars(row):\n",
    "    if row.country == 'Canada':\n",
    "        return 3\n",
    "    elif row.points >= 95:\n",
    "        return 3\n",
    "    elif row.points >= 85:\n",
    "        return 2\n",
    "    else:\n",
    "        return 1\n",
    "\n",
    "star_ratings = reviews.apply(stars, axis='columns')\n",
    "\n",
    "# Check your answer\n",
    "q7.check()"
   ]
  },
  {
   "cell_type": "code",
   "execution_count": 15,
   "id": "339ff5cb",
   "metadata": {
    "execution": {
     "iopub.execute_input": "2023-12-19T06:37:19.553379Z",
     "iopub.status.busy": "2023-12-19T06:37:19.552956Z",
     "iopub.status.idle": "2023-12-19T06:37:19.557882Z",
     "shell.execute_reply": "2023-12-19T06:37:19.556693Z"
    },
    "papermill": {
     "duration": 0.021228,
     "end_time": "2023-12-19T06:37:19.560180",
     "exception": false,
     "start_time": "2023-12-19T06:37:19.538952",
     "status": "completed"
    },
    "tags": []
   },
   "outputs": [],
   "source": [
    "#q7.hint()\n",
    "#q7.solution()"
   ]
  },
  {
   "cell_type": "markdown",
   "id": "0fd09983",
   "metadata": {
    "papermill": {
     "duration": 0.011186,
     "end_time": "2023-12-19T06:37:19.583205",
     "exception": false,
     "start_time": "2023-12-19T06:37:19.572019",
     "status": "completed"
    },
    "tags": []
   },
   "source": [
    "# Keep going\n",
    "Continue to **[grouping and sorting](https://www.kaggle.com/residentmario/grouping-and-sorting)**."
   ]
  },
  {
   "cell_type": "markdown",
   "id": "220c6b94",
   "metadata": {
    "papermill": {
     "duration": 0.011572,
     "end_time": "2023-12-19T06:37:19.606073",
     "exception": false,
     "start_time": "2023-12-19T06:37:19.594501",
     "status": "completed"
    },
    "tags": []
   },
   "source": [
    "---\n",
    "\n",
    "\n",
    "\n",
    "\n",
    "*Have questions or comments? Visit the [course discussion forum](https://www.kaggle.com/learn/pandas/discussion) to chat with other learners.*"
   ]
  }
 ],
 "metadata": {
  "kaggle": {
   "accelerator": "none",
   "dataSources": [
    {
     "datasetId": 655,
     "sourceId": 1252,
     "sourceType": "datasetVersion"
    },
    {
     "datasetId": 2321,
     "sourceId": 3919,
     "sourceType": "datasetVersion"
    },
    {
     "datasetId": 2894,
     "sourceId": 4877,
     "sourceType": "datasetVersion"
    },
    {
     "datasetId": 3491,
     "sourceId": 5624,
     "sourceType": "datasetVersion"
    },
    {
     "datasetId": 1442,
     "sourceId": 8172,
     "sourceType": "datasetVersion"
    },
    {
     "datasetId": 9366,
     "sourceId": 13206,
     "sourceType": "datasetVersion"
    },
    {
     "datasetId": 179555,
     "sourceId": 403916,
     "sourceType": "datasetVersion"
    },
    {
     "datasetId": 4549,
     "sourceId": 466349,
     "sourceType": "datasetVersion"
    },
    {
     "datasetId": 2478,
     "sourceId": 1151655,
     "sourceType": "datasetVersion"
    },
    {
     "datasetId": 10128,
     "sourceId": 5438389,
     "sourceType": "datasetVersion"
    }
   ],
   "isGpuEnabled": false,
   "isInternetEnabled": false,
   "language": "python",
   "sourceType": "notebook"
  },
  "kernelspec": {
   "display_name": "Python 3",
   "language": "python",
   "name": "python3"
  },
  "language_info": {
   "codemirror_mode": {
    "name": "ipython",
    "version": 3
   },
   "file_extension": ".py",
   "mimetype": "text/x-python",
   "name": "python",
   "nbconvert_exporter": "python",
   "pygments_lexer": "ipython3",
   "version": "3.10.12"
  },
  "papermill": {
   "default_parameters": {},
   "duration": 21.023389,
   "end_time": "2023-12-19T06:37:20.239596",
   "environment_variables": {},
   "exception": null,
   "input_path": "__notebook__.ipynb",
   "output_path": "__notebook__.ipynb",
   "parameters": {},
   "start_time": "2023-12-19T06:36:59.216207",
   "version": "2.4.0"
  }
 },
 "nbformat": 4,
 "nbformat_minor": 5
}
