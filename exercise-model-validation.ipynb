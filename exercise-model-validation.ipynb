{
 "cells": [
  {
   "cell_type": "markdown",
   "id": "9fbced4b",
   "metadata": {
    "papermill": {
     "duration": 0.006734,
     "end_time": "2023-12-19T09:40:07.913644",
     "exception": false,
     "start_time": "2023-12-19T09:40:07.906910",
     "status": "completed"
    },
    "tags": []
   },
   "source": [
    "**This notebook is an exercise in the [Introduction to Machine Learning](https://www.kaggle.com/learn/intro-to-machine-learning) course.  You can reference the tutorial at [this link](https://www.kaggle.com/dansbecker/model-validation).**\n",
    "\n",
    "---\n"
   ]
  },
  {
   "cell_type": "markdown",
   "id": "e8f27acf",
   "metadata": {
    "papermill": {
     "duration": 0.006137,
     "end_time": "2023-12-19T09:40:07.926516",
     "exception": false,
     "start_time": "2023-12-19T09:40:07.920379",
     "status": "completed"
    },
    "tags": []
   },
   "source": [
    "## Recap\n",
    "You've built a model. In this exercise you will test how good your model is.\n",
    "\n",
    "Run the cell below to set up your coding environment where the previous exercise left off."
   ]
  },
  {
   "cell_type": "code",
   "execution_count": 1,
   "id": "2318af3b",
   "metadata": {
    "execution": {
     "iopub.execute_input": "2023-12-19T09:40:07.941698Z",
     "iopub.status.busy": "2023-12-19T09:40:07.941207Z",
     "iopub.status.idle": "2023-12-19T09:40:10.213631Z",
     "shell.execute_reply": "2023-12-19T09:40:10.212075Z"
    },
    "papermill": {
     "duration": 2.284458,
     "end_time": "2023-12-19T09:40:10.217386",
     "exception": false,
     "start_time": "2023-12-19T09:40:07.932928",
     "status": "completed"
    },
    "tags": []
   },
   "outputs": [
    {
     "name": "stdout",
     "output_type": "stream",
     "text": [
      "First in-sample predictions: [208500. 181500. 223500. 140000. 250000.]\n",
      "Actual target values for those homes: [208500, 181500, 223500, 140000, 250000]\n",
      "Setup Complete\n"
     ]
    }
   ],
   "source": [
    "# Code you have previously used to load data\n",
    "import pandas as pd\n",
    "from sklearn.tree import DecisionTreeRegressor\n",
    "\n",
    "# Path of the file to read\n",
    "iowa_file_path = '../input/home-data-for-ml-course/train.csv'\n",
    "\n",
    "home_data = pd.read_csv(iowa_file_path)\n",
    "y = home_data.SalePrice\n",
    "feature_columns = ['LotArea', 'YearBuilt', '1stFlrSF', '2ndFlrSF', 'FullBath', 'BedroomAbvGr', 'TotRmsAbvGrd']\n",
    "X = home_data[feature_columns]\n",
    "\n",
    "# Specify Model\n",
    "iowa_model = DecisionTreeRegressor()\n",
    "# Fit Model\n",
    "iowa_model.fit(X, y)\n",
    "\n",
    "print(\"First in-sample predictions:\", iowa_model.predict(X.head()))\n",
    "print(\"Actual target values for those homes:\", y.head().tolist())\n",
    "\n",
    "# Set up code checking\n",
    "from learntools.core import binder\n",
    "binder.bind(globals())\n",
    "from learntools.machine_learning.ex4 import *\n",
    "print(\"Setup Complete\")"
   ]
  },
  {
   "cell_type": "markdown",
   "id": "31acd040",
   "metadata": {
    "papermill": {
     "duration": 0.006318,
     "end_time": "2023-12-19T09:40:10.230890",
     "exception": false,
     "start_time": "2023-12-19T09:40:10.224572",
     "status": "completed"
    },
    "tags": []
   },
   "source": [
    "# Exercises\n",
    "\n",
    "## Step 1: Split Your Data\n",
    "Use the `train_test_split` function to split up your data.\n",
    "\n",
    "Give it the argument `random_state=1` so the `check` functions know what to expect when verifying your code.\n",
    "\n",
    "Recall, your features are loaded in the DataFrame **X** and your target is loaded in **y**.\n"
   ]
  },
  {
   "cell_type": "code",
   "execution_count": 2,
   "id": "40d08e33",
   "metadata": {
    "execution": {
     "iopub.execute_input": "2023-12-19T09:40:10.246671Z",
     "iopub.status.busy": "2023-12-19T09:40:10.245431Z",
     "iopub.status.idle": "2023-12-19T09:40:10.259461Z",
     "shell.execute_reply": "2023-12-19T09:40:10.258616Z"
    },
    "papermill": {
     "duration": 0.024275,
     "end_time": "2023-12-19T09:40:10.261744",
     "exception": false,
     "start_time": "2023-12-19T09:40:10.237469",
     "status": "completed"
    },
    "tags": []
   },
   "outputs": [
    {
     "data": {
      "application/javascript": [
       "parent.postMessage({\"jupyterEvent\": \"custom.exercise_interaction\", \"data\": {\"outcomeType\": 1, \"valueTowardsCompletion\": 0.25, \"interactionType\": 1, \"questionType\": 2, \"questionId\": \"1_SplitData\", \"learnToolsVersion\": \"0.3.4\", \"failureMessage\": \"\", \"exceptionClass\": \"\", \"trace\": \"\"}}, \"*\")"
      ],
      "text/plain": [
       "<IPython.core.display.Javascript object>"
      ]
     },
     "metadata": {},
     "output_type": "display_data"
    },
    {
     "data": {
      "text/markdown": [
       "<span style=\"color:#33cc33\">Correct</span>"
      ],
      "text/plain": [
       "Correct"
      ]
     },
     "metadata": {},
     "output_type": "display_data"
    }
   ],
   "source": [
    "# Import the train_test_split function and uncomment\n",
    "# from _ import _\n",
    "from sklearn.model_selection import train_test_split\n",
    "\n",
    "# fill in and uncomment\n",
    "# train_X, val_X, train_y, val_y = ____\n",
    "train_X, val_X, train_y, val_y = train_test_split(X, y, random_state=1)\n",
    "\n",
    "# Check your answer\n",
    "step_1.check()"
   ]
  },
  {
   "cell_type": "code",
   "execution_count": 3,
   "id": "f967b27b",
   "metadata": {
    "execution": {
     "iopub.execute_input": "2023-12-19T09:40:10.278425Z",
     "iopub.status.busy": "2023-12-19T09:40:10.277023Z",
     "iopub.status.idle": "2023-12-19T09:40:10.282532Z",
     "shell.execute_reply": "2023-12-19T09:40:10.281641Z"
    },
    "papermill": {
     "duration": 0.016181,
     "end_time": "2023-12-19T09:40:10.284909",
     "exception": false,
     "start_time": "2023-12-19T09:40:10.268728",
     "status": "completed"
    },
    "tags": []
   },
   "outputs": [],
   "source": [
    "# The lines below will show you a hint or the solution.\n",
    "# step_1.hint() \n",
    "# step_1.solution()\n"
   ]
  },
  {
   "cell_type": "markdown",
   "id": "b333a88e",
   "metadata": {
    "papermill": {
     "duration": 0.00716,
     "end_time": "2023-12-19T09:40:10.299736",
     "exception": false,
     "start_time": "2023-12-19T09:40:10.292576",
     "status": "completed"
    },
    "tags": []
   },
   "source": [
    "## Step 2: Specify and Fit the Model\n",
    "\n",
    "Create a `DecisionTreeRegressor` model and fit it to the relevant data.\n",
    "Set `random_state` to 1 again when creating the model."
   ]
  },
  {
   "cell_type": "code",
   "execution_count": 4,
   "id": "d80e8eda",
   "metadata": {
    "execution": {
     "iopub.execute_input": "2023-12-19T09:40:10.316960Z",
     "iopub.status.busy": "2023-12-19T09:40:10.316057Z",
     "iopub.status.idle": "2023-12-19T09:40:10.346506Z",
     "shell.execute_reply": "2023-12-19T09:40:10.345382Z"
    },
    "papermill": {
     "duration": 0.041791,
     "end_time": "2023-12-19T09:40:10.349267",
     "exception": false,
     "start_time": "2023-12-19T09:40:10.307476",
     "status": "completed"
    },
    "tags": []
   },
   "outputs": [
    {
     "name": "stdout",
     "output_type": "stream",
     "text": [
      "[186500. 184000. 130000.  92000. 164500. 220000. 335000. 144152. 215000.\n",
      " 262000.]\n",
      "[186500. 184000. 130000.  92000. 164500. 220000. 335000. 144152. 215000.\n",
      " 262000.]\n"
     ]
    },
    {
     "data": {
      "application/javascript": [
       "parent.postMessage({\"jupyterEvent\": \"custom.exercise_interaction\", \"data\": {\"outcomeType\": 1, \"valueTowardsCompletion\": 0.25, \"interactionType\": 1, \"questionType\": 2, \"questionId\": \"2_FitModelWithTrain\", \"learnToolsVersion\": \"0.3.4\", \"failureMessage\": \"\", \"exceptionClass\": \"\", \"trace\": \"\"}}, \"*\")"
      ],
      "text/plain": [
       "<IPython.core.display.Javascript object>"
      ]
     },
     "metadata": {},
     "output_type": "display_data"
    },
    {
     "data": {
      "text/markdown": [
       "<span style=\"color:#33cc33\">Correct</span>"
      ],
      "text/plain": [
       "Correct"
      ]
     },
     "metadata": {},
     "output_type": "display_data"
    }
   ],
   "source": [
    "# You imported DecisionTreeRegressor in your last exercise\n",
    "# and that code has been copied to the setup code above. So, no need to\n",
    "# import it again\n",
    "\n",
    "# Specify the model\n",
    "iowa_model =DecisionTreeRegressor(random_state=1)\n",
    "\n",
    "# Fit iowa_model with the training data.\n",
    "iowa_model.fit(train_X, train_y)\n",
    "\n",
    "# Check your answer\n",
    "step_2.check()"
   ]
  },
  {
   "cell_type": "code",
   "execution_count": 5,
   "id": "fa65961b",
   "metadata": {
    "execution": {
     "iopub.execute_input": "2023-12-19T09:40:10.365931Z",
     "iopub.status.busy": "2023-12-19T09:40:10.365507Z",
     "iopub.status.idle": "2023-12-19T09:40:10.370807Z",
     "shell.execute_reply": "2023-12-19T09:40:10.369547Z"
    },
    "papermill": {
     "duration": 0.016789,
     "end_time": "2023-12-19T09:40:10.373411",
     "exception": false,
     "start_time": "2023-12-19T09:40:10.356622",
     "status": "completed"
    },
    "tags": []
   },
   "outputs": [],
   "source": [
    "# step_2.hint()\n",
    "# step_2.solution()"
   ]
  },
  {
   "cell_type": "markdown",
   "id": "268cbd61",
   "metadata": {
    "papermill": {
     "duration": 0.00707,
     "end_time": "2023-12-19T09:40:10.387900",
     "exception": false,
     "start_time": "2023-12-19T09:40:10.380830",
     "status": "completed"
    },
    "tags": []
   },
   "source": [
    "## Step 3: Make Predictions with Validation data\n"
   ]
  },
  {
   "cell_type": "code",
   "execution_count": 6,
   "id": "b2251830",
   "metadata": {
    "execution": {
     "iopub.execute_input": "2023-12-19T09:40:10.407140Z",
     "iopub.status.busy": "2023-12-19T09:40:10.405887Z",
     "iopub.status.idle": "2023-12-19T09:40:10.420807Z",
     "shell.execute_reply": "2023-12-19T09:40:10.419502Z"
    },
    "papermill": {
     "duration": 0.027402,
     "end_time": "2023-12-19T09:40:10.423413",
     "exception": false,
     "start_time": "2023-12-19T09:40:10.396011",
     "status": "completed"
    },
    "tags": []
   },
   "outputs": [
    {
     "data": {
      "application/javascript": [
       "parent.postMessage({\"jupyterEvent\": \"custom.exercise_interaction\", \"data\": {\"outcomeType\": 1, \"valueTowardsCompletion\": 0.25, \"interactionType\": 1, \"questionType\": 2, \"questionId\": \"3_ValPreds\", \"learnToolsVersion\": \"0.3.4\", \"failureMessage\": \"\", \"exceptionClass\": \"\", \"trace\": \"\"}}, \"*\")"
      ],
      "text/plain": [
       "<IPython.core.display.Javascript object>"
      ]
     },
     "metadata": {},
     "output_type": "display_data"
    },
    {
     "data": {
      "text/markdown": [
       "<span style=\"color:#33cc33\">Correct</span>"
      ],
      "text/plain": [
       "Correct"
      ]
     },
     "metadata": {},
     "output_type": "display_data"
    }
   ],
   "source": [
    "# Predict with all validation observations\n",
    "val_predictions = iowa_model.predict(val_X)\n",
    "\n",
    "# Check your answer\n",
    "step_3.check()"
   ]
  },
  {
   "cell_type": "code",
   "execution_count": 7,
   "id": "9efdff40",
   "metadata": {
    "execution": {
     "iopub.execute_input": "2023-12-19T09:40:10.442186Z",
     "iopub.status.busy": "2023-12-19T09:40:10.441690Z",
     "iopub.status.idle": "2023-12-19T09:40:10.446596Z",
     "shell.execute_reply": "2023-12-19T09:40:10.445413Z"
    },
    "papermill": {
     "duration": 0.017028,
     "end_time": "2023-12-19T09:40:10.449156",
     "exception": false,
     "start_time": "2023-12-19T09:40:10.432128",
     "status": "completed"
    },
    "tags": []
   },
   "outputs": [],
   "source": [
    "# step_3.hint()\n",
    "# step_3.solution()"
   ]
  },
  {
   "cell_type": "markdown",
   "id": "56e42f4d",
   "metadata": {
    "papermill": {
     "duration": 0.007207,
     "end_time": "2023-12-19T09:40:10.464038",
     "exception": false,
     "start_time": "2023-12-19T09:40:10.456831",
     "status": "completed"
    },
    "tags": []
   },
   "source": [
    "Inspect your predictions and actual values from validation data."
   ]
  },
  {
   "cell_type": "code",
   "execution_count": 8,
   "id": "5f5d9c60",
   "metadata": {
    "execution": {
     "iopub.execute_input": "2023-12-19T09:40:10.481239Z",
     "iopub.status.busy": "2023-12-19T09:40:10.480795Z",
     "iopub.status.idle": "2023-12-19T09:40:10.486796Z",
     "shell.execute_reply": "2023-12-19T09:40:10.485647Z"
    },
    "papermill": {
     "duration": 0.017931,
     "end_time": "2023-12-19T09:40:10.489505",
     "exception": false,
     "start_time": "2023-12-19T09:40:10.471574",
     "status": "completed"
    },
    "tags": []
   },
   "outputs": [
    {
     "name": "stdout",
     "output_type": "stream",
     "text": [
      "<learntools.core.constants.PlaceholderValue object at 0x783f6e2da0e0>\n",
      "<learntools.core.constants.PlaceholderValue object at 0x783f6e2da0e0>\n"
     ]
    }
   ],
   "source": [
    "# print the top few validation predictions\n",
    "print(____)\n",
    "# print the top few actual prices from validation data\n",
    "print(____)"
   ]
  },
  {
   "cell_type": "markdown",
   "id": "993055b5",
   "metadata": {
    "papermill": {
     "duration": 0.007752,
     "end_time": "2023-12-19T09:40:10.505096",
     "exception": false,
     "start_time": "2023-12-19T09:40:10.497344",
     "status": "completed"
    },
    "tags": []
   },
   "source": [
    "What do you notice that is different from what you saw with in-sample predictions (which are printed after the top code cell in this page).\n",
    "\n",
    "Do you remember why validation predictions differ from in-sample (or training) predictions? This is an important idea from the last lesson.\n",
    "\n",
    "## Step 4: Calculate the Mean Absolute Error in Validation Data\n"
   ]
  },
  {
   "cell_type": "code",
   "execution_count": 9,
   "id": "02f14be0",
   "metadata": {
    "execution": {
     "iopub.execute_input": "2023-12-19T09:40:10.523127Z",
     "iopub.status.busy": "2023-12-19T09:40:10.522669Z",
     "iopub.status.idle": "2023-12-19T09:40:10.532881Z",
     "shell.execute_reply": "2023-12-19T09:40:10.531735Z"
    },
    "papermill": {
     "duration": 0.023258,
     "end_time": "2023-12-19T09:40:10.536049",
     "exception": false,
     "start_time": "2023-12-19T09:40:10.512791",
     "status": "completed"
    },
    "tags": []
   },
   "outputs": [
    {
     "name": "stdout",
     "output_type": "stream",
     "text": [
      "29652.931506849316\n"
     ]
    },
    {
     "data": {
      "application/javascript": [
       "parent.postMessage({\"jupyterEvent\": \"custom.exercise_interaction\", \"data\": {\"outcomeType\": 1, \"valueTowardsCompletion\": 0.25, \"interactionType\": 1, \"questionType\": 1, \"questionId\": \"4_MAE\", \"learnToolsVersion\": \"0.3.4\", \"failureMessage\": \"\", \"exceptionClass\": \"\", \"trace\": \"\"}}, \"*\")"
      ],
      "text/plain": [
       "<IPython.core.display.Javascript object>"
      ]
     },
     "metadata": {},
     "output_type": "display_data"
    },
    {
     "data": {
      "text/markdown": [
       "<span style=\"color:#33cc33\">Correct</span>"
      ],
      "text/plain": [
       "Correct"
      ]
     },
     "metadata": {},
     "output_type": "display_data"
    }
   ],
   "source": [
    "from sklearn.metrics import mean_absolute_error\n",
    "val_mae = mean_absolute_error(val_y, val_predictions)\n",
    "\n",
    "# uncomment following line to see the validation_mae\n",
    "print(val_mae)\n",
    "\n",
    "# Check your answer\n",
    "step_4.check()"
   ]
  },
  {
   "cell_type": "code",
   "execution_count": 10,
   "id": "670dc499",
   "metadata": {
    "execution": {
     "iopub.execute_input": "2023-12-19T09:40:10.554471Z",
     "iopub.status.busy": "2023-12-19T09:40:10.553984Z",
     "iopub.status.idle": "2023-12-19T09:40:10.559389Z",
     "shell.execute_reply": "2023-12-19T09:40:10.558053Z"
    },
    "papermill": {
     "duration": 0.017712,
     "end_time": "2023-12-19T09:40:10.562110",
     "exception": false,
     "start_time": "2023-12-19T09:40:10.544398",
     "status": "completed"
    },
    "tags": []
   },
   "outputs": [],
   "source": [
    "# step_4.hint()\n",
    "# step_4.solution()"
   ]
  },
  {
   "cell_type": "markdown",
   "id": "a20820d6",
   "metadata": {
    "papermill": {
     "duration": 0.007994,
     "end_time": "2023-12-19T09:40:10.579138",
     "exception": false,
     "start_time": "2023-12-19T09:40:10.571144",
     "status": "completed"
    },
    "tags": []
   },
   "source": [
    "Is that MAE good?  There isn't a general rule for what values are good that applies across applications. But you'll see how to use (and improve) this number in the next step.\n",
    "\n",
    "# Keep Going\n",
    "\n",
    "You are ready for **[Underfitting and Overfitting](https://www.kaggle.com/dansbecker/underfitting-and-overfitting).**\n"
   ]
  },
  {
   "cell_type": "markdown",
   "id": "cab24971",
   "metadata": {
    "papermill": {
     "duration": 0.008515,
     "end_time": "2023-12-19T09:40:10.595850",
     "exception": false,
     "start_time": "2023-12-19T09:40:10.587335",
     "status": "completed"
    },
    "tags": []
   },
   "source": [
    "---\n",
    "\n",
    "\n",
    "\n",
    "\n",
    "*Have questions or comments? Visit the [course discussion forum](https://www.kaggle.com/learn/intro-to-machine-learning/discussion) to chat with other learners.*"
   ]
  }
 ],
 "metadata": {
  "kaggle": {
   "accelerator": "none",
   "dataSources": [
    {
     "databundleVersionId": 111096,
     "sourceId": 10211,
     "sourceType": "competition"
    },
    {
     "datasetId": 11167,
     "sourceId": 15520,
     "sourceType": "datasetVersion"
    },
    {
     "datasetId": 2709,
     "sourceId": 38454,
     "sourceType": "datasetVersion"
    }
   ],
   "isGpuEnabled": false,
   "isInternetEnabled": false,
   "language": "python",
   "sourceType": "notebook"
  },
  "kernelspec": {
   "display_name": "Python 3",
   "language": "python",
   "name": "python3"
  },
  "language_info": {
   "codemirror_mode": {
    "name": "ipython",
    "version": 3
   },
   "file_extension": ".py",
   "mimetype": "text/x-python",
   "name": "python",
   "nbconvert_exporter": "python",
   "pygments_lexer": "ipython3",
   "version": "3.10.12"
  },
  "papermill": {
   "default_parameters": {},
   "duration": 7.144737,
   "end_time": "2023-12-19T09:40:11.328223",
   "environment_variables": {},
   "exception": null,
   "input_path": "__notebook__.ipynb",
   "output_path": "__notebook__.ipynb",
   "parameters": {},
   "start_time": "2023-12-19T09:40:04.183486",
   "version": "2.4.0"
  }
 },
 "nbformat": 4,
 "nbformat_minor": 5
}
