{
 "cells": [
  {
   "cell_type": "markdown",
   "id": "1550c63b",
   "metadata": {
    "papermill": {
     "duration": 0.00381,
     "end_time": "2023-12-19T09:28:19.917446",
     "exception": false,
     "start_time": "2023-12-19T09:28:19.913636",
     "status": "completed"
    },
    "tags": []
   },
   "source": [
    "**[Machine Learning Course Home Page](https://www.kaggle.com/learn/machine-learning)**\n",
    "\n",
    "---\n"
   ]
  },
  {
   "cell_type": "markdown",
   "id": "7d5d20ed",
   "metadata": {
    "papermill": {
     "duration": 0.003141,
     "end_time": "2023-12-19T09:28:19.924530",
     "exception": false,
     "start_time": "2023-12-19T09:28:19.921389",
     "status": "completed"
    },
    "tags": []
   },
   "source": [
    "This exercise will test your ability to read a data file and understand statistics about the data.\n",
    "\n",
    "In later exercises, you will apply techniques to filter the data, build a machine learning model, and iteratively improve your model.\n",
    "\n",
    "The course examples use data from Melbourne. To ensure you can apply these techniques on your own, you will have to apply them to a new dataset (with house prices from Iowa).\n",
    "\n",
    "The exercises use a \"notebook\" coding environment.  In case you are unfamiliar with notebooks, we have a [90-second intro video](https://www.youtube.com/watch?v=4C2qMnaIKL4).\n",
    "\n",
    "# Exercises\n",
    "\n",
    "Run the following cell to set up code-checking, which will verify your work as you go."
   ]
  },
  {
   "cell_type": "code",
   "execution_count": 1,
   "id": "01ddc78e",
   "metadata": {
    "execution": {
     "iopub.execute_input": "2023-12-19T09:28:19.933720Z",
     "iopub.status.busy": "2023-12-19T09:28:19.933075Z",
     "iopub.status.idle": "2023-12-19T09:28:20.366205Z",
     "shell.execute_reply": "2023-12-19T09:28:20.365074Z"
    },
    "papermill": {
     "duration": 0.440984,
     "end_time": "2023-12-19T09:28:20.368936",
     "exception": false,
     "start_time": "2023-12-19T09:28:19.927952",
     "status": "completed"
    },
    "tags": []
   },
   "outputs": [
    {
     "name": "stdout",
     "output_type": "stream",
     "text": [
      "Setup Complete\n"
     ]
    }
   ],
   "source": [
    "# Set up code checking\n",
    "from learntools.core import binder\n",
    "binder.bind(globals())\n",
    "from learntools.machine_learning.ex2 import *\n",
    "print(\"Setup Complete\")"
   ]
  },
  {
   "cell_type": "markdown",
   "id": "6d7923d2",
   "metadata": {
    "papermill": {
     "duration": 0.003493,
     "end_time": "2023-12-19T09:28:20.376040",
     "exception": false,
     "start_time": "2023-12-19T09:28:20.372547",
     "status": "completed"
    },
    "tags": []
   },
   "source": [
    "## Step 1: Loading Data\n",
    "Read the Iowa data file into a Pandas DataFrame called `home_data`."
   ]
  },
  {
   "cell_type": "code",
   "execution_count": 2,
   "id": "a87ce996",
   "metadata": {
    "execution": {
     "iopub.execute_input": "2023-12-19T09:28:20.384953Z",
     "iopub.status.busy": "2023-12-19T09:28:20.384444Z",
     "iopub.status.idle": "2023-12-19T09:28:20.442136Z",
     "shell.execute_reply": "2023-12-19T09:28:20.440871Z"
    },
    "papermill": {
     "duration": 0.065254,
     "end_time": "2023-12-19T09:28:20.444779",
     "exception": false,
     "start_time": "2023-12-19T09:28:20.379525",
     "status": "completed"
    },
    "tags": []
   },
   "outputs": [
    {
     "data": {
      "application/javascript": [
       "parent.postMessage({\"jupyterEvent\": \"custom.exercise_interaction\", \"data\": {\"outcomeType\": 1, \"valueTowardsCompletion\": 0.5, \"interactionType\": 1, \"questionType\": 1, \"questionId\": \"1_LoadHomeData\", \"learnToolsVersion\": \"0.3.4\", \"failureMessage\": \"\", \"exceptionClass\": \"\", \"trace\": \"\"}}, \"*\")"
      ],
      "text/plain": [
       "<IPython.core.display.Javascript object>"
      ]
     },
     "metadata": {},
     "output_type": "display_data"
    },
    {
     "data": {
      "text/markdown": [
       "<span style=\"color:#33cc33\">Correct</span>"
      ],
      "text/plain": [
       "Correct"
      ]
     },
     "metadata": {},
     "output_type": "display_data"
    }
   ],
   "source": [
    "import pandas as pd\n",
    "\n",
    "# Path of the file to read\n",
    "iowa_file_path = '../input/home-data-for-ml-course/train.csv'\n",
    "\n",
    "# Fill in the line below to read the file into a variable home_data\n",
    "home_data = pd.read_csv(iowa_file_path)\n",
    "\n",
    "# Call line below with no argument to check that you've loaded the data correctly\n",
    "step_1.check()"
   ]
  },
  {
   "cell_type": "code",
   "execution_count": 3,
   "id": "5ee823b3",
   "metadata": {
    "execution": {
     "iopub.execute_input": "2023-12-19T09:28:20.454670Z",
     "iopub.status.busy": "2023-12-19T09:28:20.454107Z",
     "iopub.status.idle": "2023-12-19T09:28:20.459065Z",
     "shell.execute_reply": "2023-12-19T09:28:20.457715Z"
    },
    "papermill": {
     "duration": 0.013086,
     "end_time": "2023-12-19T09:28:20.461760",
     "exception": false,
     "start_time": "2023-12-19T09:28:20.448674",
     "status": "completed"
    },
    "tags": []
   },
   "outputs": [],
   "source": [
    "# Lines below will give you a hint or solution code\n",
    "#step_1.hint()\n",
    "#step_1.solution()"
   ]
  },
  {
   "cell_type": "markdown",
   "id": "964ea4b5",
   "metadata": {
    "papermill": {
     "duration": 0.003536,
     "end_time": "2023-12-19T09:28:20.469337",
     "exception": false,
     "start_time": "2023-12-19T09:28:20.465801",
     "status": "completed"
    },
    "tags": []
   },
   "source": [
    "## Step 2: Review The Data\n",
    "Use the command you learned to view summary statistics of the data. Then fill in variables to answer the following questions"
   ]
  },
  {
   "cell_type": "code",
   "execution_count": 4,
   "id": "dcb6b27b",
   "metadata": {
    "execution": {
     "iopub.execute_input": "2023-12-19T09:28:20.479085Z",
     "iopub.status.busy": "2023-12-19T09:28:20.478425Z",
     "iopub.status.idle": "2023-12-19T09:28:20.484773Z",
     "shell.execute_reply": "2023-12-19T09:28:20.483676Z"
    },
    "papermill": {
     "duration": 0.014194,
     "end_time": "2023-12-19T09:28:20.487300",
     "exception": false,
     "start_time": "2023-12-19T09:28:20.473106",
     "status": "completed"
    },
    "tags": []
   },
   "outputs": [
    {
     "data": {
      "text/markdown": [],
      "text/plain": [
       "<learntools.core.constants.PlaceholderValue at 0x7d641a1f9db0>"
      ]
     },
     "execution_count": 4,
     "metadata": {},
     "output_type": "execute_result"
    }
   ],
   "source": [
    "# Print summary statistics in next line\n",
    "____"
   ]
  },
  {
   "cell_type": "code",
   "execution_count": 5,
   "id": "48685d93",
   "metadata": {
    "execution": {
     "iopub.execute_input": "2023-12-19T09:28:20.497057Z",
     "iopub.status.busy": "2023-12-19T09:28:20.496692Z",
     "iopub.status.idle": "2023-12-19T09:28:20.506031Z",
     "shell.execute_reply": "2023-12-19T09:28:20.504708Z"
    },
    "papermill": {
     "duration": 0.017149,
     "end_time": "2023-12-19T09:28:20.508452",
     "exception": false,
     "start_time": "2023-12-19T09:28:20.491303",
     "status": "completed"
    },
    "tags": []
   },
   "outputs": [
    {
     "data": {
      "application/javascript": [
       "parent.postMessage({\"jupyterEvent\": \"custom.exercise_interaction\", \"data\": {\"outcomeType\": 1, \"valueTowardsCompletion\": 0.5, \"interactionType\": 1, \"questionType\": 1, \"questionId\": \"2_HomeDescription\", \"learnToolsVersion\": \"0.3.4\", \"failureMessage\": \"\", \"exceptionClass\": \"\", \"trace\": \"\"}}, \"*\")"
      ],
      "text/plain": [
       "<IPython.core.display.Javascript object>"
      ]
     },
     "metadata": {},
     "output_type": "display_data"
    },
    {
     "data": {
      "text/markdown": [
       "<span style=\"color:#33cc33\">Correct</span>"
      ],
      "text/plain": [
       "Correct"
      ]
     },
     "metadata": {},
     "output_type": "display_data"
    }
   ],
   "source": [
    "# What is the average lot size (rounded to nearest integer)?\n",
    "avg_lot_size = 10517\n",
    "\n",
    "# As of today, how old is the newest home (current year - the date in which it was built)\n",
    "newest_home_age = 13\n",
    "\n",
    "# Checks your answers\n",
    "step_2.check()"
   ]
  },
  {
   "cell_type": "code",
   "execution_count": 6,
   "id": "cdfe688c",
   "metadata": {
    "execution": {
     "iopub.execute_input": "2023-12-19T09:28:20.518485Z",
     "iopub.status.busy": "2023-12-19T09:28:20.518063Z",
     "iopub.status.idle": "2023-12-19T09:28:20.523158Z",
     "shell.execute_reply": "2023-12-19T09:28:20.521647Z"
    },
    "papermill": {
     "duration": 0.013242,
     "end_time": "2023-12-19T09:28:20.525881",
     "exception": false,
     "start_time": "2023-12-19T09:28:20.512639",
     "status": "completed"
    },
    "tags": []
   },
   "outputs": [],
   "source": [
    "#step_2.hint()\n",
    "#step_2.solution()"
   ]
  },
  {
   "cell_type": "markdown",
   "id": "68c33031",
   "metadata": {
    "papermill": {
     "duration": 0.003852,
     "end_time": "2023-12-19T09:28:20.533954",
     "exception": false,
     "start_time": "2023-12-19T09:28:20.530102",
     "status": "completed"
    },
    "tags": []
   },
   "source": [
    "## Think About Your Data\n",
    "\n",
    "The newest house in your data isn't that new.  A few potential explanations for this:\n",
    "1. They haven't built new houses where this data was collected.\n",
    "1. The data was collected a long time ago. Houses built after the data publication wouldn't show up.\n",
    "\n",
    "If the reason is explanation #1 above, does that affect your trust in the model you build with this data? What about if it is reason #2?\n",
    "\n",
    "How could you dig into the data to see which explanation is more plausible?\n",
    "\n",
    "Check out this **[discussion thread](https://www.kaggle.com/learn-forum/60581)** to see what others think or to add your ideas.\n",
    "\n",
    "# Keep Going\n",
    "\n",
    "You are ready for **[Your First Machine Learning Model](https://www.kaggle.com/dansbecker/your-first-machine-learning-model).**\n"
   ]
  },
  {
   "cell_type": "markdown",
   "id": "5e96d38c",
   "metadata": {
    "papermill": {
     "duration": 0.003802,
     "end_time": "2023-12-19T09:28:20.541923",
     "exception": false,
     "start_time": "2023-12-19T09:28:20.538121",
     "status": "completed"
    },
    "tags": []
   },
   "source": [
    "---\n",
    "**[Machine Learning Course Home Page](https://www.kaggle.com/learn/machine-learning)**\n",
    "\n"
   ]
  }
 ],
 "metadata": {
  "kaggle": {
   "accelerator": "none",
   "dataSources": [
    {
     "datasetId": 2709,
     "sourceId": 38454,
     "sourceType": "datasetVersion"
    },
    {
     "datasetId": 108980,
     "sourceId": 260251,
     "sourceType": "datasetVersion"
    }
   ],
   "isGpuEnabled": false,
   "isInternetEnabled": false,
   "language": "python",
   "sourceType": "notebook"
  },
  "kernelspec": {
   "display_name": "Python 3",
   "language": "python",
   "name": "python3"
  },
  "language_info": {
   "codemirror_mode": {
    "name": "ipython",
    "version": 3
   },
   "file_extension": ".py",
   "mimetype": "text/x-python",
   "name": "python",
   "nbconvert_exporter": "python",
   "pygments_lexer": "ipython3",
   "version": "3.10.12"
  },
  "papermill": {
   "default_parameters": {},
   "duration": 4.336996,
   "end_time": "2023-12-19T09:28:21.067117",
   "environment_variables": {},
   "exception": null,
   "input_path": "__notebook__.ipynb",
   "output_path": "__notebook__.ipynb",
   "parameters": {},
   "start_time": "2023-12-19T09:28:16.730121",
   "version": "2.4.0"
  }
 },
 "nbformat": 4,
 "nbformat_minor": 5
}
