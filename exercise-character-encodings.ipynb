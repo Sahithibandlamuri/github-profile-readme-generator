{
 "cells": [
  {
   "cell_type": "markdown",
   "id": "75a5946f",
   "metadata": {
    "papermill": {
     "duration": 0.004868,
     "end_time": "2023-12-18T07:29:51.962227",
     "exception": false,
     "start_time": "2023-12-18T07:29:51.957359",
     "status": "completed"
    },
    "tags": []
   },
   "source": [
    "**This notebook is an exercise in the [Data Cleaning](https://www.kaggle.com/learn/data-cleaning) course.  You can reference the tutorial at [this link](https://www.kaggle.com/alexisbcook/character-encodings).**\n",
    "\n",
    "---\n"
   ]
  },
  {
   "cell_type": "markdown",
   "id": "dde3680a",
   "metadata": {
    "papermill": {
     "duration": 0.004077,
     "end_time": "2023-12-18T07:29:51.970916",
     "exception": false,
     "start_time": "2023-12-18T07:29:51.966839",
     "status": "completed"
    },
    "tags": []
   },
   "source": [
    "In this exercise, you'll apply what you learned in the **Character encodings** tutorial.\n",
    "\n",
    "# Setup\n",
    "\n",
    "The questions below will give you feedback on your work. Run the following cell to set up the feedback system."
   ]
  },
  {
   "cell_type": "code",
   "execution_count": 1,
   "id": "80d6a9ab",
   "metadata": {
    "execution": {
     "iopub.execute_input": "2023-12-18T07:29:51.981013Z",
     "iopub.status.busy": "2023-12-18T07:29:51.980621Z",
     "iopub.status.idle": "2023-12-18T07:29:52.426556Z",
     "shell.execute_reply": "2023-12-18T07:29:52.425498Z"
    },
    "papermill": {
     "duration": 0.454072,
     "end_time": "2023-12-18T07:29:52.429136",
     "exception": false,
     "start_time": "2023-12-18T07:29:51.975064",
     "status": "completed"
    },
    "tags": []
   },
   "outputs": [
    {
     "name": "stdout",
     "output_type": "stream",
     "text": [
      "Setup Complete\n"
     ]
    }
   ],
   "source": [
    "from learntools.core import binder\n",
    "binder.bind(globals())\n",
    "from learntools.data_cleaning.ex4 import *\n",
    "print(\"Setup Complete\")"
   ]
  },
  {
   "cell_type": "markdown",
   "id": "1b434fc3",
   "metadata": {
    "papermill": {
     "duration": 0.004206,
     "end_time": "2023-12-18T07:29:52.437959",
     "exception": false,
     "start_time": "2023-12-18T07:29:52.433753",
     "status": "completed"
    },
    "tags": []
   },
   "source": [
    "# Get our environment set up\n",
    "\n",
    "The first thing we'll need to do is load in the libraries we'll be using."
   ]
  },
  {
   "cell_type": "code",
   "execution_count": 2,
   "id": "947f0f53",
   "metadata": {
    "execution": {
     "iopub.execute_input": "2023-12-18T07:29:52.448639Z",
     "iopub.status.busy": "2023-12-18T07:29:52.448063Z",
     "iopub.status.idle": "2023-12-18T07:29:52.452342Z",
     "shell.execute_reply": "2023-12-18T07:29:52.451521Z"
    },
    "papermill": {
     "duration": 0.011918,
     "end_time": "2023-12-18T07:29:52.454240",
     "exception": false,
     "start_time": "2023-12-18T07:29:52.442322",
     "status": "completed"
    },
    "tags": []
   },
   "outputs": [],
   "source": [
    "# modules we'll use\n",
    "import pandas as pd\n",
    "import numpy as np\n",
    "\n",
    "# helpful character encoding module\n",
    "import charset_normalizer\n",
    "\n",
    "# set seed for reproducibility\n",
    "np.random.seed(0)"
   ]
  },
  {
   "cell_type": "markdown",
   "id": "3dcb6db2",
   "metadata": {
    "papermill": {
     "duration": 0.004205,
     "end_time": "2023-12-18T07:29:52.462801",
     "exception": false,
     "start_time": "2023-12-18T07:29:52.458596",
     "status": "completed"
    },
    "tags": []
   },
   "source": [
    "# 1) What are encodings?\n",
    "\n",
    "You're working with a dataset composed of bytes.  Run the code cell below to print a sample entry."
   ]
  },
  {
   "cell_type": "code",
   "execution_count": 3,
   "id": "d30fc26d",
   "metadata": {
    "execution": {
     "iopub.execute_input": "2023-12-18T07:29:52.473912Z",
     "iopub.status.busy": "2023-12-18T07:29:52.473099Z",
     "iopub.status.idle": "2023-12-18T07:29:52.478129Z",
     "shell.execute_reply": "2023-12-18T07:29:52.477070Z"
    },
    "papermill": {
     "duration": 0.012607,
     "end_time": "2023-12-18T07:29:52.480263",
     "exception": false,
     "start_time": "2023-12-18T07:29:52.467656",
     "status": "completed"
    },
    "tags": []
   },
   "outputs": [
    {
     "name": "stdout",
     "output_type": "stream",
     "text": [
      "b'\\xa7A\\xa6n'\n",
      "data type: <class 'bytes'>\n"
     ]
    }
   ],
   "source": [
    "sample_entry = b'\\xa7A\\xa6n'\n",
    "print(sample_entry)\n",
    "print('data type:', type(sample_entry))"
   ]
  },
  {
   "cell_type": "markdown",
   "id": "678e52be",
   "metadata": {
    "papermill": {
     "duration": 0.0042,
     "end_time": "2023-12-18T07:29:52.489691",
     "exception": false,
     "start_time": "2023-12-18T07:29:52.485491",
     "status": "completed"
    },
    "tags": []
   },
   "source": [
    "You notice that it doesn't use the standard UTF-8 encoding. \n",
    "\n",
    "Use the next code cell to create a variable `new_entry` that changes the encoding from `\"big5-tw\"` to `\"utf-8\"`.  `new_entry` should have the bytes datatype."
   ]
  },
  {
   "cell_type": "code",
   "execution_count": 4,
   "id": "c43ddfaf",
   "metadata": {
    "execution": {
     "iopub.execute_input": "2023-12-18T07:29:52.500046Z",
     "iopub.status.busy": "2023-12-18T07:29:52.499705Z",
     "iopub.status.idle": "2023-12-18T07:29:52.507254Z",
     "shell.execute_reply": "2023-12-18T07:29:52.506516Z"
    },
    "papermill": {
     "duration": 0.014969,
     "end_time": "2023-12-18T07:29:52.509021",
     "exception": false,
     "start_time": "2023-12-18T07:29:52.494052",
     "status": "completed"
    },
    "tags": []
   },
   "outputs": [
    {
     "data": {
      "application/javascript": [
       "parent.postMessage({\"jupyterEvent\": \"custom.exercise_interaction\", \"data\": {\"outcomeType\": 1, \"valueTowardsCompletion\": 0.3333333333333333, \"interactionType\": 1, \"questionType\": 1, \"questionId\": \"1_EncodingsIntro\", \"learnToolsVersion\": \"0.3.4\", \"failureMessage\": \"\", \"exceptionClass\": \"\", \"trace\": \"\"}}, \"*\")"
      ],
      "text/plain": [
       "<IPython.core.display.Javascript object>"
      ]
     },
     "metadata": {},
     "output_type": "display_data"
    },
    {
     "data": {
      "text/markdown": [
       "<span style=\"color:#33cc33\">Correct</span>"
      ],
      "text/plain": [
       "Correct"
      ]
     },
     "metadata": {},
     "output_type": "display_data"
    }
   ],
   "source": [
    "original = sample_entry.decode(\"big5-tw\")\n",
    "new_entry = original.encode()\n",
    "\n",
    "# Check your answer\n",
    "q1.check()"
   ]
  },
  {
   "cell_type": "code",
   "execution_count": 5,
   "id": "30257151",
   "metadata": {
    "execution": {
     "iopub.execute_input": "2023-12-18T07:29:52.519976Z",
     "iopub.status.busy": "2023-12-18T07:29:52.519165Z",
     "iopub.status.idle": "2023-12-18T07:29:52.522799Z",
     "shell.execute_reply": "2023-12-18T07:29:52.522122Z"
    },
    "papermill": {
     "duration": 0.010911,
     "end_time": "2023-12-18T07:29:52.524549",
     "exception": false,
     "start_time": "2023-12-18T07:29:52.513638",
     "status": "completed"
    },
    "tags": []
   },
   "outputs": [],
   "source": [
    "# Lines below will give you a hint or solution code\n",
    "#q1.hint()\n",
    "#q1.solution()"
   ]
  },
  {
   "cell_type": "markdown",
   "id": "37756cb7",
   "metadata": {
    "papermill": {
     "duration": 0.004383,
     "end_time": "2023-12-18T07:29:52.533652",
     "exception": false,
     "start_time": "2023-12-18T07:29:52.529269",
     "status": "completed"
    },
    "tags": []
   },
   "source": [
    "# 2) Reading in files with encoding problems\n",
    "\n",
    "Use the code cell below to read in this file at path `\"../input/fatal-police-shootings-in-the-us/PoliceKillingsUS.csv\"`.  \n",
    "\n",
    "Figure out what the correct encoding should be and read in the file to a DataFrame `police_killings`."
   ]
  },
  {
   "cell_type": "code",
   "execution_count": 6,
   "id": "e2fdf44b",
   "metadata": {
    "execution": {
     "iopub.execute_input": "2023-12-18T07:29:52.544723Z",
     "iopub.status.busy": "2023-12-18T07:29:52.543838Z",
     "iopub.status.idle": "2023-12-18T07:29:52.568819Z",
     "shell.execute_reply": "2023-12-18T07:29:52.567806Z"
    },
    "papermill": {
     "duration": 0.032581,
     "end_time": "2023-12-18T07:29:52.570801",
     "exception": false,
     "start_time": "2023-12-18T07:29:52.538220",
     "status": "completed"
    },
    "tags": []
   },
   "outputs": [
    {
     "data": {
      "application/javascript": [
       "parent.postMessage({\"jupyterEvent\": \"custom.exercise_interaction\", \"data\": {\"outcomeType\": 1, \"valueTowardsCompletion\": 0.3333333333333333, \"interactionType\": 1, \"questionType\": 1, \"questionId\": \"2_ReadIn\", \"learnToolsVersion\": \"0.3.4\", \"failureMessage\": \"\", \"exceptionClass\": \"\", \"trace\": \"\"}}, \"*\")"
      ],
      "text/plain": [
       "<IPython.core.display.Javascript object>"
      ]
     },
     "metadata": {},
     "output_type": "display_data"
    },
    {
     "data": {
      "text/markdown": [
       "<span style=\"color:#33cc33\">Correct</span>"
      ],
      "text/plain": [
       "Correct"
      ]
     },
     "metadata": {},
     "output_type": "display_data"
    }
   ],
   "source": [
    "# TODO: Load in the DataFrame correctly.\n",
    "police_killings = pd.read_csv(\"../input/fatal-police-shootings-in-the-us/PoliceKillingsUS.csv\", encoding='Windows-1252')\n",
    "\n",
    "# Check your answer\n",
    "q2.check()"
   ]
  },
  {
   "cell_type": "markdown",
   "id": "8552fdb0",
   "metadata": {
    "papermill": {
     "duration": 0.004691,
     "end_time": "2023-12-18T07:29:52.580531",
     "exception": false,
     "start_time": "2023-12-18T07:29:52.575840",
     "status": "completed"
    },
    "tags": []
   },
   "source": [
    "Feel free to use any additional code cells for supplemental work.  To get credit for finishing this question, you'll need to run `q2.check()` and get a result of **Correct**."
   ]
  },
  {
   "cell_type": "code",
   "execution_count": 7,
   "id": "3710a461",
   "metadata": {
    "execution": {
     "iopub.execute_input": "2023-12-18T07:29:52.591949Z",
     "iopub.status.busy": "2023-12-18T07:29:52.591309Z",
     "iopub.status.idle": "2023-12-18T07:29:52.595744Z",
     "shell.execute_reply": "2023-12-18T07:29:52.594703Z"
    },
    "papermill": {
     "duration": 0.012456,
     "end_time": "2023-12-18T07:29:52.597762",
     "exception": false,
     "start_time": "2023-12-18T07:29:52.585306",
     "status": "completed"
    },
    "tags": []
   },
   "outputs": [],
   "source": [
    "# (Optional) Use this code cell for any additional work."
   ]
  },
  {
   "cell_type": "code",
   "execution_count": 8,
   "id": "cc03ffa3",
   "metadata": {
    "execution": {
     "iopub.execute_input": "2023-12-18T07:29:52.609273Z",
     "iopub.status.busy": "2023-12-18T07:29:52.608751Z",
     "iopub.status.idle": "2023-12-18T07:29:52.612561Z",
     "shell.execute_reply": "2023-12-18T07:29:52.611918Z"
    },
    "papermill": {
     "duration": 0.011695,
     "end_time": "2023-12-18T07:29:52.614398",
     "exception": false,
     "start_time": "2023-12-18T07:29:52.602703",
     "status": "completed"
    },
    "tags": []
   },
   "outputs": [],
   "source": [
    "# Lines below will give you a hint or solution code\n",
    "#q2.hint()\n",
    "#q2.solution()"
   ]
  },
  {
   "cell_type": "markdown",
   "id": "6a0d7cc3",
   "metadata": {
    "papermill": {
     "duration": 0.004795,
     "end_time": "2023-12-18T07:29:52.624131",
     "exception": false,
     "start_time": "2023-12-18T07:29:52.619336",
     "status": "completed"
    },
    "tags": []
   },
   "source": [
    "# 3) Saving your files with UTF-8 encoding\n",
    "\n",
    "Save a version of the police killings dataset to CSV with UTF-8 encoding.  Your answer will be marked correct after saving this file.  \n",
    "\n",
    "Note: When using the `to_csv()` method, supply only the name of the file (e.g., `\"my_file.csv\"`).  This saves the file at the filepath `\"/kaggle/working/my_file.csv\"`."
   ]
  },
  {
   "cell_type": "code",
   "execution_count": 9,
   "id": "eee2c379",
   "metadata": {
    "execution": {
     "iopub.execute_input": "2023-12-18T07:29:52.635352Z",
     "iopub.status.busy": "2023-12-18T07:29:52.634841Z",
     "iopub.status.idle": "2023-12-18T07:29:52.672824Z",
     "shell.execute_reply": "2023-12-18T07:29:52.671786Z"
    },
    "papermill": {
     "duration": 0.04583,
     "end_time": "2023-12-18T07:29:52.674778",
     "exception": false,
     "start_time": "2023-12-18T07:29:52.628948",
     "status": "completed"
    },
    "tags": []
   },
   "outputs": [
    {
     "data": {
      "application/javascript": [
       "parent.postMessage({\"jupyterEvent\": \"custom.exercise_interaction\", \"data\": {\"outcomeType\": 1, \"valueTowardsCompletion\": 0.3333333333333333, \"interactionType\": 1, \"questionType\": 2, \"questionId\": \"3_SaveCSV\", \"learnToolsVersion\": \"0.3.4\", \"failureMessage\": \"\", \"exceptionClass\": \"\", \"trace\": \"\"}}, \"*\")"
      ],
      "text/plain": [
       "<IPython.core.display.Javascript object>"
      ]
     },
     "metadata": {},
     "output_type": "display_data"
    },
    {
     "data": {
      "text/markdown": [
       "<span style=\"color:#33cc33\">Correct</span>"
      ],
      "text/plain": [
       "Correct"
      ]
     },
     "metadata": {},
     "output_type": "display_data"
    }
   ],
   "source": [
    "# TODO: Save the police killings dataset to CSV\n",
    "police_killings.to_csv(\"my_file.csv\")\n",
    "# Check your answer\n",
    "q3.check()"
   ]
  },
  {
   "cell_type": "code",
   "execution_count": 10,
   "id": "34bbb640",
   "metadata": {
    "execution": {
     "iopub.execute_input": "2023-12-18T07:29:52.686658Z",
     "iopub.status.busy": "2023-12-18T07:29:52.686339Z",
     "iopub.status.idle": "2023-12-18T07:29:52.690259Z",
     "shell.execute_reply": "2023-12-18T07:29:52.689344Z"
    },
    "papermill": {
     "duration": 0.012408,
     "end_time": "2023-12-18T07:29:52.692451",
     "exception": false,
     "start_time": "2023-12-18T07:29:52.680043",
     "status": "completed"
    },
    "tags": []
   },
   "outputs": [],
   "source": [
    "# Lines below will give you a hint or solution code\n",
    "#q3.hint()\n",
    "#q3.solution()"
   ]
  },
  {
   "cell_type": "markdown",
   "id": "42ff33b6",
   "metadata": {
    "papermill": {
     "duration": 0.005028,
     "end_time": "2023-12-18T07:29:52.702750",
     "exception": false,
     "start_time": "2023-12-18T07:29:52.697722",
     "status": "completed"
    },
    "tags": []
   },
   "source": [
    "# (Optional) More practice\n",
    "\n",
    "Check out [this dataset of files in different character encodings](https://www.kaggle.com/rtatman/character-encoding-examples). Can you read in all the files with their original encodings and them save them out as UTF-8 files?\n",
    "\n",
    "If you have a file that's in UTF-8 but has just a couple of weird-looking characters in it, you can try out the [ftfy module](https://ftfy.readthedocs.io/en/latest/#) and see if it helps. \n",
    "\n",
    "# Keep going\n",
    "\n",
    "In the final lesson, learn how to [**clean up inconsistent text entries**](https://www.kaggle.com/alexisbcook/inconsistent-data-entry) in your dataset."
   ]
  },
  {
   "cell_type": "markdown",
   "id": "e7139ce4",
   "metadata": {
    "papermill": {
     "duration": 0.004844,
     "end_time": "2023-12-18T07:29:52.712692",
     "exception": false,
     "start_time": "2023-12-18T07:29:52.707848",
     "status": "completed"
    },
    "tags": []
   },
   "source": [
    "---\n",
    "\n",
    "\n",
    "\n",
    "\n",
    "*Have questions or comments? Visit the [course discussion forum](https://www.kaggle.com/learn/data-cleaning/discussion) to chat with other learners.*"
   ]
  }
 ],
 "metadata": {
  "kaggle": {
   "accelerator": "none",
   "dataSources": [
    {
     "datasetId": 2647,
     "sourceId": 4395,
     "sourceType": "datasetVersion"
    }
   ],
   "isGpuEnabled": false,
   "isInternetEnabled": false,
   "language": "python",
   "sourceType": "notebook"
  },
  "kernelspec": {
   "display_name": "Python 3",
   "language": "python",
   "name": "python3"
  },
  "language_info": {
   "codemirror_mode": {
    "name": "ipython",
    "version": 3
   },
   "file_extension": ".py",
   "mimetype": "text/x-python",
   "name": "python",
   "nbconvert_exporter": "python",
   "pygments_lexer": "ipython3",
   "version": "3.10.12"
  },
  "papermill": {
   "default_parameters": {},
   "duration": 4.119331,
   "end_time": "2023-12-18T07:29:53.136188",
   "environment_variables": {},
   "exception": null,
   "input_path": "__notebook__.ipynb",
   "output_path": "__notebook__.ipynb",
   "parameters": {},
   "start_time": "2023-12-18T07:29:49.016857",
   "version": "2.4.0"
  }
 },
 "nbformat": 4,
 "nbformat_minor": 5
}
